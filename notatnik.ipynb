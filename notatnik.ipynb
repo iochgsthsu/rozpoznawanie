{
 "cells": [
  {
   "cell_type": "markdown",
   "metadata": {},
   "source": [
    "## Rozpoznawanie samochodów w czasie rzeczywistym z użyciem sieci neuronowych"
   ]
  },
  {
   "cell_type": "markdown",
   "metadata": {},
   "source": [
    "---"
   ]
  },
  {
   "cell_type": "markdown",
   "metadata": {},
   "source": [
    "W tym etapie użyje częściowo gotowego zbioru danych i użyje go do trenowania modelu. "
   ]
  },
  {
   "cell_type": "markdown",
   "metadata": {},
   "source": [
    "Użyty zbiór danych: https://www.kaggle.com/datasets/sshikamaru/car-object-detection/data"
   ]
  },
  {
   "cell_type": "markdown",
   "metadata": {},
   "source": [
    "Dane uczące wrzuciłem do katalogu \"samochody/images/train/\", testowe do \"samochody/images/train/\""
   ]
  },
  {
   "cell_type": "markdown",
   "metadata": {},
   "source": [
    "Użyta architektura : https://github.com/ultralytics/yolov5"
   ]
  },
  {
   "cell_type": "markdown",
   "metadata": {},
   "source": [
    "---"
   ]
  },
  {
   "cell_type": "markdown",
   "metadata": {},
   "source": [
    "### Zacznę od wczytania potrzebnych bibliotek"
   ]
  },
  {
   "cell_type": "code",
   "execution_count": 3,
   "metadata": {},
   "outputs": [],
   "source": [
    "import torch\n",
    "import pandas as pd\n",
    "import numpy as np\n",
    "from matplotlib import pyplot as plt\n",
    "import os\n",
    "from ultralytics import YOLO\n",
    "import PIL"
   ]
  },
  {
   "cell_type": "markdown",
   "metadata": {},
   "source": [
    "Na początku wczytam nowy, niewytrenowany model z architekturą YOLOv5s"
   ]
  },
  {
   "cell_type": "code",
   "execution_count": 10,
   "metadata": {},
   "outputs": [
    {
     "name": "stdout",
     "output_type": "stream",
     "text": [
      "# Ultralytics 🚀 AGPL-3.0 License - https://ultralytics.com/license\n",
      "\n",
      "# Parameters\n",
      "nc: 80 # number of classes\n",
      "depth_multiple: 0.33 # model depth multiple\n",
      "width_multiple: 0.50 # layer channel multiple\n",
      "anchors:\n",
      "  - [10, 13, 16, 30, 33, 23] # P3/8\n",
      "  - [30, 61, 62, 45, 59, 119] # P4/16\n",
      "  - [116, 90, 156, 198, 373, 326] # P5/32\n",
      "\n",
      "# YOLOv5 v6.0 backbone\n",
      "backbone:\n",
      "  # [from, number, module, args]\n",
      "  [\n",
      "    [-1, 1, Conv, [64, 6, 2, 2]], # 0-P1/2\n",
      "    [-1, 1, Conv, [128, 3, 2]], # 1-P2/4\n",
      "    [-1, 3, C3, [128]],\n",
      "    [-1, 1, Conv, [256, 3, 2]], # 3-P3/8\n",
      "    [-1, 6, C3, [256]],\n",
      "    [-1, 1, Conv, [512, 3, 2]], # 5-P4/16\n",
      "    [-1, 9, C3, [512]],\n",
      "    [-1, 1, Conv, [1024, 3, 2]], # 7-P5/32\n",
      "    [-1, 3, C3, [1024]],\n",
      "    [-1, 1, SPPF, [1024, 5]], # 9\n",
      "  ]\n",
      "\n",
      "# YOLOv5 v6.0 head\n",
      "head: [\n",
      "    [-1, 1, Conv, [512, 1, 1]],\n",
      "    [-1, 1, nn.Upsample, [None, 2, \"nearest\"]],\n",
      "    [[-1, 6], 1, Concat, [1]], # cat backbone P4\n",
      "    [-1, 3, C3, [512, False]], # 13\n",
      "\n",
      "    [-1, 1, Conv, [256, 1, 1]],\n",
      "    [-1, 1, nn.Upsample, [None, 2, \"nearest\"]],\n",
      "    [[-1, 4], 1, Concat, [1]], # cat backbone P3\n",
      "    [-1, 3, C3, [256, False]], # 17 (P3/8-small)\n",
      "\n",
      "    [-1, 1, Conv, [256, 3, 2]],\n",
      "    [[-1, 14], 1, Concat, [1]], # cat head P4\n",
      "    [-1, 3, C3, [512, False]], # 20 (P4/16-medium)\n",
      "\n",
      "    [-1, 1, Conv, [512, 3, 2]],\n",
      "    [[-1, 10], 1, Concat, [1]], # cat head P5\n",
      "    [-1, 3, C3, [1024, False]], # 23 (P5/32-large)\n",
      "\n",
      "    [[17, 20, 23], 1, Detect, [nc, anchors]], # Detect(P3, P4, P5)\n",
      "  ]\n",
      "\n"
     ]
    }
   ],
   "source": [
    "y = open('yolov5s.yaml', \"r\", encoding=\"utf-8\")\n",
    "print(y.read())\n",
    "y.close()\n",
    "\n",
    "model = YOLO(\"yolov5s.yaml\")"
   ]
  },
  {
   "cell_type": "markdown",
   "metadata": {},
   "source": [
    "Następnie musze przygotować zbiór danych w odpowiednim formacie do trenowania."
   ]
  },
  {
   "cell_type": "markdown",
   "metadata": {},
   "source": [
    "W tym przypadku bounding boxy dla danych uczących są gotowe, jedynie należy przeprowadzić transformację do odpowiedniego formatu."
   ]
  },
  {
   "cell_type": "code",
   "execution_count": 6,
   "metadata": {},
   "outputs": [
    {
     "data": {
      "text/html": [
       "<div>\n",
       "<style scoped>\n",
       "    .dataframe tbody tr th:only-of-type {\n",
       "        vertical-align: middle;\n",
       "    }\n",
       "\n",
       "    .dataframe tbody tr th {\n",
       "        vertical-align: top;\n",
       "    }\n",
       "\n",
       "    .dataframe thead th {\n",
       "        text-align: right;\n",
       "    }\n",
       "</style>\n",
       "<table border=\"1\" class=\"dataframe\">\n",
       "  <thead>\n",
       "    <tr style=\"text-align: right;\">\n",
       "      <th></th>\n",
       "      <th>image</th>\n",
       "      <th>xmin</th>\n",
       "      <th>ymin</th>\n",
       "      <th>xmax</th>\n",
       "      <th>ymax</th>\n",
       "    </tr>\n",
       "  </thead>\n",
       "  <tbody>\n",
       "    <tr>\n",
       "      <th>0</th>\n",
       "      <td>vid_4_1000.jpg</td>\n",
       "      <td>281.259045</td>\n",
       "      <td>187.035071</td>\n",
       "      <td>327.727931</td>\n",
       "      <td>223.225547</td>\n",
       "    </tr>\n",
       "    <tr>\n",
       "      <th>1</th>\n",
       "      <td>vid_4_10000.jpg</td>\n",
       "      <td>15.163531</td>\n",
       "      <td>187.035071</td>\n",
       "      <td>120.329957</td>\n",
       "      <td>236.430180</td>\n",
       "    </tr>\n",
       "    <tr>\n",
       "      <th>2</th>\n",
       "      <td>vid_4_10040.jpg</td>\n",
       "      <td>239.192475</td>\n",
       "      <td>176.764801</td>\n",
       "      <td>361.968162</td>\n",
       "      <td>236.430180</td>\n",
       "    </tr>\n",
       "    <tr>\n",
       "      <th>3</th>\n",
       "      <td>vid_4_10020.jpg</td>\n",
       "      <td>496.483358</td>\n",
       "      <td>172.363256</td>\n",
       "      <td>630.020260</td>\n",
       "      <td>231.539575</td>\n",
       "    </tr>\n",
       "    <tr>\n",
       "      <th>4</th>\n",
       "      <td>vid_4_10060.jpg</td>\n",
       "      <td>16.630970</td>\n",
       "      <td>186.546010</td>\n",
       "      <td>132.558611</td>\n",
       "      <td>238.386422</td>\n",
       "    </tr>\n",
       "  </tbody>\n",
       "</table>\n",
       "</div>"
      ],
      "text/plain": [
       "             image        xmin        ymin        xmax        ymax\n",
       "0   vid_4_1000.jpg  281.259045  187.035071  327.727931  223.225547\n",
       "1  vid_4_10000.jpg   15.163531  187.035071  120.329957  236.430180\n",
       "2  vid_4_10040.jpg  239.192475  176.764801  361.968162  236.430180\n",
       "3  vid_4_10020.jpg  496.483358  172.363256  630.020260  231.539575\n",
       "4  vid_4_10060.jpg   16.630970  186.546010  132.558611  238.386422"
      ]
     },
     "execution_count": 6,
     "metadata": {},
     "output_type": "execute_result"
    }
   ],
   "source": [
    "csv_path = \"samochody\\\\train_solution_bounding_boxes (1).csv\"\n",
    "df = pd.read_csv(csv_path)\n",
    "df.head()"
   ]
  },
  {
   "cell_type": "markdown",
   "metadata": {},
   "source": [
    "Dla danych uczących:"
   ]
  },
  {
   "cell_type": "code",
   "execution_count": null,
   "metadata": {},
   "outputs": [],
   "source": [
    "for _, row in df.iterrows():\n",
    "    it = \"/images/train/\"\n",
    "    lt = \"/labels/train/\"\n",
    "    image_path = \"samochody\" + it + row['image']\n",
    "    xmin, ymin, xmax, ymax = row[['xmin', 'ymin', 'xmax', 'ymax']]\n",
    "    \n",
    "    img = PIL.Image.open(image_path)\n",
    "    img_width, img_height = img.size\n",
    "    \n",
    "    x_center = ((xmin + xmax) / 2) / img_width\n",
    "    y_center = ((ymin + ymax) / 2) / img_height\n",
    "    width = (xmax - xmin) / img_width\n",
    "    height = (ymax - ymin) / img_height\n",
    "    \n",
    "    txt_path = \"samochody\" + lt + row['image'].split('.')[0] + \".txt\"\n",
    "    with open(txt_path, 'a') as f:\n",
    "        f.write(f\"{0} {x_center} {y_center} {width} {height}\\n\")"
   ]
  },
  {
   "cell_type": "markdown",
   "metadata": {},
   "source": [
    "Dla danych testowych bounding boxy stworzyłem używając label-studio, ponieważ nie ma ich w oryginalnym zbiorze."
   ]
  },
  {
   "cell_type": "markdown",
   "metadata": {},
   "source": [
    "Następnie tworze plik konfiguracyjny zbioru danych"
   ]
  },
  {
   "cell_type": "code",
   "execution_count": 9,
   "metadata": {},
   "outputs": [
    {
     "name": "stdout",
     "output_type": "stream",
     "text": [
      "# moj_dataset.yaml\n",
      "path: samochody/\n",
      "train: images/train/\n",
      "val: images/test/\n",
      "nc: 1  \n",
      "names: ['samochód']  # Nazwy klas\n"
     ]
    }
   ],
   "source": [
    "c = open('dataset.yaml', \"r\", encoding=\"utf-8\")\n",
    "print(c.read())\n",
    "c.close()"
   ]
  },
  {
   "cell_type": "markdown",
   "metadata": {},
   "source": [
    "Następnie przechodze do trenowania modelu"
   ]
  },
  {
   "cell_type": "code",
   "execution_count": null,
   "metadata": {},
   "outputs": [
    {
     "name": "stdout",
     "output_type": "stream",
     "text": [
      "Ultralytics 8.3.91  Python-3.12.8 torch-2.6.0+cu126 CUDA:0 (NVIDIA GeForce GTX 970, 4096MiB)\n",
      "\u001b[34m\u001b[1mengine\\trainer: \u001b[0mtask=detect, mode=train, model=yolov5s.yaml, data=dataset.yaml, epochs=10, time=None, patience=100, batch=8, imgsz=640, save=True, save_period=-1, cache=False, device=None, workers=8, project=None, name=train2, exist_ok=False, pretrained=True, optimizer=auto, verbose=True, seed=0, deterministic=True, single_cls=False, rect=False, cos_lr=False, close_mosaic=10, resume=False, amp=True, fraction=1.0, profile=False, freeze=None, multi_scale=False, overlap_mask=True, mask_ratio=4, dropout=0.0, val=True, split=val, save_json=False, save_hybrid=False, conf=None, iou=0.7, max_det=300, half=False, dnn=False, plots=True, source=None, vid_stride=1, stream_buffer=False, visualize=False, augment=False, agnostic_nms=False, classes=None, retina_masks=False, embed=None, show=False, save_frames=False, save_txt=False, save_conf=False, save_crop=False, show_labels=True, show_conf=True, show_boxes=True, line_width=None, format=torchscript, keras=False, optimize=False, int8=False, dynamic=False, simplify=True, opset=None, workspace=None, nms=False, lr0=0.01, lrf=0.01, momentum=0.937, weight_decay=0.0005, warmup_epochs=3.0, warmup_momentum=0.8, warmup_bias_lr=0.1, box=7.5, cls=0.5, dfl=1.5, pose=12.0, kobj=1.0, nbs=64, hsv_h=0.015, hsv_s=0.7, hsv_v=0.4, degrees=0.0, translate=0.1, scale=0.5, shear=0.0, perspective=0.0, flipud=0.0, fliplr=0.5, bgr=0.0, mosaic=1.0, mixup=0.0, copy_paste=0.0, copy_paste_mode=flip, auto_augment=randaugment, erasing=0.4, crop_fraction=1.0, cfg=None, tracker=botsort.yaml, save_dir=runs\\detect\\train2\n",
      "Overriding model.yaml nc=80 with nc=1\n",
      "\n",
      "                   from  n    params  module                                       arguments                     \n",
      "  0                  -1  1      3520  ultralytics.nn.modules.conv.Conv             [3, 32, 6, 2, 2]              \n",
      "  1                  -1  1     18560  ultralytics.nn.modules.conv.Conv             [32, 64, 3, 2]                \n",
      "  2                  -1  1     18816  ultralytics.nn.modules.block.C3              [64, 64, 1]                   \n",
      "  3                  -1  1     73984  ultralytics.nn.modules.conv.Conv             [64, 128, 3, 2]               \n",
      "  4                  -1  2    115712  ultralytics.nn.modules.block.C3              [128, 128, 2]                 \n",
      "  5                  -1  1    295424  ultralytics.nn.modules.conv.Conv             [128, 256, 3, 2]              \n",
      "  6                  -1  3    625152  ultralytics.nn.modules.block.C3              [256, 256, 3]                 \n",
      "  7                  -1  1   1180672  ultralytics.nn.modules.conv.Conv             [256, 512, 3, 2]              \n",
      "  8                  -1  1   1182720  ultralytics.nn.modules.block.C3              [512, 512, 1]                 \n",
      "  9                  -1  1    656896  ultralytics.nn.modules.block.SPPF            [512, 512, 5]                 \n",
      " 10                  -1  1    131584  ultralytics.nn.modules.conv.Conv             [512, 256, 1, 1]              \n",
      " 11                  -1  1         0  torch.nn.modules.upsampling.Upsample         [None, 2, 'nearest']          \n",
      " 12             [-1, 6]  1         0  ultralytics.nn.modules.conv.Concat           [1]                           \n",
      " 13                  -1  1    361984  ultralytics.nn.modules.block.C3              [512, 256, 1, False]          \n",
      " 14                  -1  1     33024  ultralytics.nn.modules.conv.Conv             [256, 128, 1, 1]              \n",
      " 15                  -1  1         0  torch.nn.modules.upsampling.Upsample         [None, 2, 'nearest']          \n",
      " 16             [-1, 4]  1         0  ultralytics.nn.modules.conv.Concat           [1]                           \n",
      " 17                  -1  1     90880  ultralytics.nn.modules.block.C3              [256, 128, 1, False]          \n",
      " 18                  -1  1    147712  ultralytics.nn.modules.conv.Conv             [128, 128, 3, 2]              \n",
      " 19            [-1, 14]  1         0  ultralytics.nn.modules.conv.Concat           [1]                           \n",
      " 20                  -1  1    296448  ultralytics.nn.modules.block.C3              [256, 256, 1, False]          \n",
      " 21                  -1  1    590336  ultralytics.nn.modules.conv.Conv             [256, 256, 3, 2]              \n",
      " 22            [-1, 10]  1         0  ultralytics.nn.modules.conv.Concat           [1]                           \n",
      " 23                  -1  1   1182720  ultralytics.nn.modules.block.C3              [512, 512, 1, False]          \n",
      " 24        [17, 20, 23]  1   2116435  ultralytics.nn.modules.head.Detect           [1, [128, 256, 512]]          \n",
      "YOLOv5s summary: 153 layers, 9,122,579 parameters, 9,122,563 gradients, 24.0 GFLOPs\n",
      "\n",
      "Freezing layer 'model.24.dfl.conv.weight'\n",
      "\u001b[34m\u001b[1mAMP: \u001b[0mrunning Automatic Mixed Precision (AMP) checks...\n",
      "\u001b[34m\u001b[1mAMP: \u001b[0mchecks passed \n"
     ]
    },
    {
     "name": "stderr",
     "output_type": "stream",
     "text": [
      "\u001b[34m\u001b[1mtrain: \u001b[0mScanning C:\\Users\\Adam\\Desktop\\venv\\pytorch\\samochody\\labels\\train.cache... 355 images, 646 backgrounds, 0 corrupt: 100%|██████████| 1001/1001 [00:00<?, ?it/s]"
     ]
    },
    {
     "name": "stdout",
     "output_type": "stream",
     "text": [
      "\u001b[34m\u001b[1mtrain: \u001b[0mWARNING  C:\\Users\\Adam\\Desktop\\venv\\pytorch\\samochody\\images\\train\\vid_4_1000.jpg: 2 duplicate labels removed\n",
      "\u001b[34m\u001b[1mtrain: \u001b[0mWARNING  C:\\Users\\Adam\\Desktop\\venv\\pytorch\\samochody\\images\\train\\vid_4_10000.jpg: 2 duplicate labels removed\n",
      "\u001b[34m\u001b[1mtrain: \u001b[0mWARNING  C:\\Users\\Adam\\Desktop\\venv\\pytorch\\samochody\\images\\train\\vid_4_10020.jpg: 2 duplicate labels removed\n",
      "\u001b[34m\u001b[1mtrain: \u001b[0mWARNING  C:\\Users\\Adam\\Desktop\\venv\\pytorch\\samochody\\images\\train\\vid_4_10040.jpg: 2 duplicate labels removed\n",
      "\u001b[34m\u001b[1mtrain: \u001b[0mWARNING  C:\\Users\\Adam\\Desktop\\venv\\pytorch\\samochody\\images\\train\\vid_4_10060.jpg: 2 duplicate labels removed\n",
      "\u001b[34m\u001b[1mtrain: \u001b[0mWARNING  C:\\Users\\Adam\\Desktop\\venv\\pytorch\\samochody\\images\\train\\vid_4_10100.jpg: 2 duplicate labels removed\n",
      "\u001b[34m\u001b[1mtrain: \u001b[0mWARNING  C:\\Users\\Adam\\Desktop\\venv\\pytorch\\samochody\\images\\train\\vid_4_10120.jpg: 2 duplicate labels removed\n",
      "\u001b[34m\u001b[1mtrain: \u001b[0mWARNING  C:\\Users\\Adam\\Desktop\\venv\\pytorch\\samochody\\images\\train\\vid_4_10140.jpg: 2 duplicate labels removed\n",
      "\u001b[34m\u001b[1mtrain: \u001b[0mWARNING  C:\\Users\\Adam\\Desktop\\venv\\pytorch\\samochody\\images\\train\\vid_4_1020.jpg: 2 duplicate labels removed\n",
      "\u001b[34m\u001b[1mtrain: \u001b[0mWARNING  C:\\Users\\Adam\\Desktop\\venv\\pytorch\\samochody\\images\\train\\vid_4_1040.jpg: 2 duplicate labels removed\n",
      "\u001b[34m\u001b[1mtrain: \u001b[0mWARNING  C:\\Users\\Adam\\Desktop\\venv\\pytorch\\samochody\\images\\train\\vid_4_10480.jpg: 2 duplicate labels removed\n",
      "\u001b[34m\u001b[1mtrain: \u001b[0mWARNING  C:\\Users\\Adam\\Desktop\\venv\\pytorch\\samochody\\images\\train\\vid_4_10500.jpg: 2 duplicate labels removed\n",
      "\u001b[34m\u001b[1mtrain: \u001b[0mWARNING  C:\\Users\\Adam\\Desktop\\venv\\pytorch\\samochody\\images\\train\\vid_4_10520.jpg: 2 duplicate labels removed\n",
      "\u001b[34m\u001b[1mtrain: \u001b[0mWARNING  C:\\Users\\Adam\\Desktop\\venv\\pytorch\\samochody\\images\\train\\vid_4_1060.jpg: 2 duplicate labels removed\n",
      "\u001b[34m\u001b[1mtrain: \u001b[0mWARNING  C:\\Users\\Adam\\Desktop\\venv\\pytorch\\samochody\\images\\train\\vid_4_10960.jpg: 2 duplicate labels removed\n",
      "\u001b[34m\u001b[1mtrain: \u001b[0mWARNING  C:\\Users\\Adam\\Desktop\\venv\\pytorch\\samochody\\images\\train\\vid_4_10980.jpg: 2 duplicate labels removed\n",
      "\u001b[34m\u001b[1mtrain: \u001b[0mWARNING  C:\\Users\\Adam\\Desktop\\venv\\pytorch\\samochody\\images\\train\\vid_4_11000.jpg: 2 duplicate labels removed\n",
      "\u001b[34m\u001b[1mtrain: \u001b[0mWARNING  C:\\Users\\Adam\\Desktop\\venv\\pytorch\\samochody\\images\\train\\vid_4_11020.jpg: 2 duplicate labels removed\n",
      "\u001b[34m\u001b[1mtrain: \u001b[0mWARNING  C:\\Users\\Adam\\Desktop\\venv\\pytorch\\samochody\\images\\train\\vid_4_11240.jpg: 2 duplicate labels removed\n",
      "\u001b[34m\u001b[1mtrain: \u001b[0mWARNING  C:\\Users\\Adam\\Desktop\\venv\\pytorch\\samochody\\images\\train\\vid_4_11260.jpg: 2 duplicate labels removed\n",
      "\u001b[34m\u001b[1mtrain: \u001b[0mWARNING  C:\\Users\\Adam\\Desktop\\venv\\pytorch\\samochody\\images\\train\\vid_4_11280.jpg: 2 duplicate labels removed\n",
      "\u001b[34m\u001b[1mtrain: \u001b[0mWARNING  C:\\Users\\Adam\\Desktop\\venv\\pytorch\\samochody\\images\\train\\vid_4_11380.jpg: 2 duplicate labels removed\n",
      "\u001b[34m\u001b[1mtrain: \u001b[0mWARNING  C:\\Users\\Adam\\Desktop\\venv\\pytorch\\samochody\\images\\train\\vid_4_11400.jpg: 2 duplicate labels removed\n",
      "\u001b[34m\u001b[1mtrain: \u001b[0mWARNING  C:\\Users\\Adam\\Desktop\\venv\\pytorch\\samochody\\images\\train\\vid_4_11420.jpg: 2 duplicate labels removed\n",
      "\u001b[34m\u001b[1mtrain: \u001b[0mWARNING  C:\\Users\\Adam\\Desktop\\venv\\pytorch\\samochody\\images\\train\\vid_4_11440.jpg: 2 duplicate labels removed\n",
      "\u001b[34m\u001b[1mtrain: \u001b[0mWARNING  C:\\Users\\Adam\\Desktop\\venv\\pytorch\\samochody\\images\\train\\vid_4_11880.jpg: 2 duplicate labels removed\n",
      "\u001b[34m\u001b[1mtrain: \u001b[0mWARNING  C:\\Users\\Adam\\Desktop\\venv\\pytorch\\samochody\\images\\train\\vid_4_11900.jpg: 2 duplicate labels removed\n",
      "\u001b[34m\u001b[1mtrain: \u001b[0mWARNING  C:\\Users\\Adam\\Desktop\\venv\\pytorch\\samochody\\images\\train\\vid_4_11920.jpg: 2 duplicate labels removed\n",
      "\u001b[34m\u001b[1mtrain: \u001b[0mWARNING  C:\\Users\\Adam\\Desktop\\venv\\pytorch\\samochody\\images\\train\\vid_4_11940.jpg: 2 duplicate labels removed\n",
      "\u001b[34m\u001b[1mtrain: \u001b[0mWARNING  C:\\Users\\Adam\\Desktop\\venv\\pytorch\\samochody\\images\\train\\vid_4_11960.jpg: 2 duplicate labels removed\n",
      "\u001b[34m\u001b[1mtrain: \u001b[0mWARNING  C:\\Users\\Adam\\Desktop\\venv\\pytorch\\samochody\\images\\train\\vid_4_11980.jpg: 2 duplicate labels removed\n",
      "\u001b[34m\u001b[1mtrain: \u001b[0mWARNING  C:\\Users\\Adam\\Desktop\\venv\\pytorch\\samochody\\images\\train\\vid_4_12000.jpg: 2 duplicate labels removed\n",
      "\u001b[34m\u001b[1mtrain: \u001b[0mWARNING  C:\\Users\\Adam\\Desktop\\venv\\pytorch\\samochody\\images\\train\\vid_4_12040.jpg: 2 duplicate labels removed\n",
      "\u001b[34m\u001b[1mtrain: \u001b[0mWARNING  C:\\Users\\Adam\\Desktop\\venv\\pytorch\\samochody\\images\\train\\vid_4_12060.jpg: 2 duplicate labels removed\n",
      "\u001b[34m\u001b[1mtrain: \u001b[0mWARNING  C:\\Users\\Adam\\Desktop\\venv\\pytorch\\samochody\\images\\train\\vid_4_12080.jpg: 2 duplicate labels removed\n",
      "\u001b[34m\u001b[1mtrain: \u001b[0mWARNING  C:\\Users\\Adam\\Desktop\\venv\\pytorch\\samochody\\images\\train\\vid_4_12100.jpg: 2 duplicate labels removed\n",
      "\u001b[34m\u001b[1mtrain: \u001b[0mWARNING  C:\\Users\\Adam\\Desktop\\venv\\pytorch\\samochody\\images\\train\\vid_4_12120.jpg: 2 duplicate labels removed\n",
      "\u001b[34m\u001b[1mtrain: \u001b[0mWARNING  C:\\Users\\Adam\\Desktop\\venv\\pytorch\\samochody\\images\\train\\vid_4_12140.jpg: 4 duplicate labels removed\n",
      "\u001b[34m\u001b[1mtrain: \u001b[0mWARNING  C:\\Users\\Adam\\Desktop\\venv\\pytorch\\samochody\\images\\train\\vid_4_12160.jpg: 6 duplicate labels removed\n",
      "\u001b[34m\u001b[1mtrain: \u001b[0mWARNING  C:\\Users\\Adam\\Desktop\\venv\\pytorch\\samochody\\images\\train\\vid_4_12180.jpg: 6 duplicate labels removed\n",
      "\u001b[34m\u001b[1mtrain: \u001b[0mWARNING  C:\\Users\\Adam\\Desktop\\venv\\pytorch\\samochody\\images\\train\\vid_4_12200.jpg: 4 duplicate labels removed\n",
      "\u001b[34m\u001b[1mtrain: \u001b[0mWARNING  C:\\Users\\Adam\\Desktop\\venv\\pytorch\\samochody\\images\\train\\vid_4_12220.jpg: 2 duplicate labels removed\n",
      "\u001b[34m\u001b[1mtrain: \u001b[0mWARNING  C:\\Users\\Adam\\Desktop\\venv\\pytorch\\samochody\\images\\train\\vid_4_12240.jpg: 4 duplicate labels removed\n",
      "\u001b[34m\u001b[1mtrain: \u001b[0mWARNING  C:\\Users\\Adam\\Desktop\\venv\\pytorch\\samochody\\images\\train\\vid_4_12260.jpg: 4 duplicate labels removed\n",
      "\u001b[34m\u001b[1mtrain: \u001b[0mWARNING  C:\\Users\\Adam\\Desktop\\venv\\pytorch\\samochody\\images\\train\\vid_4_12280.jpg: 4 duplicate labels removed\n",
      "\u001b[34m\u001b[1mtrain: \u001b[0mWARNING  C:\\Users\\Adam\\Desktop\\venv\\pytorch\\samochody\\images\\train\\vid_4_12300.jpg: 8 duplicate labels removed\n",
      "\u001b[34m\u001b[1mtrain: \u001b[0mWARNING  C:\\Users\\Adam\\Desktop\\venv\\pytorch\\samochody\\images\\train\\vid_4_12320.jpg: 6 duplicate labels removed\n",
      "\u001b[34m\u001b[1mtrain: \u001b[0mWARNING  C:\\Users\\Adam\\Desktop\\venv\\pytorch\\samochody\\images\\train\\vid_4_12340.jpg: 6 duplicate labels removed\n",
      "\u001b[34m\u001b[1mtrain: \u001b[0mWARNING  C:\\Users\\Adam\\Desktop\\venv\\pytorch\\samochody\\images\\train\\vid_4_12360.jpg: 4 duplicate labels removed\n",
      "\u001b[34m\u001b[1mtrain: \u001b[0mWARNING  C:\\Users\\Adam\\Desktop\\venv\\pytorch\\samochody\\images\\train\\vid_4_12380.jpg: 2 duplicate labels removed\n",
      "\u001b[34m\u001b[1mtrain: \u001b[0mWARNING  C:\\Users\\Adam\\Desktop\\venv\\pytorch\\samochody\\images\\train\\vid_4_12480.jpg: 2 duplicate labels removed\n",
      "\u001b[34m\u001b[1mtrain: \u001b[0mWARNING  C:\\Users\\Adam\\Desktop\\venv\\pytorch\\samochody\\images\\train\\vid_4_13580.jpg: 2 duplicate labels removed\n",
      "\u001b[34m\u001b[1mtrain: \u001b[0mWARNING  C:\\Users\\Adam\\Desktop\\venv\\pytorch\\samochody\\images\\train\\vid_4_13620.jpg: 2 duplicate labels removed\n",
      "\u001b[34m\u001b[1mtrain: \u001b[0mWARNING  C:\\Users\\Adam\\Desktop\\venv\\pytorch\\samochody\\images\\train\\vid_4_13640.jpg: 4 duplicate labels removed\n",
      "\u001b[34m\u001b[1mtrain: \u001b[0mWARNING  C:\\Users\\Adam\\Desktop\\venv\\pytorch\\samochody\\images\\train\\vid_4_13660.jpg: 4 duplicate labels removed\n",
      "\u001b[34m\u001b[1mtrain: \u001b[0mWARNING  C:\\Users\\Adam\\Desktop\\venv\\pytorch\\samochody\\images\\train\\vid_4_13680.jpg: 6 duplicate labels removed\n",
      "\u001b[34m\u001b[1mtrain: \u001b[0mWARNING  C:\\Users\\Adam\\Desktop\\venv\\pytorch\\samochody\\images\\train\\vid_4_13700.jpg: 8 duplicate labels removed\n",
      "\u001b[34m\u001b[1mtrain: \u001b[0mWARNING  C:\\Users\\Adam\\Desktop\\venv\\pytorch\\samochody\\images\\train\\vid_4_13720.jpg: 6 duplicate labels removed\n",
      "\u001b[34m\u001b[1mtrain: \u001b[0mWARNING  C:\\Users\\Adam\\Desktop\\venv\\pytorch\\samochody\\images\\train\\vid_4_13740.jpg: 4 duplicate labels removed\n",
      "\u001b[34m\u001b[1mtrain: \u001b[0mWARNING  C:\\Users\\Adam\\Desktop\\venv\\pytorch\\samochody\\images\\train\\vid_4_13760.jpg: 6 duplicate labels removed\n",
      "\u001b[34m\u001b[1mtrain: \u001b[0mWARNING  C:\\Users\\Adam\\Desktop\\venv\\pytorch\\samochody\\images\\train\\vid_4_13780.jpg: 4 duplicate labels removed\n",
      "\u001b[34m\u001b[1mtrain: \u001b[0mWARNING  C:\\Users\\Adam\\Desktop\\venv\\pytorch\\samochody\\images\\train\\vid_4_13800.jpg: 4 duplicate labels removed\n",
      "\u001b[34m\u001b[1mtrain: \u001b[0mWARNING  C:\\Users\\Adam\\Desktop\\venv\\pytorch\\samochody\\images\\train\\vid_4_13820.jpg: 6 duplicate labels removed\n",
      "\u001b[34m\u001b[1mtrain: \u001b[0mWARNING  C:\\Users\\Adam\\Desktop\\venv\\pytorch\\samochody\\images\\train\\vid_4_13840.jpg: 4 duplicate labels removed\n",
      "\u001b[34m\u001b[1mtrain: \u001b[0mWARNING  C:\\Users\\Adam\\Desktop\\venv\\pytorch\\samochody\\images\\train\\vid_4_13860.jpg: 6 duplicate labels removed\n",
      "\u001b[34m\u001b[1mtrain: \u001b[0mWARNING  C:\\Users\\Adam\\Desktop\\venv\\pytorch\\samochody\\images\\train\\vid_4_13880.jpg: 4 duplicate labels removed\n",
      "\u001b[34m\u001b[1mtrain: \u001b[0mWARNING  C:\\Users\\Adam\\Desktop\\venv\\pytorch\\samochody\\images\\train\\vid_4_13900.jpg: 2 duplicate labels removed\n",
      "\u001b[34m\u001b[1mtrain: \u001b[0mWARNING  C:\\Users\\Adam\\Desktop\\venv\\pytorch\\samochody\\images\\train\\vid_4_13920.jpg: 2 duplicate labels removed\n",
      "\u001b[34m\u001b[1mtrain: \u001b[0mWARNING  C:\\Users\\Adam\\Desktop\\venv\\pytorch\\samochody\\images\\train\\vid_4_14140.jpg: 2 duplicate labels removed\n",
      "\u001b[34m\u001b[1mtrain: \u001b[0mWARNING  C:\\Users\\Adam\\Desktop\\venv\\pytorch\\samochody\\images\\train\\vid_4_14160.jpg: 2 duplicate labels removed\n",
      "\u001b[34m\u001b[1mtrain: \u001b[0mWARNING  C:\\Users\\Adam\\Desktop\\venv\\pytorch\\samochody\\images\\train\\vid_4_14340.jpg: 2 duplicate labels removed\n",
      "\u001b[34m\u001b[1mtrain: \u001b[0mWARNING  C:\\Users\\Adam\\Desktop\\venv\\pytorch\\samochody\\images\\train\\vid_4_14360.jpg: 2 duplicate labels removed\n",
      "\u001b[34m\u001b[1mtrain: \u001b[0mWARNING  C:\\Users\\Adam\\Desktop\\venv\\pytorch\\samochody\\images\\train\\vid_4_14380.jpg: 2 duplicate labels removed\n",
      "\u001b[34m\u001b[1mtrain: \u001b[0mWARNING  C:\\Users\\Adam\\Desktop\\venv\\pytorch\\samochody\\images\\train\\vid_4_14400.jpg: 2 duplicate labels removed\n",
      "\u001b[34m\u001b[1mtrain: \u001b[0mWARNING  C:\\Users\\Adam\\Desktop\\venv\\pytorch\\samochody\\images\\train\\vid_4_14440.jpg: 2 duplicate labels removed\n",
      "\u001b[34m\u001b[1mtrain: \u001b[0mWARNING  C:\\Users\\Adam\\Desktop\\venv\\pytorch\\samochody\\images\\train\\vid_4_14460.jpg: 2 duplicate labels removed\n",
      "\u001b[34m\u001b[1mtrain: \u001b[0mWARNING  C:\\Users\\Adam\\Desktop\\venv\\pytorch\\samochody\\images\\train\\vid_4_14480.jpg: 2 duplicate labels removed\n",
      "\u001b[34m\u001b[1mtrain: \u001b[0mWARNING  C:\\Users\\Adam\\Desktop\\venv\\pytorch\\samochody\\images\\train\\vid_4_14500.jpg: 2 duplicate labels removed\n",
      "\u001b[34m\u001b[1mtrain: \u001b[0mWARNING  C:\\Users\\Adam\\Desktop\\venv\\pytorch\\samochody\\images\\train\\vid_4_15000.jpg: 2 duplicate labels removed\n",
      "\u001b[34m\u001b[1mtrain: \u001b[0mWARNING  C:\\Users\\Adam\\Desktop\\venv\\pytorch\\samochody\\images\\train\\vid_4_15020.jpg: 2 duplicate labels removed\n",
      "\u001b[34m\u001b[1mtrain: \u001b[0mWARNING  C:\\Users\\Adam\\Desktop\\venv\\pytorch\\samochody\\images\\train\\vid_4_15040.jpg: 2 duplicate labels removed\n",
      "\u001b[34m\u001b[1mtrain: \u001b[0mWARNING  C:\\Users\\Adam\\Desktop\\venv\\pytorch\\samochody\\images\\train\\vid_4_16000.jpg: 2 duplicate labels removed\n",
      "\u001b[34m\u001b[1mtrain: \u001b[0mWARNING  C:\\Users\\Adam\\Desktop\\venv\\pytorch\\samochody\\images\\train\\vid_4_16020.jpg: 2 duplicate labels removed\n",
      "\u001b[34m\u001b[1mtrain: \u001b[0mWARNING  C:\\Users\\Adam\\Desktop\\venv\\pytorch\\samochody\\images\\train\\vid_4_16040.jpg: 2 duplicate labels removed\n",
      "\u001b[34m\u001b[1mtrain: \u001b[0mWARNING  C:\\Users\\Adam\\Desktop\\venv\\pytorch\\samochody\\images\\train\\vid_4_16060.jpg: 2 duplicate labels removed\n",
      "\u001b[34m\u001b[1mtrain: \u001b[0mWARNING  C:\\Users\\Adam\\Desktop\\venv\\pytorch\\samochody\\images\\train\\vid_4_16100.jpg: 2 duplicate labels removed\n",
      "\u001b[34m\u001b[1mtrain: \u001b[0mWARNING  C:\\Users\\Adam\\Desktop\\venv\\pytorch\\samochody\\images\\train\\vid_4_16120.jpg: 2 duplicate labels removed\n",
      "\u001b[34m\u001b[1mtrain: \u001b[0mWARNING  C:\\Users\\Adam\\Desktop\\venv\\pytorch\\samochody\\images\\train\\vid_4_16140.jpg: 2 duplicate labels removed\n",
      "\u001b[34m\u001b[1mtrain: \u001b[0mWARNING  C:\\Users\\Adam\\Desktop\\venv\\pytorch\\samochody\\images\\train\\vid_4_16160.jpg: 2 duplicate labels removed\n",
      "\u001b[34m\u001b[1mtrain: \u001b[0mWARNING  C:\\Users\\Adam\\Desktop\\venv\\pytorch\\samochody\\images\\train\\vid_4_16180.jpg: 2 duplicate labels removed\n",
      "\u001b[34m\u001b[1mtrain: \u001b[0mWARNING  C:\\Users\\Adam\\Desktop\\venv\\pytorch\\samochody\\images\\train\\vid_4_16280.jpg: 2 duplicate labels removed\n",
      "\u001b[34m\u001b[1mtrain: \u001b[0mWARNING  C:\\Users\\Adam\\Desktop\\venv\\pytorch\\samochody\\images\\train\\vid_4_16300.jpg: 2 duplicate labels removed\n",
      "\u001b[34m\u001b[1mtrain: \u001b[0mWARNING  C:\\Users\\Adam\\Desktop\\venv\\pytorch\\samochody\\images\\train\\vid_4_16320.jpg: 2 duplicate labels removed\n",
      "\u001b[34m\u001b[1mtrain: \u001b[0mWARNING  C:\\Users\\Adam\\Desktop\\venv\\pytorch\\samochody\\images\\train\\vid_4_16400.jpg: 2 duplicate labels removed\n",
      "\u001b[34m\u001b[1mtrain: \u001b[0mWARNING  C:\\Users\\Adam\\Desktop\\venv\\pytorch\\samochody\\images\\train\\vid_4_16420.jpg: 2 duplicate labels removed\n",
      "\u001b[34m\u001b[1mtrain: \u001b[0mWARNING  C:\\Users\\Adam\\Desktop\\venv\\pytorch\\samochody\\images\\train\\vid_4_16500.jpg: 2 duplicate labels removed\n",
      "\u001b[34m\u001b[1mtrain: \u001b[0mWARNING  C:\\Users\\Adam\\Desktop\\venv\\pytorch\\samochody\\images\\train\\vid_4_16660.jpg: 2 duplicate labels removed\n",
      "\u001b[34m\u001b[1mtrain: \u001b[0mWARNING  C:\\Users\\Adam\\Desktop\\venv\\pytorch\\samochody\\images\\train\\vid_4_16680.jpg: 2 duplicate labels removed\n",
      "\u001b[34m\u001b[1mtrain: \u001b[0mWARNING  C:\\Users\\Adam\\Desktop\\venv\\pytorch\\samochody\\images\\train\\vid_4_16700.jpg: 2 duplicate labels removed\n",
      "\u001b[34m\u001b[1mtrain: \u001b[0mWARNING  C:\\Users\\Adam\\Desktop\\venv\\pytorch\\samochody\\images\\train\\vid_4_16720.jpg: 2 duplicate labels removed\n",
      "\u001b[34m\u001b[1mtrain: \u001b[0mWARNING  C:\\Users\\Adam\\Desktop\\venv\\pytorch\\samochody\\images\\train\\vid_4_17040.jpg: 2 duplicate labels removed\n",
      "\u001b[34m\u001b[1mtrain: \u001b[0mWARNING  C:\\Users\\Adam\\Desktop\\venv\\pytorch\\samochody\\images\\train\\vid_4_17060.jpg: 2 duplicate labels removed\n",
      "\u001b[34m\u001b[1mtrain: \u001b[0mWARNING  C:\\Users\\Adam\\Desktop\\venv\\pytorch\\samochody\\images\\train\\vid_4_17080.jpg: 2 duplicate labels removed\n",
      "\u001b[34m\u001b[1mtrain: \u001b[0mWARNING  C:\\Users\\Adam\\Desktop\\venv\\pytorch\\samochody\\images\\train\\vid_4_17100.jpg: 2 duplicate labels removed\n",
      "\u001b[34m\u001b[1mtrain: \u001b[0mWARNING  C:\\Users\\Adam\\Desktop\\venv\\pytorch\\samochody\\images\\train\\vid_4_17120.jpg: 2 duplicate labels removed\n",
      "\u001b[34m\u001b[1mtrain: \u001b[0mWARNING  C:\\Users\\Adam\\Desktop\\venv\\pytorch\\samochody\\images\\train\\vid_4_17140.jpg: 4 duplicate labels removed\n",
      "\u001b[34m\u001b[1mtrain: \u001b[0mWARNING  C:\\Users\\Adam\\Desktop\\venv\\pytorch\\samochody\\images\\train\\vid_4_17160.jpg: 2 duplicate labels removed\n",
      "\u001b[34m\u001b[1mtrain: \u001b[0mWARNING  C:\\Users\\Adam\\Desktop\\venv\\pytorch\\samochody\\images\\train\\vid_4_17180.jpg: 2 duplicate labels removed\n",
      "\u001b[34m\u001b[1mtrain: \u001b[0mWARNING  C:\\Users\\Adam\\Desktop\\venv\\pytorch\\samochody\\images\\train\\vid_4_17240.jpg: 2 duplicate labels removed\n",
      "\u001b[34m\u001b[1mtrain: \u001b[0mWARNING  C:\\Users\\Adam\\Desktop\\venv\\pytorch\\samochody\\images\\train\\vid_4_17260.jpg: 2 duplicate labels removed\n",
      "\u001b[34m\u001b[1mtrain: \u001b[0mWARNING  C:\\Users\\Adam\\Desktop\\venv\\pytorch\\samochody\\images\\train\\vid_4_17320.jpg: 2 duplicate labels removed\n",
      "\u001b[34m\u001b[1mtrain: \u001b[0mWARNING  C:\\Users\\Adam\\Desktop\\venv\\pytorch\\samochody\\images\\train\\vid_4_17340.jpg: 4 duplicate labels removed\n",
      "\u001b[34m\u001b[1mtrain: \u001b[0mWARNING  C:\\Users\\Adam\\Desktop\\venv\\pytorch\\samochody\\images\\train\\vid_4_17360.jpg: 2 duplicate labels removed\n",
      "\u001b[34m\u001b[1mtrain: \u001b[0mWARNING  C:\\Users\\Adam\\Desktop\\venv\\pytorch\\samochody\\images\\train\\vid_4_17400.jpg: 2 duplicate labels removed\n",
      "\u001b[34m\u001b[1mtrain: \u001b[0mWARNING  C:\\Users\\Adam\\Desktop\\venv\\pytorch\\samochody\\images\\train\\vid_4_17420.jpg: 2 duplicate labels removed\n",
      "\u001b[34m\u001b[1mtrain: \u001b[0mWARNING  C:\\Users\\Adam\\Desktop\\venv\\pytorch\\samochody\\images\\train\\vid_4_17440.jpg: 2 duplicate labels removed\n",
      "\u001b[34m\u001b[1mtrain: \u001b[0mWARNING  C:\\Users\\Adam\\Desktop\\venv\\pytorch\\samochody\\images\\train\\vid_4_17540.jpg: 4 duplicate labels removed\n",
      "\u001b[34m\u001b[1mtrain: \u001b[0mWARNING  C:\\Users\\Adam\\Desktop\\venv\\pytorch\\samochody\\images\\train\\vid_4_17560.jpg: 6 duplicate labels removed\n",
      "\u001b[34m\u001b[1mtrain: \u001b[0mWARNING  C:\\Users\\Adam\\Desktop\\venv\\pytorch\\samochody\\images\\train\\vid_4_17580.jpg: 4 duplicate labels removed\n",
      "\u001b[34m\u001b[1mtrain: \u001b[0mWARNING  C:\\Users\\Adam\\Desktop\\venv\\pytorch\\samochody\\images\\train\\vid_4_1760.jpg: 2 duplicate labels removed\n",
      "\u001b[34m\u001b[1mtrain: \u001b[0mWARNING  C:\\Users\\Adam\\Desktop\\venv\\pytorch\\samochody\\images\\train\\vid_4_17600.jpg: 2 duplicate labels removed\n",
      "\u001b[34m\u001b[1mtrain: \u001b[0mWARNING  C:\\Users\\Adam\\Desktop\\venv\\pytorch\\samochody\\images\\train\\vid_4_17620.jpg: 4 duplicate labels removed\n",
      "\u001b[34m\u001b[1mtrain: \u001b[0mWARNING  C:\\Users\\Adam\\Desktop\\venv\\pytorch\\samochody\\images\\train\\vid_4_17640.jpg: 4 duplicate labels removed\n",
      "\u001b[34m\u001b[1mtrain: \u001b[0mWARNING  C:\\Users\\Adam\\Desktop\\venv\\pytorch\\samochody\\images\\train\\vid_4_17660.jpg: 4 duplicate labels removed\n",
      "\u001b[34m\u001b[1mtrain: \u001b[0mWARNING  C:\\Users\\Adam\\Desktop\\venv\\pytorch\\samochody\\images\\train\\vid_4_17680.jpg: 2 duplicate labels removed\n",
      "\u001b[34m\u001b[1mtrain: \u001b[0mWARNING  C:\\Users\\Adam\\Desktop\\venv\\pytorch\\samochody\\images\\train\\vid_4_1780.jpg: 4 duplicate labels removed\n",
      "\u001b[34m\u001b[1mtrain: \u001b[0mWARNING  C:\\Users\\Adam\\Desktop\\venv\\pytorch\\samochody\\images\\train\\vid_4_1800.jpg: 6 duplicate labels removed\n",
      "\u001b[34m\u001b[1mtrain: \u001b[0mWARNING  C:\\Users\\Adam\\Desktop\\venv\\pytorch\\samochody\\images\\train\\vid_4_18180.jpg: 2 duplicate labels removed\n",
      "\u001b[34m\u001b[1mtrain: \u001b[0mWARNING  C:\\Users\\Adam\\Desktop\\venv\\pytorch\\samochody\\images\\train\\vid_4_1820.jpg: 4 duplicate labels removed\n",
      "\u001b[34m\u001b[1mtrain: \u001b[0mWARNING  C:\\Users\\Adam\\Desktop\\venv\\pytorch\\samochody\\images\\train\\vid_4_18200.jpg: 2 duplicate labels removed\n",
      "\u001b[34m\u001b[1mtrain: \u001b[0mWARNING  C:\\Users\\Adam\\Desktop\\venv\\pytorch\\samochody\\images\\train\\vid_4_18320.jpg: 2 duplicate labels removed\n",
      "\u001b[34m\u001b[1mtrain: \u001b[0mWARNING  C:\\Users\\Adam\\Desktop\\venv\\pytorch\\samochody\\images\\train\\vid_4_18340.jpg: 2 duplicate labels removed\n",
      "\u001b[34m\u001b[1mtrain: \u001b[0mWARNING  C:\\Users\\Adam\\Desktop\\venv\\pytorch\\samochody\\images\\train\\vid_4_18360.jpg: 2 duplicate labels removed\n",
      "\u001b[34m\u001b[1mtrain: \u001b[0mWARNING  C:\\Users\\Adam\\Desktop\\venv\\pytorch\\samochody\\images\\train\\vid_4_1840.jpg: 4 duplicate labels removed\n",
      "\u001b[34m\u001b[1mtrain: \u001b[0mWARNING  C:\\Users\\Adam\\Desktop\\venv\\pytorch\\samochody\\images\\train\\vid_4_1860.jpg: 6 duplicate labels removed\n",
      "\u001b[34m\u001b[1mtrain: \u001b[0mWARNING  C:\\Users\\Adam\\Desktop\\venv\\pytorch\\samochody\\images\\train\\vid_4_1880.jpg: 6 duplicate labels removed\n",
      "\u001b[34m\u001b[1mtrain: \u001b[0mWARNING  C:\\Users\\Adam\\Desktop\\venv\\pytorch\\samochody\\images\\train\\vid_4_18820.jpg: 2 duplicate labels removed\n",
      "\u001b[34m\u001b[1mtrain: \u001b[0mWARNING  C:\\Users\\Adam\\Desktop\\venv\\pytorch\\samochody\\images\\train\\vid_4_18840.jpg: 2 duplicate labels removed\n",
      "\u001b[34m\u001b[1mtrain: \u001b[0mWARNING  C:\\Users\\Adam\\Desktop\\venv\\pytorch\\samochody\\images\\train\\vid_4_18860.jpg: 4 duplicate labels removed\n",
      "\u001b[34m\u001b[1mtrain: \u001b[0mWARNING  C:\\Users\\Adam\\Desktop\\venv\\pytorch\\samochody\\images\\train\\vid_4_18880.jpg: 2 duplicate labels removed\n",
      "\u001b[34m\u001b[1mtrain: \u001b[0mWARNING  C:\\Users\\Adam\\Desktop\\venv\\pytorch\\samochody\\images\\train\\vid_4_1900.jpg: 2 duplicate labels removed\n",
      "\u001b[34m\u001b[1mtrain: \u001b[0mWARNING  C:\\Users\\Adam\\Desktop\\venv\\pytorch\\samochody\\images\\train\\vid_4_19040.jpg: 2 duplicate labels removed\n",
      "\u001b[34m\u001b[1mtrain: \u001b[0mWARNING  C:\\Users\\Adam\\Desktop\\venv\\pytorch\\samochody\\images\\train\\vid_4_19060.jpg: 2 duplicate labels removed\n",
      "\u001b[34m\u001b[1mtrain: \u001b[0mWARNING  C:\\Users\\Adam\\Desktop\\venv\\pytorch\\samochody\\images\\train\\vid_4_19080.jpg: 2 duplicate labels removed\n",
      "\u001b[34m\u001b[1mtrain: \u001b[0mWARNING  C:\\Users\\Adam\\Desktop\\venv\\pytorch\\samochody\\images\\train\\vid_4_1920.jpg: 4 duplicate labels removed\n",
      "\u001b[34m\u001b[1mtrain: \u001b[0mWARNING  C:\\Users\\Adam\\Desktop\\venv\\pytorch\\samochody\\images\\train\\vid_4_1940.jpg: 4 duplicate labels removed\n",
      "\u001b[34m\u001b[1mtrain: \u001b[0mWARNING  C:\\Users\\Adam\\Desktop\\venv\\pytorch\\samochody\\images\\train\\vid_4_1960.jpg: 4 duplicate labels removed\n",
      "\u001b[34m\u001b[1mtrain: \u001b[0mWARNING  C:\\Users\\Adam\\Desktop\\venv\\pytorch\\samochody\\images\\train\\vid_4_19740.jpg: 2 duplicate labels removed\n",
      "\u001b[34m\u001b[1mtrain: \u001b[0mWARNING  C:\\Users\\Adam\\Desktop\\venv\\pytorch\\samochody\\images\\train\\vid_4_19760.jpg: 2 duplicate labels removed\n",
      "\u001b[34m\u001b[1mtrain: \u001b[0mWARNING  C:\\Users\\Adam\\Desktop\\venv\\pytorch\\samochody\\images\\train\\vid_4_19780.jpg: 2 duplicate labels removed\n",
      "\u001b[34m\u001b[1mtrain: \u001b[0mWARNING  C:\\Users\\Adam\\Desktop\\venv\\pytorch\\samochody\\images\\train\\vid_4_1980.jpg: 6 duplicate labels removed\n",
      "\u001b[34m\u001b[1mtrain: \u001b[0mWARNING  C:\\Users\\Adam\\Desktop\\venv\\pytorch\\samochody\\images\\train\\vid_4_19880.jpg: 2 duplicate labels removed\n",
      "\u001b[34m\u001b[1mtrain: \u001b[0mWARNING  C:\\Users\\Adam\\Desktop\\venv\\pytorch\\samochody\\images\\train\\vid_4_19900.jpg: 2 duplicate labels removed\n",
      "\u001b[34m\u001b[1mtrain: \u001b[0mWARNING  C:\\Users\\Adam\\Desktop\\venv\\pytorch\\samochody\\images\\train\\vid_4_19920.jpg: 2 duplicate labels removed\n",
      "\u001b[34m\u001b[1mtrain: \u001b[0mWARNING  C:\\Users\\Adam\\Desktop\\venv\\pytorch\\samochody\\images\\train\\vid_4_2000.jpg: 10 duplicate labels removed\n",
      "\u001b[34m\u001b[1mtrain: \u001b[0mWARNING  C:\\Users\\Adam\\Desktop\\venv\\pytorch\\samochody\\images\\train\\vid_4_2020.jpg: 8 duplicate labels removed\n",
      "\u001b[34m\u001b[1mtrain: \u001b[0mWARNING  C:\\Users\\Adam\\Desktop\\venv\\pytorch\\samochody\\images\\train\\vid_4_2040.jpg: 8 duplicate labels removed\n",
      "\u001b[34m\u001b[1mtrain: \u001b[0mWARNING  C:\\Users\\Adam\\Desktop\\venv\\pytorch\\samochody\\images\\train\\vid_4_2060.jpg: 8 duplicate labels removed\n",
      "\u001b[34m\u001b[1mtrain: \u001b[0mWARNING  C:\\Users\\Adam\\Desktop\\venv\\pytorch\\samochody\\images\\train\\vid_4_2080.jpg: 8 duplicate labels removed\n",
      "\u001b[34m\u001b[1mtrain: \u001b[0mWARNING  C:\\Users\\Adam\\Desktop\\venv\\pytorch\\samochody\\images\\train\\vid_4_2100.jpg: 6 duplicate labels removed\n",
      "\u001b[34m\u001b[1mtrain: \u001b[0mWARNING  C:\\Users\\Adam\\Desktop\\venv\\pytorch\\samochody\\images\\train\\vid_4_21160.jpg: 2 duplicate labels removed\n",
      "\u001b[34m\u001b[1mtrain: \u001b[0mWARNING  C:\\Users\\Adam\\Desktop\\venv\\pytorch\\samochody\\images\\train\\vid_4_21180.jpg: 2 duplicate labels removed\n",
      "\u001b[34m\u001b[1mtrain: \u001b[0mWARNING  C:\\Users\\Adam\\Desktop\\venv\\pytorch\\samochody\\images\\train\\vid_4_2120.jpg: 6 duplicate labels removed\n",
      "\u001b[34m\u001b[1mtrain: \u001b[0mWARNING  C:\\Users\\Adam\\Desktop\\venv\\pytorch\\samochody\\images\\train\\vid_4_21200.jpg: 2 duplicate labels removed\n",
      "\u001b[34m\u001b[1mtrain: \u001b[0mWARNING  C:\\Users\\Adam\\Desktop\\venv\\pytorch\\samochody\\images\\train\\vid_4_21220.jpg: 2 duplicate labels removed\n",
      "\u001b[34m\u001b[1mtrain: \u001b[0mWARNING  C:\\Users\\Adam\\Desktop\\venv\\pytorch\\samochody\\images\\train\\vid_4_21240.jpg: 4 duplicate labels removed\n",
      "\u001b[34m\u001b[1mtrain: \u001b[0mWARNING  C:\\Users\\Adam\\Desktop\\venv\\pytorch\\samochody\\images\\train\\vid_4_21260.jpg: 4 duplicate labels removed\n",
      "\u001b[34m\u001b[1mtrain: \u001b[0mWARNING  C:\\Users\\Adam\\Desktop\\venv\\pytorch\\samochody\\images\\train\\vid_4_21280.jpg: 2 duplicate labels removed\n",
      "\u001b[34m\u001b[1mtrain: \u001b[0mWARNING  C:\\Users\\Adam\\Desktop\\venv\\pytorch\\samochody\\images\\train\\vid_4_21300.jpg: 2 duplicate labels removed\n",
      "\u001b[34m\u001b[1mtrain: \u001b[0mWARNING  C:\\Users\\Adam\\Desktop\\venv\\pytorch\\samochody\\images\\train\\vid_4_21320.jpg: 2 duplicate labels removed\n",
      "\u001b[34m\u001b[1mtrain: \u001b[0mWARNING  C:\\Users\\Adam\\Desktop\\venv\\pytorch\\samochody\\images\\train\\vid_4_2140.jpg: 6 duplicate labels removed\n",
      "\u001b[34m\u001b[1mtrain: \u001b[0mWARNING  C:\\Users\\Adam\\Desktop\\venv\\pytorch\\samochody\\images\\train\\vid_4_21400.jpg: 2 duplicate labels removed\n",
      "\u001b[34m\u001b[1mtrain: \u001b[0mWARNING  C:\\Users\\Adam\\Desktop\\venv\\pytorch\\samochody\\images\\train\\vid_4_21420.jpg: 2 duplicate labels removed\n",
      "\u001b[34m\u001b[1mtrain: \u001b[0mWARNING  C:\\Users\\Adam\\Desktop\\venv\\pytorch\\samochody\\images\\train\\vid_4_21440.jpg: 2 duplicate labels removed\n",
      "\u001b[34m\u001b[1mtrain: \u001b[0mWARNING  C:\\Users\\Adam\\Desktop\\venv\\pytorch\\samochody\\images\\train\\vid_4_21480.jpg: 4 duplicate labels removed\n",
      "\u001b[34m\u001b[1mtrain: \u001b[0mWARNING  C:\\Users\\Adam\\Desktop\\venv\\pytorch\\samochody\\images\\train\\vid_4_21500.jpg: 4 duplicate labels removed\n",
      "\u001b[34m\u001b[1mtrain: \u001b[0mWARNING  C:\\Users\\Adam\\Desktop\\venv\\pytorch\\samochody\\images\\train\\vid_4_21520.jpg: 2 duplicate labels removed\n",
      "\u001b[34m\u001b[1mtrain: \u001b[0mWARNING  C:\\Users\\Adam\\Desktop\\venv\\pytorch\\samochody\\images\\train\\vid_4_21540.jpg: 2 duplicate labels removed\n",
      "\u001b[34m\u001b[1mtrain: \u001b[0mWARNING  C:\\Users\\Adam\\Desktop\\venv\\pytorch\\samochody\\images\\train\\vid_4_21560.jpg: 4 duplicate labels removed\n",
      "\u001b[34m\u001b[1mtrain: \u001b[0mWARNING  C:\\Users\\Adam\\Desktop\\venv\\pytorch\\samochody\\images\\train\\vid_4_21580.jpg: 2 duplicate labels removed\n",
      "\u001b[34m\u001b[1mtrain: \u001b[0mWARNING  C:\\Users\\Adam\\Desktop\\venv\\pytorch\\samochody\\images\\train\\vid_4_2160.jpg: 6 duplicate labels removed\n",
      "\u001b[34m\u001b[1mtrain: \u001b[0mWARNING  C:\\Users\\Adam\\Desktop\\venv\\pytorch\\samochody\\images\\train\\vid_4_21600.jpg: 2 duplicate labels removed\n",
      "\u001b[34m\u001b[1mtrain: \u001b[0mWARNING  C:\\Users\\Adam\\Desktop\\venv\\pytorch\\samochody\\images\\train\\vid_4_21620.jpg: 2 duplicate labels removed\n",
      "\u001b[34m\u001b[1mtrain: \u001b[0mWARNING  C:\\Users\\Adam\\Desktop\\venv\\pytorch\\samochody\\images\\train\\vid_4_21640.jpg: 4 duplicate labels removed\n",
      "\u001b[34m\u001b[1mtrain: \u001b[0mWARNING  C:\\Users\\Adam\\Desktop\\venv\\pytorch\\samochody\\images\\train\\vid_4_21660.jpg: 2 duplicate labels removed\n",
      "\u001b[34m\u001b[1mtrain: \u001b[0mWARNING  C:\\Users\\Adam\\Desktop\\venv\\pytorch\\samochody\\images\\train\\vid_4_21680.jpg: 2 duplicate labels removed\n",
      "\u001b[34m\u001b[1mtrain: \u001b[0mWARNING  C:\\Users\\Adam\\Desktop\\venv\\pytorch\\samochody\\images\\train\\vid_4_2180.jpg: 2 duplicate labels removed\n",
      "\u001b[34m\u001b[1mtrain: \u001b[0mWARNING  C:\\Users\\Adam\\Desktop\\venv\\pytorch\\samochody\\images\\train\\vid_4_2200.jpg: 2 duplicate labels removed\n",
      "\u001b[34m\u001b[1mtrain: \u001b[0mWARNING  C:\\Users\\Adam\\Desktop\\venv\\pytorch\\samochody\\images\\train\\vid_4_22220.jpg: 2 duplicate labels removed\n",
      "\u001b[34m\u001b[1mtrain: \u001b[0mWARNING  C:\\Users\\Adam\\Desktop\\venv\\pytorch\\samochody\\images\\train\\vid_4_22240.jpg: 2 duplicate labels removed\n",
      "\u001b[34m\u001b[1mtrain: \u001b[0mWARNING  C:\\Users\\Adam\\Desktop\\venv\\pytorch\\samochody\\images\\train\\vid_4_22540.jpg: 2 duplicate labels removed\n",
      "\u001b[34m\u001b[1mtrain: \u001b[0mWARNING  C:\\Users\\Adam\\Desktop\\venv\\pytorch\\samochody\\images\\train\\vid_4_22560.jpg: 2 duplicate labels removed\n",
      "\u001b[34m\u001b[1mtrain: \u001b[0mWARNING  C:\\Users\\Adam\\Desktop\\venv\\pytorch\\samochody\\images\\train\\vid_4_22580.jpg: 2 duplicate labels removed\n",
      "\u001b[34m\u001b[1mtrain: \u001b[0mWARNING  C:\\Users\\Adam\\Desktop\\venv\\pytorch\\samochody\\images\\train\\vid_4_22640.jpg: 2 duplicate labels removed\n",
      "\u001b[34m\u001b[1mtrain: \u001b[0mWARNING  C:\\Users\\Adam\\Desktop\\venv\\pytorch\\samochody\\images\\train\\vid_4_22660.jpg: 2 duplicate labels removed\n",
      "\u001b[34m\u001b[1mtrain: \u001b[0mWARNING  C:\\Users\\Adam\\Desktop\\venv\\pytorch\\samochody\\images\\train\\vid_4_22700.jpg: 2 duplicate labels removed\n",
      "\u001b[34m\u001b[1mtrain: \u001b[0mWARNING  C:\\Users\\Adam\\Desktop\\venv\\pytorch\\samochody\\images\\train\\vid_4_22720.jpg: 2 duplicate labels removed\n",
      "\u001b[34m\u001b[1mtrain: \u001b[0mWARNING  C:\\Users\\Adam\\Desktop\\venv\\pytorch\\samochody\\images\\train\\vid_4_22740.jpg: 2 duplicate labels removed\n",
      "\u001b[34m\u001b[1mtrain: \u001b[0mWARNING  C:\\Users\\Adam\\Desktop\\venv\\pytorch\\samochody\\images\\train\\vid_4_22980.jpg: 2 duplicate labels removed\n",
      "\u001b[34m\u001b[1mtrain: \u001b[0mWARNING  C:\\Users\\Adam\\Desktop\\venv\\pytorch\\samochody\\images\\train\\vid_4_23000.jpg: 2 duplicate labels removed\n",
      "\u001b[34m\u001b[1mtrain: \u001b[0mWARNING  C:\\Users\\Adam\\Desktop\\venv\\pytorch\\samochody\\images\\train\\vid_4_23020.jpg: 2 duplicate labels removed\n",
      "\u001b[34m\u001b[1mtrain: \u001b[0mWARNING  C:\\Users\\Adam\\Desktop\\venv\\pytorch\\samochody\\images\\train\\vid_4_2380.jpg: 2 duplicate labels removed\n",
      "\u001b[34m\u001b[1mtrain: \u001b[0mWARNING  C:\\Users\\Adam\\Desktop\\venv\\pytorch\\samochody\\images\\train\\vid_4_2400.jpg: 2 duplicate labels removed\n",
      "\u001b[34m\u001b[1mtrain: \u001b[0mWARNING  C:\\Users\\Adam\\Desktop\\venv\\pytorch\\samochody\\images\\train\\vid_4_2420.jpg: 2 duplicate labels removed\n",
      "\u001b[34m\u001b[1mtrain: \u001b[0mWARNING  C:\\Users\\Adam\\Desktop\\venv\\pytorch\\samochody\\images\\train\\vid_4_24760.jpg: 2 duplicate labels removed\n",
      "\u001b[34m\u001b[1mtrain: \u001b[0mWARNING  C:\\Users\\Adam\\Desktop\\venv\\pytorch\\samochody\\images\\train\\vid_4_2520.jpg: 2 duplicate labels removed\n",
      "\u001b[34m\u001b[1mtrain: \u001b[0mWARNING  C:\\Users\\Adam\\Desktop\\venv\\pytorch\\samochody\\images\\train\\vid_4_2540.jpg: 2 duplicate labels removed\n",
      "\u001b[34m\u001b[1mtrain: \u001b[0mWARNING  C:\\Users\\Adam\\Desktop\\venv\\pytorch\\samochody\\images\\train\\vid_4_26300.jpg: 2 duplicate labels removed\n",
      "\u001b[34m\u001b[1mtrain: \u001b[0mWARNING  C:\\Users\\Adam\\Desktop\\venv\\pytorch\\samochody\\images\\train\\vid_4_26320.jpg: 4 duplicate labels removed\n",
      "\u001b[34m\u001b[1mtrain: \u001b[0mWARNING  C:\\Users\\Adam\\Desktop\\venv\\pytorch\\samochody\\images\\train\\vid_4_26340.jpg: 6 duplicate labels removed\n",
      "\u001b[34m\u001b[1mtrain: \u001b[0mWARNING  C:\\Users\\Adam\\Desktop\\venv\\pytorch\\samochody\\images\\train\\vid_4_26360.jpg: 8 duplicate labels removed\n",
      "\u001b[34m\u001b[1mtrain: \u001b[0mWARNING  C:\\Users\\Adam\\Desktop\\venv\\pytorch\\samochody\\images\\train\\vid_4_26380.jpg: 10 duplicate labels removed\n",
      "\u001b[34m\u001b[1mtrain: \u001b[0mWARNING  C:\\Users\\Adam\\Desktop\\venv\\pytorch\\samochody\\images\\train\\vid_4_26400.jpg: 10 duplicate labels removed\n",
      "\u001b[34m\u001b[1mtrain: \u001b[0mWARNING  C:\\Users\\Adam\\Desktop\\venv\\pytorch\\samochody\\images\\train\\vid_4_26420.jpg: 10 duplicate labels removed\n",
      "\u001b[34m\u001b[1mtrain: \u001b[0mWARNING  C:\\Users\\Adam\\Desktop\\venv\\pytorch\\samochody\\images\\train\\vid_4_26440.jpg: 10 duplicate labels removed\n",
      "\u001b[34m\u001b[1mtrain: \u001b[0mWARNING  C:\\Users\\Adam\\Desktop\\venv\\pytorch\\samochody\\images\\train\\vid_4_26460.jpg: 14 duplicate labels removed\n",
      "\u001b[34m\u001b[1mtrain: \u001b[0mWARNING  C:\\Users\\Adam\\Desktop\\venv\\pytorch\\samochody\\images\\train\\vid_4_26480.jpg: 8 duplicate labels removed\n",
      "\u001b[34m\u001b[1mtrain: \u001b[0mWARNING  C:\\Users\\Adam\\Desktop\\venv\\pytorch\\samochody\\images\\train\\vid_4_26500.jpg: 8 duplicate labels removed\n",
      "\u001b[34m\u001b[1mtrain: \u001b[0mWARNING  C:\\Users\\Adam\\Desktop\\venv\\pytorch\\samochody\\images\\train\\vid_4_26520.jpg: 6 duplicate labels removed\n",
      "\u001b[34m\u001b[1mtrain: \u001b[0mWARNING  C:\\Users\\Adam\\Desktop\\venv\\pytorch\\samochody\\images\\train\\vid_4_26540.jpg: 4 duplicate labels removed\n",
      "\u001b[34m\u001b[1mtrain: \u001b[0mWARNING  C:\\Users\\Adam\\Desktop\\venv\\pytorch\\samochody\\images\\train\\vid_4_26560.jpg: 2 duplicate labels removed\n",
      "\u001b[34m\u001b[1mtrain: \u001b[0mWARNING  C:\\Users\\Adam\\Desktop\\venv\\pytorch\\samochody\\images\\train\\vid_4_26580.jpg: 2 duplicate labels removed\n",
      "\u001b[34m\u001b[1mtrain: \u001b[0mWARNING  C:\\Users\\Adam\\Desktop\\venv\\pytorch\\samochody\\images\\train\\vid_4_28200.jpg: 4 duplicate labels removed\n",
      "\u001b[34m\u001b[1mtrain: \u001b[0mWARNING  C:\\Users\\Adam\\Desktop\\venv\\pytorch\\samochody\\images\\train\\vid_4_28220.jpg: 4 duplicate labels removed\n",
      "\u001b[34m\u001b[1mtrain: \u001b[0mWARNING  C:\\Users\\Adam\\Desktop\\venv\\pytorch\\samochody\\images\\train\\vid_4_28240.jpg: 2 duplicate labels removed\n",
      "\u001b[34m\u001b[1mtrain: \u001b[0mWARNING  C:\\Users\\Adam\\Desktop\\venv\\pytorch\\samochody\\images\\train\\vid_4_28440.jpg: 2 duplicate labels removed\n",
      "\u001b[34m\u001b[1mtrain: \u001b[0mWARNING  C:\\Users\\Adam\\Desktop\\venv\\pytorch\\samochody\\images\\train\\vid_4_28820.jpg: 2 duplicate labels removed\n",
      "\u001b[34m\u001b[1mtrain: \u001b[0mWARNING  C:\\Users\\Adam\\Desktop\\venv\\pytorch\\samochody\\images\\train\\vid_4_28840.jpg: 2 duplicate labels removed\n",
      "\u001b[34m\u001b[1mtrain: \u001b[0mWARNING  C:\\Users\\Adam\\Desktop\\venv\\pytorch\\samochody\\images\\train\\vid_4_28860.jpg: 2 duplicate labels removed\n",
      "\u001b[34m\u001b[1mtrain: \u001b[0mWARNING  C:\\Users\\Adam\\Desktop\\venv\\pytorch\\samochody\\images\\train\\vid_4_28880.jpg: 2 duplicate labels removed\n",
      "\u001b[34m\u001b[1mtrain: \u001b[0mWARNING  C:\\Users\\Adam\\Desktop\\venv\\pytorch\\samochody\\images\\train\\vid_4_29460.jpg: 2 duplicate labels removed\n",
      "\u001b[34m\u001b[1mtrain: \u001b[0mWARNING  C:\\Users\\Adam\\Desktop\\venv\\pytorch\\samochody\\images\\train\\vid_4_29480.jpg: 2 duplicate labels removed\n",
      "\u001b[34m\u001b[1mtrain: \u001b[0mWARNING  C:\\Users\\Adam\\Desktop\\venv\\pytorch\\samochody\\images\\train\\vid_4_29500.jpg: 2 duplicate labels removed\n",
      "\u001b[34m\u001b[1mtrain: \u001b[0mWARNING  C:\\Users\\Adam\\Desktop\\venv\\pytorch\\samochody\\images\\train\\vid_4_29520.jpg: 4 duplicate labels removed\n",
      "\u001b[34m\u001b[1mtrain: \u001b[0mWARNING  C:\\Users\\Adam\\Desktop\\venv\\pytorch\\samochody\\images\\train\\vid_4_29540.jpg: 2 duplicate labels removed\n",
      "\u001b[34m\u001b[1mtrain: \u001b[0mWARNING  C:\\Users\\Adam\\Desktop\\venv\\pytorch\\samochody\\images\\train\\vid_4_29560.jpg: 2 duplicate labels removed\n",
      "\u001b[34m\u001b[1mtrain: \u001b[0mWARNING  C:\\Users\\Adam\\Desktop\\venv\\pytorch\\samochody\\images\\train\\vid_4_29880.jpg: 8 duplicate labels removed\n",
      "\u001b[34m\u001b[1mtrain: \u001b[0mWARNING  C:\\Users\\Adam\\Desktop\\venv\\pytorch\\samochody\\images\\train\\vid_4_29900.jpg: 6 duplicate labels removed\n",
      "\u001b[34m\u001b[1mtrain: \u001b[0mWARNING  C:\\Users\\Adam\\Desktop\\venv\\pytorch\\samochody\\images\\train\\vid_4_29920.jpg: 8 duplicate labels removed\n",
      "\u001b[34m\u001b[1mtrain: \u001b[0mWARNING  C:\\Users\\Adam\\Desktop\\venv\\pytorch\\samochody\\images\\train\\vid_4_29940.jpg: 6 duplicate labels removed\n",
      "\u001b[34m\u001b[1mtrain: \u001b[0mWARNING  C:\\Users\\Adam\\Desktop\\venv\\pytorch\\samochody\\images\\train\\vid_4_29960.jpg: 6 duplicate labels removed\n",
      "\u001b[34m\u001b[1mtrain: \u001b[0mWARNING  C:\\Users\\Adam\\Desktop\\venv\\pytorch\\samochody\\images\\train\\vid_4_29980.jpg: 2 duplicate labels removed\n",
      "\u001b[34m\u001b[1mtrain: \u001b[0mWARNING  C:\\Users\\Adam\\Desktop\\venv\\pytorch\\samochody\\images\\train\\vid_4_30000.jpg: 4 duplicate labels removed\n",
      "\u001b[34m\u001b[1mtrain: \u001b[0mWARNING  C:\\Users\\Adam\\Desktop\\venv\\pytorch\\samochody\\images\\train\\vid_4_30020.jpg: 4 duplicate labels removed\n",
      "\u001b[34m\u001b[1mtrain: \u001b[0mWARNING  C:\\Users\\Adam\\Desktop\\venv\\pytorch\\samochody\\images\\train\\vid_4_30440.jpg: 2 duplicate labels removed\n",
      "\u001b[34m\u001b[1mtrain: \u001b[0mWARNING  C:\\Users\\Adam\\Desktop\\venv\\pytorch\\samochody\\images\\train\\vid_4_3120.jpg: 2 duplicate labels removed\n",
      "\u001b[34m\u001b[1mtrain: \u001b[0mWARNING  C:\\Users\\Adam\\Desktop\\venv\\pytorch\\samochody\\images\\train\\vid_4_3140.jpg: 2 duplicate labels removed\n",
      "\u001b[34m\u001b[1mtrain: \u001b[0mWARNING  C:\\Users\\Adam\\Desktop\\venv\\pytorch\\samochody\\images\\train\\vid_4_3160.jpg: 4 duplicate labels removed\n",
      "\u001b[34m\u001b[1mtrain: \u001b[0mWARNING  C:\\Users\\Adam\\Desktop\\venv\\pytorch\\samochody\\images\\train\\vid_4_3180.jpg: 4 duplicate labels removed\n",
      "\u001b[34m\u001b[1mtrain: \u001b[0mWARNING  C:\\Users\\Adam\\Desktop\\venv\\pytorch\\samochody\\images\\train\\vid_4_3200.jpg: 2 duplicate labels removed\n",
      "\u001b[34m\u001b[1mtrain: \u001b[0mWARNING  C:\\Users\\Adam\\Desktop\\venv\\pytorch\\samochody\\images\\train\\vid_4_3220.jpg: 2 duplicate labels removed\n",
      "\u001b[34m\u001b[1mtrain: \u001b[0mWARNING  C:\\Users\\Adam\\Desktop\\venv\\pytorch\\samochody\\images\\train\\vid_4_3240.jpg: 2 duplicate labels removed\n",
      "\u001b[34m\u001b[1mtrain: \u001b[0mWARNING  C:\\Users\\Adam\\Desktop\\venv\\pytorch\\samochody\\images\\train\\vid_4_3260.jpg: 2 duplicate labels removed\n",
      "\u001b[34m\u001b[1mtrain: \u001b[0mWARNING  C:\\Users\\Adam\\Desktop\\venv\\pytorch\\samochody\\images\\train\\vid_4_3340.jpg: 2 duplicate labels removed\n",
      "\u001b[34m\u001b[1mtrain: \u001b[0mWARNING  C:\\Users\\Adam\\Desktop\\venv\\pytorch\\samochody\\images\\train\\vid_4_3360.jpg: 2 duplicate labels removed\n",
      "\u001b[34m\u001b[1mtrain: \u001b[0mWARNING  C:\\Users\\Adam\\Desktop\\venv\\pytorch\\samochody\\images\\train\\vid_4_3380.jpg: 2 duplicate labels removed\n",
      "\u001b[34m\u001b[1mtrain: \u001b[0mWARNING  C:\\Users\\Adam\\Desktop\\venv\\pytorch\\samochody\\images\\train\\vid_4_3440.jpg: 2 duplicate labels removed\n",
      "\u001b[34m\u001b[1mtrain: \u001b[0mWARNING  C:\\Users\\Adam\\Desktop\\venv\\pytorch\\samochody\\images\\train\\vid_4_3460.jpg: 2 duplicate labels removed\n",
      "\u001b[34m\u001b[1mtrain: \u001b[0mWARNING  C:\\Users\\Adam\\Desktop\\venv\\pytorch\\samochody\\images\\train\\vid_4_3520.jpg: 2 duplicate labels removed\n",
      "\u001b[34m\u001b[1mtrain: \u001b[0mWARNING  C:\\Users\\Adam\\Desktop\\venv\\pytorch\\samochody\\images\\train\\vid_4_3540.jpg: 2 duplicate labels removed\n",
      "\u001b[34m\u001b[1mtrain: \u001b[0mWARNING  C:\\Users\\Adam\\Desktop\\venv\\pytorch\\samochody\\images\\train\\vid_4_3560.jpg: 2 duplicate labels removed\n",
      "\u001b[34m\u001b[1mtrain: \u001b[0mWARNING  C:\\Users\\Adam\\Desktop\\venv\\pytorch\\samochody\\images\\train\\vid_4_3800.jpg: 2 duplicate labels removed\n",
      "\u001b[34m\u001b[1mtrain: \u001b[0mWARNING  C:\\Users\\Adam\\Desktop\\venv\\pytorch\\samochody\\images\\train\\vid_4_3820.jpg: 2 duplicate labels removed\n",
      "\u001b[34m\u001b[1mtrain: \u001b[0mWARNING  C:\\Users\\Adam\\Desktop\\venv\\pytorch\\samochody\\images\\train\\vid_4_3840.jpg: 2 duplicate labels removed\n",
      "\u001b[34m\u001b[1mtrain: \u001b[0mWARNING  C:\\Users\\Adam\\Desktop\\venv\\pytorch\\samochody\\images\\train\\vid_4_4520.jpg: 2 duplicate labels removed\n",
      "\u001b[34m\u001b[1mtrain: \u001b[0mWARNING  C:\\Users\\Adam\\Desktop\\venv\\pytorch\\samochody\\images\\train\\vid_4_4540.jpg: 2 duplicate labels removed\n",
      "\u001b[34m\u001b[1mtrain: \u001b[0mWARNING  C:\\Users\\Adam\\Desktop\\venv\\pytorch\\samochody\\images\\train\\vid_4_4560.jpg: 2 duplicate labels removed\n",
      "\u001b[34m\u001b[1mtrain: \u001b[0mWARNING  C:\\Users\\Adam\\Desktop\\venv\\pytorch\\samochody\\images\\train\\vid_4_600.jpg: 2 duplicate labels removed\n",
      "\u001b[34m\u001b[1mtrain: \u001b[0mWARNING  C:\\Users\\Adam\\Desktop\\venv\\pytorch\\samochody\\images\\train\\vid_4_6160.jpg: 4 duplicate labels removed\n",
      "\u001b[34m\u001b[1mtrain: \u001b[0mWARNING  C:\\Users\\Adam\\Desktop\\venv\\pytorch\\samochody\\images\\train\\vid_4_6180.jpg: 4 duplicate labels removed\n",
      "\u001b[34m\u001b[1mtrain: \u001b[0mWARNING  C:\\Users\\Adam\\Desktop\\venv\\pytorch\\samochody\\images\\train\\vid_4_620.jpg: 2 duplicate labels removed\n",
      "\u001b[34m\u001b[1mtrain: \u001b[0mWARNING  C:\\Users\\Adam\\Desktop\\venv\\pytorch\\samochody\\images\\train\\vid_4_6200.jpg: 4 duplicate labels removed\n",
      "\u001b[34m\u001b[1mtrain: \u001b[0mWARNING  C:\\Users\\Adam\\Desktop\\venv\\pytorch\\samochody\\images\\train\\vid_4_6220.jpg: 8 duplicate labels removed\n",
      "\u001b[34m\u001b[1mtrain: \u001b[0mWARNING  C:\\Users\\Adam\\Desktop\\venv\\pytorch\\samochody\\images\\train\\vid_4_6240.jpg: 12 duplicate labels removed\n",
      "\u001b[34m\u001b[1mtrain: \u001b[0mWARNING  C:\\Users\\Adam\\Desktop\\venv\\pytorch\\samochody\\images\\train\\vid_4_6260.jpg: 10 duplicate labels removed\n",
      "\u001b[34m\u001b[1mtrain: \u001b[0mWARNING  C:\\Users\\Adam\\Desktop\\venv\\pytorch\\samochody\\images\\train\\vid_4_6280.jpg: 10 duplicate labels removed\n",
      "\u001b[34m\u001b[1mtrain: \u001b[0mWARNING  C:\\Users\\Adam\\Desktop\\venv\\pytorch\\samochody\\images\\train\\vid_4_6300.jpg: 8 duplicate labels removed\n",
      "\u001b[34m\u001b[1mtrain: \u001b[0mWARNING  C:\\Users\\Adam\\Desktop\\venv\\pytorch\\samochody\\images\\train\\vid_4_6320.jpg: 4 duplicate labels removed\n",
      "\u001b[34m\u001b[1mtrain: \u001b[0mWARNING  C:\\Users\\Adam\\Desktop\\venv\\pytorch\\samochody\\images\\train\\vid_4_6340.jpg: 4 duplicate labels removed\n",
      "\u001b[34m\u001b[1mtrain: \u001b[0mWARNING  C:\\Users\\Adam\\Desktop\\venv\\pytorch\\samochody\\images\\train\\vid_4_6360.jpg: 4 duplicate labels removed\n",
      "\u001b[34m\u001b[1mtrain: \u001b[0mWARNING  C:\\Users\\Adam\\Desktop\\venv\\pytorch\\samochody\\images\\train\\vid_4_6380.jpg: 4 duplicate labels removed\n",
      "\u001b[34m\u001b[1mtrain: \u001b[0mWARNING  C:\\Users\\Adam\\Desktop\\venv\\pytorch\\samochody\\images\\train\\vid_4_6400.jpg: 4 duplicate labels removed\n",
      "\u001b[34m\u001b[1mtrain: \u001b[0mWARNING  C:\\Users\\Adam\\Desktop\\venv\\pytorch\\samochody\\images\\train\\vid_4_6420.jpg: 6 duplicate labels removed\n",
      "\u001b[34m\u001b[1mtrain: \u001b[0mWARNING  C:\\Users\\Adam\\Desktop\\venv\\pytorch\\samochody\\images\\train\\vid_4_6440.jpg: 6 duplicate labels removed\n",
      "\u001b[34m\u001b[1mtrain: \u001b[0mWARNING  C:\\Users\\Adam\\Desktop\\venv\\pytorch\\samochody\\images\\train\\vid_4_6460.jpg: 4 duplicate labels removed\n",
      "\u001b[34m\u001b[1mtrain: \u001b[0mWARNING  C:\\Users\\Adam\\Desktop\\venv\\pytorch\\samochody\\images\\train\\vid_4_6480.jpg: 4 duplicate labels removed\n",
      "\u001b[34m\u001b[1mtrain: \u001b[0mWARNING  C:\\Users\\Adam\\Desktop\\venv\\pytorch\\samochody\\images\\train\\vid_4_6500.jpg: 2 duplicate labels removed\n",
      "\u001b[34m\u001b[1mtrain: \u001b[0mWARNING  C:\\Users\\Adam\\Desktop\\venv\\pytorch\\samochody\\images\\train\\vid_4_6520.jpg: 2 duplicate labels removed\n",
      "\u001b[34m\u001b[1mtrain: \u001b[0mWARNING  C:\\Users\\Adam\\Desktop\\venv\\pytorch\\samochody\\images\\train\\vid_4_680.jpg: 2 duplicate labels removed\n",
      "\u001b[34m\u001b[1mtrain: \u001b[0mWARNING  C:\\Users\\Adam\\Desktop\\venv\\pytorch\\samochody\\images\\train\\vid_4_700.jpg: 4 duplicate labels removed\n",
      "\u001b[34m\u001b[1mtrain: \u001b[0mWARNING  C:\\Users\\Adam\\Desktop\\venv\\pytorch\\samochody\\images\\train\\vid_4_720.jpg: 4 duplicate labels removed\n",
      "\u001b[34m\u001b[1mtrain: \u001b[0mWARNING  C:\\Users\\Adam\\Desktop\\venv\\pytorch\\samochody\\images\\train\\vid_4_740.jpg: 2 duplicate labels removed\n",
      "\u001b[34m\u001b[1mtrain: \u001b[0mWARNING  C:\\Users\\Adam\\Desktop\\venv\\pytorch\\samochody\\images\\train\\vid_4_8220.jpg: 2 duplicate labels removed\n",
      "\u001b[34m\u001b[1mtrain: \u001b[0mWARNING  C:\\Users\\Adam\\Desktop\\venv\\pytorch\\samochody\\images\\train\\vid_4_8240.jpg: 2 duplicate labels removed\n",
      "\u001b[34m\u001b[1mtrain: \u001b[0mWARNING  C:\\Users\\Adam\\Desktop\\venv\\pytorch\\samochody\\images\\train\\vid_4_8260.jpg: 2 duplicate labels removed\n",
      "\u001b[34m\u001b[1mtrain: \u001b[0mWARNING  C:\\Users\\Adam\\Desktop\\venv\\pytorch\\samochody\\images\\train\\vid_4_8280.jpg: 2 duplicate labels removed\n",
      "\u001b[34m\u001b[1mtrain: \u001b[0mWARNING  C:\\Users\\Adam\\Desktop\\venv\\pytorch\\samochody\\images\\train\\vid_4_8300.jpg: 2 duplicate labels removed\n",
      "\u001b[34m\u001b[1mtrain: \u001b[0mWARNING  C:\\Users\\Adam\\Desktop\\venv\\pytorch\\samochody\\images\\train\\vid_4_8320.jpg: 2 duplicate labels removed\n",
      "\u001b[34m\u001b[1mtrain: \u001b[0mWARNING  C:\\Users\\Adam\\Desktop\\venv\\pytorch\\samochody\\images\\train\\vid_4_8340.jpg: 2 duplicate labels removed\n",
      "\u001b[34m\u001b[1mtrain: \u001b[0mWARNING  C:\\Users\\Adam\\Desktop\\venv\\pytorch\\samochody\\images\\train\\vid_4_8560.jpg: 2 duplicate labels removed\n",
      "\u001b[34m\u001b[1mtrain: \u001b[0mWARNING  C:\\Users\\Adam\\Desktop\\venv\\pytorch\\samochody\\images\\train\\vid_4_8580.jpg: 2 duplicate labels removed\n",
      "\u001b[34m\u001b[1mtrain: \u001b[0mWARNING  C:\\Users\\Adam\\Desktop\\venv\\pytorch\\samochody\\images\\train\\vid_4_860.jpg: 2 duplicate labels removed\n",
      "\u001b[34m\u001b[1mtrain: \u001b[0mWARNING  C:\\Users\\Adam\\Desktop\\venv\\pytorch\\samochody\\images\\train\\vid_4_8600.jpg: 2 duplicate labels removed\n",
      "\u001b[34m\u001b[1mtrain: \u001b[0mWARNING  C:\\Users\\Adam\\Desktop\\venv\\pytorch\\samochody\\images\\train\\vid_4_8640.jpg: 2 duplicate labels removed\n",
      "\u001b[34m\u001b[1mtrain: \u001b[0mWARNING  C:\\Users\\Adam\\Desktop\\venv\\pytorch\\samochody\\images\\train\\vid_4_8660.jpg: 2 duplicate labels removed\n",
      "\u001b[34m\u001b[1mtrain: \u001b[0mWARNING  C:\\Users\\Adam\\Desktop\\venv\\pytorch\\samochody\\images\\train\\vid_4_8680.jpg: 2 duplicate labels removed\n",
      "\u001b[34m\u001b[1mtrain: \u001b[0mWARNING  C:\\Users\\Adam\\Desktop\\venv\\pytorch\\samochody\\images\\train\\vid_4_8700.jpg: 2 duplicate labels removed\n",
      "\u001b[34m\u001b[1mtrain: \u001b[0mWARNING  C:\\Users\\Adam\\Desktop\\venv\\pytorch\\samochody\\images\\train\\vid_4_8720.jpg: 2 duplicate labels removed\n",
      "\u001b[34m\u001b[1mtrain: \u001b[0mWARNING  C:\\Users\\Adam\\Desktop\\venv\\pytorch\\samochody\\images\\train\\vid_4_8740.jpg: 2 duplicate labels removed\n",
      "\u001b[34m\u001b[1mtrain: \u001b[0mWARNING  C:\\Users\\Adam\\Desktop\\venv\\pytorch\\samochody\\images\\train\\vid_4_880.jpg: 2 duplicate labels removed\n",
      "\u001b[34m\u001b[1mtrain: \u001b[0mWARNING  C:\\Users\\Adam\\Desktop\\venv\\pytorch\\samochody\\images\\train\\vid_4_8960.jpg: 2 duplicate labels removed\n",
      "\u001b[34m\u001b[1mtrain: \u001b[0mWARNING  C:\\Users\\Adam\\Desktop\\venv\\pytorch\\samochody\\images\\train\\vid_4_8980.jpg: 2 duplicate labels removed\n",
      "\u001b[34m\u001b[1mtrain: \u001b[0mWARNING  C:\\Users\\Adam\\Desktop\\venv\\pytorch\\samochody\\images\\train\\vid_4_900.jpg: 2 duplicate labels removed\n",
      "\u001b[34m\u001b[1mtrain: \u001b[0mWARNING  C:\\Users\\Adam\\Desktop\\venv\\pytorch\\samochody\\images\\train\\vid_4_9000.jpg: 2 duplicate labels removed\n",
      "\u001b[34m\u001b[1mtrain: \u001b[0mWARNING  C:\\Users\\Adam\\Desktop\\venv\\pytorch\\samochody\\images\\train\\vid_4_9020.jpg: 2 duplicate labels removed\n",
      "\u001b[34m\u001b[1mtrain: \u001b[0mWARNING  C:\\Users\\Adam\\Desktop\\venv\\pytorch\\samochody\\images\\train\\vid_4_9040.jpg: 4 duplicate labels removed\n",
      "\u001b[34m\u001b[1mtrain: \u001b[0mWARNING  C:\\Users\\Adam\\Desktop\\venv\\pytorch\\samochody\\images\\train\\vid_4_9060.jpg: 4 duplicate labels removed\n",
      "\u001b[34m\u001b[1mtrain: \u001b[0mWARNING  C:\\Users\\Adam\\Desktop\\venv\\pytorch\\samochody\\images\\train\\vid_4_9080.jpg: 4 duplicate labels removed\n",
      "\u001b[34m\u001b[1mtrain: \u001b[0mWARNING  C:\\Users\\Adam\\Desktop\\venv\\pytorch\\samochody\\images\\train\\vid_4_920.jpg: 2 duplicate labels removed\n",
      "\u001b[34m\u001b[1mtrain: \u001b[0mWARNING  C:\\Users\\Adam\\Desktop\\venv\\pytorch\\samochody\\images\\train\\vid_4_9200.jpg: 2 duplicate labels removed\n",
      "\u001b[34m\u001b[1mtrain: \u001b[0mWARNING  C:\\Users\\Adam\\Desktop\\venv\\pytorch\\samochody\\images\\train\\vid_4_9220.jpg: 2 duplicate labels removed\n",
      "\u001b[34m\u001b[1mtrain: \u001b[0mWARNING  C:\\Users\\Adam\\Desktop\\venv\\pytorch\\samochody\\images\\train\\vid_4_9240.jpg: 2 duplicate labels removed\n",
      "\u001b[34m\u001b[1mtrain: \u001b[0mWARNING  C:\\Users\\Adam\\Desktop\\venv\\pytorch\\samochody\\images\\train\\vid_4_9260.jpg: 4 duplicate labels removed\n",
      "\u001b[34m\u001b[1mtrain: \u001b[0mWARNING  C:\\Users\\Adam\\Desktop\\venv\\pytorch\\samochody\\images\\train\\vid_4_9280.jpg: 4 duplicate labels removed\n",
      "\u001b[34m\u001b[1mtrain: \u001b[0mWARNING  C:\\Users\\Adam\\Desktop\\venv\\pytorch\\samochody\\images\\train\\vid_4_9300.jpg: 4 duplicate labels removed\n",
      "\u001b[34m\u001b[1mtrain: \u001b[0mWARNING  C:\\Users\\Adam\\Desktop\\venv\\pytorch\\samochody\\images\\train\\vid_4_9320.jpg: 4 duplicate labels removed\n",
      "\u001b[34m\u001b[1mtrain: \u001b[0mWARNING  C:\\Users\\Adam\\Desktop\\venv\\pytorch\\samochody\\images\\train\\vid_4_9340.jpg: 2 duplicate labels removed\n",
      "\u001b[34m\u001b[1mtrain: \u001b[0mWARNING  C:\\Users\\Adam\\Desktop\\venv\\pytorch\\samochody\\images\\train\\vid_4_940.jpg: 4 duplicate labels removed\n",
      "\u001b[34m\u001b[1mtrain: \u001b[0mWARNING  C:\\Users\\Adam\\Desktop\\venv\\pytorch\\samochody\\images\\train\\vid_4_9420.jpg: 2 duplicate labels removed\n",
      "\u001b[34m\u001b[1mtrain: \u001b[0mWARNING  C:\\Users\\Adam\\Desktop\\venv\\pytorch\\samochody\\images\\train\\vid_4_9440.jpg: 2 duplicate labels removed\n",
      "\u001b[34m\u001b[1mtrain: \u001b[0mWARNING  C:\\Users\\Adam\\Desktop\\venv\\pytorch\\samochody\\images\\train\\vid_4_9460.jpg: 2 duplicate labels removed\n",
      "\u001b[34m\u001b[1mtrain: \u001b[0mWARNING  C:\\Users\\Adam\\Desktop\\venv\\pytorch\\samochody\\images\\train\\vid_4_9500.jpg: 2 duplicate labels removed\n",
      "\u001b[34m\u001b[1mtrain: \u001b[0mWARNING  C:\\Users\\Adam\\Desktop\\venv\\pytorch\\samochody\\images\\train\\vid_4_9520.jpg: 4 duplicate labels removed\n",
      "\u001b[34m\u001b[1mtrain: \u001b[0mWARNING  C:\\Users\\Adam\\Desktop\\venv\\pytorch\\samochody\\images\\train\\vid_4_9540.jpg: 4 duplicate labels removed\n",
      "\u001b[34m\u001b[1mtrain: \u001b[0mWARNING  C:\\Users\\Adam\\Desktop\\venv\\pytorch\\samochody\\images\\train\\vid_4_9560.jpg: 6 duplicate labels removed\n",
      "\u001b[34m\u001b[1mtrain: \u001b[0mWARNING  C:\\Users\\Adam\\Desktop\\venv\\pytorch\\samochody\\images\\train\\vid_4_9580.jpg: 4 duplicate labels removed\n",
      "\u001b[34m\u001b[1mtrain: \u001b[0mWARNING  C:\\Users\\Adam\\Desktop\\venv\\pytorch\\samochody\\images\\train\\vid_4_960.jpg: 2 duplicate labels removed\n",
      "\u001b[34m\u001b[1mtrain: \u001b[0mWARNING  C:\\Users\\Adam\\Desktop\\venv\\pytorch\\samochody\\images\\train\\vid_4_9600.jpg: 4 duplicate labels removed\n",
      "\u001b[34m\u001b[1mtrain: \u001b[0mWARNING  C:\\Users\\Adam\\Desktop\\venv\\pytorch\\samochody\\images\\train\\vid_4_9620.jpg: 8 duplicate labels removed\n",
      "\u001b[34m\u001b[1mtrain: \u001b[0mWARNING  C:\\Users\\Adam\\Desktop\\venv\\pytorch\\samochody\\images\\train\\vid_4_9640.jpg: 4 duplicate labels removed\n",
      "\u001b[34m\u001b[1mtrain: \u001b[0mWARNING  C:\\Users\\Adam\\Desktop\\venv\\pytorch\\samochody\\images\\train\\vid_4_9660.jpg: 2 duplicate labels removed\n",
      "\u001b[34m\u001b[1mtrain: \u001b[0mWARNING  C:\\Users\\Adam\\Desktop\\venv\\pytorch\\samochody\\images\\train\\vid_4_9700.jpg: 2 duplicate labels removed\n",
      "\u001b[34m\u001b[1mtrain: \u001b[0mWARNING  C:\\Users\\Adam\\Desktop\\venv\\pytorch\\samochody\\images\\train\\vid_4_9720.jpg: 2 duplicate labels removed\n",
      "\u001b[34m\u001b[1mtrain: \u001b[0mWARNING  C:\\Users\\Adam\\Desktop\\venv\\pytorch\\samochody\\images\\train\\vid_4_9740.jpg: 2 duplicate labels removed\n",
      "\u001b[34m\u001b[1mtrain: \u001b[0mWARNING  C:\\Users\\Adam\\Desktop\\venv\\pytorch\\samochody\\images\\train\\vid_4_9760.jpg: 6 duplicate labels removed\n",
      "\u001b[34m\u001b[1mtrain: \u001b[0mWARNING  C:\\Users\\Adam\\Desktop\\venv\\pytorch\\samochody\\images\\train\\vid_4_9780.jpg: 4 duplicate labels removed\n",
      "\u001b[34m\u001b[1mtrain: \u001b[0mWARNING  C:\\Users\\Adam\\Desktop\\venv\\pytorch\\samochody\\images\\train\\vid_4_980.jpg: 2 duplicate labels removed\n",
      "\u001b[34m\u001b[1mtrain: \u001b[0mWARNING  C:\\Users\\Adam\\Desktop\\venv\\pytorch\\samochody\\images\\train\\vid_4_9800.jpg: 4 duplicate labels removed\n",
      "\u001b[34m\u001b[1mtrain: \u001b[0mWARNING  C:\\Users\\Adam\\Desktop\\venv\\pytorch\\samochody\\images\\train\\vid_4_9820.jpg: 2 duplicate labels removed\n",
      "\u001b[34m\u001b[1mtrain: \u001b[0mWARNING  C:\\Users\\Adam\\Desktop\\venv\\pytorch\\samochody\\images\\train\\vid_4_9840.jpg: 2 duplicate labels removed\n",
      "\u001b[34m\u001b[1mtrain: \u001b[0mWARNING  C:\\Users\\Adam\\Desktop\\venv\\pytorch\\samochody\\images\\train\\vid_4_9860.jpg: 2 duplicate labels removed\n",
      "\u001b[34m\u001b[1mtrain: \u001b[0mWARNING  C:\\Users\\Adam\\Desktop\\venv\\pytorch\\samochody\\images\\train\\vid_4_9880.jpg: 2 duplicate labels removed\n",
      "\u001b[34m\u001b[1mtrain: \u001b[0mWARNING  C:\\Users\\Adam\\Desktop\\venv\\pytorch\\samochody\\images\\train\\vid_4_9900.jpg: 2 duplicate labels removed\n",
      "\u001b[34m\u001b[1mtrain: \u001b[0mWARNING  C:\\Users\\Adam\\Desktop\\venv\\pytorch\\samochody\\images\\train\\vid_4_9960.jpg: 2 duplicate labels removed\n",
      "\u001b[34m\u001b[1mtrain: \u001b[0mWARNING  C:\\Users\\Adam\\Desktop\\venv\\pytorch\\samochody\\images\\train\\vid_4_9980.jpg: 2 duplicate labels removed\n"
     ]
    },
    {
     "name": "stderr",
     "output_type": "stream",
     "text": [
      "\n",
      "\u001b[34m\u001b[1mval: \u001b[0mScanning C:\\Users\\Adam\\Desktop\\venv\\pytorch\\samochody\\labels\\test... 175 images, 83 backgrounds, 0 corrupt: 100%|██████████| 175/175 [00:00<00:00, 224.65it/s]"
     ]
    },
    {
     "name": "stdout",
     "output_type": "stream",
     "text": [
      "\u001b[34m\u001b[1mval: \u001b[0mNew cache created: C:\\Users\\Adam\\Desktop\\venv\\pytorch\\samochody\\labels\\test.cache\n"
     ]
    },
    {
     "name": "stderr",
     "output_type": "stream",
     "text": [
      "\n"
     ]
    },
    {
     "name": "stdout",
     "output_type": "stream",
     "text": [
      "Plotting labels to runs\\detect\\train2\\labels.jpg... \n",
      "\u001b[34m\u001b[1moptimizer:\u001b[0m 'optimizer=auto' found, ignoring 'lr0=0.01' and 'momentum=0.937' and determining best 'optimizer', 'lr0' and 'momentum' automatically... \n",
      "\u001b[34m\u001b[1moptimizer:\u001b[0m AdamW(lr=0.002, momentum=0.9) with parameter groups 69 weight(decay=0.0), 76 weight(decay=0.0005), 75 bias(decay=0.0)\n",
      "Image sizes 640 train, 640 val\n",
      "Using 4 dataloader workers\n",
      "Logging results to \u001b[1mruns\\detect\\train2\u001b[0m\n",
      "Starting training for 10 epochs...\n",
      "Closing dataloader mosaic\n",
      "\n",
      "      Epoch    GPU_mem   box_loss   cls_loss   dfl_loss  Instances       Size\n"
     ]
    },
    {
     "name": "stderr",
     "output_type": "stream",
     "text": [
      "       1/10      2.14G      3.704      13.67      3.549          0        640: 100%|██████████| 126/126 [01:02<00:00,  2.00it/s]\n",
      "                 Class     Images  Instances      Box(P          R      mAP50  mAP50-95): 100%|██████████| 11/11 [00:02<00:00,  4.77it/s]"
     ]
    },
    {
     "name": "stdout",
     "output_type": "stream",
     "text": [
      "                   all        175        156          0          0          0          0\n"
     ]
    },
    {
     "name": "stderr",
     "output_type": "stream",
     "text": [
      "\n"
     ]
    },
    {
     "name": "stdout",
     "output_type": "stream",
     "text": [
      "\n",
      "      Epoch    GPU_mem   box_loss   cls_loss   dfl_loss  Instances       Size\n"
     ]
    },
    {
     "name": "stderr",
     "output_type": "stream",
     "text": [
      "       2/10      2.17G      2.449      5.386      2.597          0        640: 100%|██████████| 126/126 [01:01<00:00,  2.07it/s]\n",
      "                 Class     Images  Instances      Box(P          R      mAP50  mAP50-95): 100%|██████████| 11/11 [00:02<00:00,  4.63it/s]"
     ]
    },
    {
     "name": "stdout",
     "output_type": "stream",
     "text": [
      "                   all        175        156      0.263      0.359      0.215     0.0546\n"
     ]
    },
    {
     "name": "stderr",
     "output_type": "stream",
     "text": [
      "\n"
     ]
    },
    {
     "name": "stdout",
     "output_type": "stream",
     "text": [
      "\n",
      "      Epoch    GPU_mem   box_loss   cls_loss   dfl_loss  Instances       Size\n"
     ]
    },
    {
     "name": "stderr",
     "output_type": "stream",
     "text": [
      "       3/10      2.19G      2.331      3.364      2.476          1        640: 100%|██████████| 126/126 [01:00<00:00,  2.09it/s]\n",
      "                 Class     Images  Instances      Box(P          R      mAP50  mAP50-95): 100%|██████████| 11/11 [00:02<00:00,  4.83it/s]"
     ]
    },
    {
     "name": "stdout",
     "output_type": "stream",
     "text": [
      "                   all        175        156      0.319      0.455      0.289       0.11\n"
     ]
    },
    {
     "name": "stderr",
     "output_type": "stream",
     "text": [
      "\n"
     ]
    },
    {
     "name": "stdout",
     "output_type": "stream",
     "text": [
      "\n",
      "      Epoch    GPU_mem   box_loss   cls_loss   dfl_loss  Instances       Size\n"
     ]
    },
    {
     "name": "stderr",
     "output_type": "stream",
     "text": [
      "       4/10      2.24G      2.033       2.58       2.14          0        640: 100%|██████████| 126/126 [01:00<00:00,  2.10it/s]\n",
      "                 Class     Images  Instances      Box(P          R      mAP50  mAP50-95): 100%|██████████| 11/11 [00:02<00:00,  4.85it/s]"
     ]
    },
    {
     "name": "stdout",
     "output_type": "stream",
     "text": [
      "                   all        175        156      0.425      0.378      0.324      0.121\n"
     ]
    },
    {
     "name": "stderr",
     "output_type": "stream",
     "text": [
      "\n"
     ]
    },
    {
     "name": "stdout",
     "output_type": "stream",
     "text": [
      "\n",
      "      Epoch    GPU_mem   box_loss   cls_loss   dfl_loss  Instances       Size\n"
     ]
    },
    {
     "name": "stderr",
     "output_type": "stream",
     "text": [
      "       5/10      2.27G      2.056       2.18      2.179          1        640: 100%|██████████| 126/126 [01:00<00:00,  2.09it/s]\n",
      "                 Class     Images  Instances      Box(P          R      mAP50  mAP50-95): 100%|██████████| 11/11 [00:02<00:00,  4.84it/s]"
     ]
    },
    {
     "name": "stdout",
     "output_type": "stream",
     "text": [
      "                   all        175        156      0.451      0.395      0.335      0.108\n"
     ]
    },
    {
     "name": "stderr",
     "output_type": "stream",
     "text": [
      "\n"
     ]
    },
    {
     "name": "stdout",
     "output_type": "stream",
     "text": [
      "\n",
      "      Epoch    GPU_mem   box_loss   cls_loss   dfl_loss  Instances       Size\n"
     ]
    },
    {
     "name": "stderr",
     "output_type": "stream",
     "text": [
      "       6/10      2.27G      1.991      1.808      2.112          1        640: 100%|██████████| 126/126 [01:00<00:00,  2.09it/s]\n",
      "                 Class     Images  Instances      Box(P          R      mAP50  mAP50-95): 100%|██████████| 11/11 [00:02<00:00,  4.99it/s]"
     ]
    },
    {
     "name": "stdout",
     "output_type": "stream",
     "text": [
      "                   all        175        156      0.506      0.525      0.481       0.18\n"
     ]
    },
    {
     "name": "stderr",
     "output_type": "stream",
     "text": [
      "\n"
     ]
    },
    {
     "name": "stdout",
     "output_type": "stream",
     "text": [
      "\n",
      "      Epoch    GPU_mem   box_loss   cls_loss   dfl_loss  Instances       Size\n"
     ]
    },
    {
     "name": "stderr",
     "output_type": "stream",
     "text": [
      "       7/10      2.27G      1.904      1.759      1.996          1        640: 100%|██████████| 126/126 [01:00<00:00,  2.10it/s]\n",
      "                 Class     Images  Instances      Box(P          R      mAP50  mAP50-95): 100%|██████████| 11/11 [00:02<00:00,  4.98it/s]"
     ]
    },
    {
     "name": "stdout",
     "output_type": "stream",
     "text": [
      "                   all        175        156      0.579      0.519      0.512      0.192\n"
     ]
    },
    {
     "name": "stderr",
     "output_type": "stream",
     "text": [
      "\n"
     ]
    },
    {
     "name": "stdout",
     "output_type": "stream",
     "text": [
      "\n",
      "      Epoch    GPU_mem   box_loss   cls_loss   dfl_loss  Instances       Size\n"
     ]
    },
    {
     "name": "stderr",
     "output_type": "stream",
     "text": [
      "       8/10      2.27G      1.772       1.69      1.881          1        640: 100%|██████████| 126/126 [01:00<00:00,  2.10it/s]\n",
      "                 Class     Images  Instances      Box(P          R      mAP50  mAP50-95): 100%|██████████| 11/11 [00:02<00:00,  5.08it/s]"
     ]
    },
    {
     "name": "stdout",
     "output_type": "stream",
     "text": [
      "                   all        175        156      0.579      0.455      0.469       0.19\n"
     ]
    },
    {
     "name": "stderr",
     "output_type": "stream",
     "text": [
      "\n"
     ]
    },
    {
     "name": "stdout",
     "output_type": "stream",
     "text": [
      "\n",
      "      Epoch    GPU_mem   box_loss   cls_loss   dfl_loss  Instances       Size\n"
     ]
    },
    {
     "name": "stderr",
     "output_type": "stream",
     "text": [
      "       9/10      2.27G      1.736      1.621      1.857          0        640: 100%|██████████| 126/126 [01:00<00:00,  2.10it/s]\n",
      "                 Class     Images  Instances      Box(P          R      mAP50  mAP50-95): 100%|██████████| 11/11 [00:02<00:00,  5.05it/s]"
     ]
    },
    {
     "name": "stdout",
     "output_type": "stream",
     "text": [
      "                   all        175        156      0.714      0.513      0.589      0.243\n"
     ]
    },
    {
     "name": "stderr",
     "output_type": "stream",
     "text": [
      "\n"
     ]
    },
    {
     "name": "stdout",
     "output_type": "stream",
     "text": [
      "\n",
      "      Epoch    GPU_mem   box_loss   cls_loss   dfl_loss  Instances       Size\n"
     ]
    },
    {
     "name": "stderr",
     "output_type": "stream",
     "text": [
      "      10/10       2.3G      1.701      1.403      1.826          1        640: 100%|██████████| 126/126 [01:00<00:00,  2.08it/s]\n",
      "                 Class     Images  Instances      Box(P          R      mAP50  mAP50-95): 100%|██████████| 11/11 [00:02<00:00,  5.04it/s]"
     ]
    },
    {
     "name": "stdout",
     "output_type": "stream",
     "text": [
      "                   all        175        156        0.7      0.513      0.624      0.271\n"
     ]
    },
    {
     "name": "stderr",
     "output_type": "stream",
     "text": [
      "\n"
     ]
    },
    {
     "name": "stdout",
     "output_type": "stream",
     "text": [
      "\n",
      "10 epochs completed in 0.183 hours.\n",
      "Optimizer stripped from runs\\detect\\train2\\weights\\last.pt, 18.5MB\n",
      "Optimizer stripped from runs\\detect\\train2\\weights\\best.pt, 18.5MB\n",
      "\n",
      "Validating runs\\detect\\train2\\weights\\best.pt...\n",
      "Ultralytics 8.3.91  Python-3.12.8 torch-2.6.0+cu126 CUDA:0 (NVIDIA GeForce GTX 970, 4096MiB)\n",
      "YOLOv5s summary (fused): 84 layers, 9,111,923 parameters, 0 gradients, 23.8 GFLOPs\n"
     ]
    },
    {
     "name": "stderr",
     "output_type": "stream",
     "text": [
      "                 Class     Images  Instances      Box(P          R      mAP50  mAP50-95): 100%|██████████| 11/11 [00:02<00:00,  4.88it/s]\n"
     ]
    },
    {
     "name": "stdout",
     "output_type": "stream",
     "text": [
      "                   all        175        156      0.701      0.513      0.622      0.271\n",
      "Speed: 0.3ms preprocess, 8.3ms inference, 0.0ms loss, 1.1ms postprocess per image\n",
      "Results saved to \u001b[1mruns\\detect\\train2\u001b[0m\n"
     ]
    }
   ],
   "source": [
    "results = model.train(data=\"dataset.yaml\", epochs=10, batch=8)"
   ]
  },
  {
   "cell_type": "markdown",
   "metadata": {},
   "source": [
    "Zapisuje model"
   ]
  },
  {
   "cell_type": "code",
   "execution_count": null,
   "metadata": {},
   "outputs": [],
   "source": [
    "model.save(\"yolo_moj_model.pt\")"
   ]
  },
  {
   "cell_type": "markdown",
   "metadata": {},
   "source": [
    "Dalszy trening będe wykonywał za pomocy skryptu trening.py"
   ]
  },
  {
   "cell_type": "code",
   "execution_count": 11,
   "metadata": {},
   "outputs": [
    {
     "name": "stdout",
     "output_type": "stream",
     "text": [
      "if __name__ == '__main__':\n",
      "\timport torch\n",
      "\timport pandas as pd\n",
      "\timport numpy as np\n",
      "\tfrom matplotlib import pyplot as plt\n",
      "\tfrom ultralytics import YOLO\n",
      "\timport datetime\n",
      "\n",
      "\tobecna_data = datetime.datetime.now()\n",
      "\tsformatowana_data = obecna_data.strftime(\"%d%m%Y-%H%M\")\n",
      "\tnazwa_pliku =  \"yolo_moj_model.pt\"\n",
      "\n",
      "\tmodel = YOLO(nazwa_pliku)\n",
      "\t#device = torch.device('cpu')\n",
      "\t#model.to(device)\n",
      "\tbname = \"yolo_moj_model_BACKUP\" + sformatowana_data + \".pt\"\n",
      "\n",
      "\tprint(bname)\n",
      "\n",
      "\tmodel.save(bname) # tworze backup na wszelki wypadek\n",
      "\n",
      "\t#parametry treningu\n",
      "\te = 20\n",
      "\tb = 4\n",
      "\n",
      "\t#trening\n",
      "\tmodel.train(data=\"dataset.yaml\", epochs=e, batch=b)\n",
      "\t#koniec treningu\n",
      "\n",
      "\tmodel.save(nazwa_pliku) # nadpisuje\n"
     ]
    }
   ],
   "source": [
    "t = open('trening.py', \"r\", encoding=\"utf-8\")\n",
    "print(t.read())\n",
    "t.close()"
   ]
  },
  {
   "cell_type": "markdown",
   "metadata": {},
   "source": [
    "---"
   ]
  }
 ],
 "metadata": {
  "kernelspec": {
   "display_name": "pytorch",
   "language": "python",
   "name": "python3"
  },
  "language_info": {
   "codemirror_mode": {
    "name": "ipython",
    "version": 3
   },
   "file_extension": ".py",
   "mimetype": "text/x-python",
   "name": "python",
   "nbconvert_exporter": "python",
   "pygments_lexer": "ipython3",
   "version": "3.12.8"
  }
 },
 "nbformat": 4,
 "nbformat_minor": 2
}
