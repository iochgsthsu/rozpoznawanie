{
  "cells": [
    {
      "cell_type": "markdown",
      "metadata": {
        "id": "Vb6HhL3GFe6C"
      },
      "source": [
        "## Rozpoznawanie samochodów w czasie rzeczywistym z użyciem sieci neuronowych"
      ]
    },
    {
      "cell_type": "markdown",
      "metadata": {
        "id": "rCCJ0kuPFe6G"
      },
      "source": [
        "---"
      ]
    },
    {
      "cell_type": "markdown",
      "metadata": {
        "id": "RBjWFmMhFe6I"
      },
      "source": [
        "W tym etapie wykorzystam własny zbiór danych"
      ]
    },
    {
      "cell_type": "markdown",
      "metadata": {
        "id": "rHskUawaFe6L"
      },
      "source": [
        "Użyty model : https://github.com/ultralytics/yolov5"
      ]
    },
    {
      "cell_type": "markdown",
      "metadata": {
        "id": "HHWXFK5GFe6L"
      },
      "source": [
        "---"
      ]
    },
    {
      "cell_type": "markdown",
      "metadata": {
        "id": "pv9LYHroFe6L"
      },
      "source": [
        "### Zacznę od wczytania potrzebnych bibliotek"
      ]
    },
    {
      "cell_type": "code",
      "execution_count": null,
      "metadata": {
        "colab": {
          "base_uri": "https://localhost:8080/"
        },
        "collapsed": true,
        "id": "ivMbGqwfFe6O",
        "outputId": "82d07320-c4e0-46c2-c8fc-af9165f9c9ed"
      },
      "outputs": [],
      "source": [
        "import torch\n",
        "import pandas as pd\n",
        "import numpy as np\n",
        "from matplotlib import pyplot as plt\n",
        "import os\n",
        "!pip install ultralytics\n",
        "from ultralytics import YOLO\n",
        "import PIL\n",
        "import shutil\n",
        "from google.colab import userdata\n"
      ]
    },
    {
      "cell_type": "markdown",
      "metadata": {
        "id": "OnOAi6viImD8"
      },
      "source": [
        "Klonuje repozytorium yolov5"
      ]
    },
    {
      "cell_type": "code",
      "execution_count": null,
      "metadata": {
        "colab": {
          "base_uri": "https://localhost:8080/"
        },
        "id": "TgTS4YrGIlqd",
        "outputId": "5a357fae-0ed5-4f17-9faa-681564723bcb"
      },
      "outputs": [
        {
          "name": "stdout",
          "output_type": "stream",
          "text": [
            "Cloning into 'yolov5'...\n",
            "remote: Enumerating objects: 17483, done.\u001b[K\n",
            "remote: Total 17483 (delta 0), reused 0 (delta 0), pack-reused 17483 (from 1)\u001b[K\n",
            "Receiving objects: 100% (17483/17483), 16.53 MiB | 8.68 MiB/s, done.\n",
            "Resolving deltas: 100% (11988/11988), done.\n"
          ]
        }
      ],
      "source": [
        "!git clone https://github.com/ultralytics/yolov5"
      ]
    },
    {
      "cell_type": "markdown",
      "metadata": {
        "id": "G_tOIPVaJspW"
      },
      "source": [
        "Pobieram własny zbiór danych"
      ]
    },
    {
      "cell_type": "code",
      "execution_count": null,
      "metadata": {
        "id": "-Kfv4Pq5ZMtS"
      },
      "outputs": [],
      "source": [
        "os.environ[\"GITHUB_TOKEN\"] = userdata.get('GITHUB_TOKEN')\n"
      ]
    },
    {
      "cell_type": "code",
      "execution_count": null,
      "metadata": {
        "colab": {
          "base_uri": "https://localhost:8080/"
        },
        "id": "4w8MYsMtYIAm",
        "outputId": "d658d045-50b7-427b-d482-1fd006bdce85"
      },
      "outputs": [
        {
          "name": "stdout",
          "output_type": "stream",
          "text": [
            "Cloning into 'car_dataset'...\n",
            "remote: Enumerating objects: 576, done.\u001b[K\n",
            "remote: Total 576 (delta 0), reused 0 (delta 0), pack-reused 576 (from 1)\u001b[K\n",
            "Receiving objects: 100% (576/576), 82.69 MiB | 27.35 MiB/s, done.\n"
          ]
        }
      ],
      "source": [
        "!git clone https://$GITHUB_TOKEN@github.com/iochgsthsu/car_dataset.git"
      ]
    },
    {
      "cell_type": "code",
      "execution_count": null,
      "metadata": {
        "id": "r9rbSmUfYpM9"
      },
      "outputs": [],
      "source": [
        "os.mkdir('datasets')"
      ]
    },
    {
      "cell_type": "code",
      "execution_count": null,
      "metadata": {
        "colab": {
          "base_uri": "https://localhost:8080/",
          "height": 35
        },
        "id": "DSJOvItTaE5V",
        "outputId": "478713ef-fb78-4c14-da6c-cdacd09cf19d"
      },
      "outputs": [
        {
          "data": {
            "application/vnd.google.colaboratory.intrinsic+json": {
              "type": "string"
            },
            "text/plain": [
              "'datasets/dataset.yaml'"
            ]
          },
          "execution_count": 6,
          "metadata": {},
          "output_type": "execute_result"
        }
      ],
      "source": [
        "shutil.move('car_dataset/dataset/samochody', 'datasets/')\n",
        "shutil.move('car_dataset/dataset/dataset.yaml', 'datasets/')"
      ]
    },
    {
      "cell_type": "markdown",
      "metadata": {
        "id": "cKwOQBBEYSQc"
      },
      "source": [
        "---"
      ]
    },
    {
      "cell_type": "markdown",
      "metadata": {
        "id": "ShMJdvsfFe6X"
      },
      "source": [
        "Następnie tworze plik konfiguracyjny zbioru danych"
      ]
    },
    {
      "cell_type": "code",
      "execution_count": null,
      "metadata": {
        "colab": {
          "base_uri": "https://localhost:8080/"
        },
        "id": "9UldmL_wFe6X",
        "outputId": "33d4f437-0fbf-44b6-d9e7-e99ec7ff8cbf"
      },
      "outputs": [
        {
          "name": "stdout",
          "output_type": "stream",
          "text": [
            "path: samochody/\n",
            "train: images/train/\n",
            "val: images/test/\n",
            "nc: 4\n",
            "names: ['autobus','ciężarowy', 'dostawczy', 'osobowy']  # Nazwy klas\n"
          ]
        }
      ],
      "source": [
        "try:\n",
        "  with open('datasets/dataset.yaml', \"r\", encoding=\"utf-8\") as c:\n",
        "    print(c.read())\n",
        "except FileNotFoundError:\n",
        "  print(\"Nie znaleziono pliku\")"
      ]
    },
    {
      "cell_type": "markdown",
      "metadata": {
        "id": "DrCJRtzJFe6S"
      },
      "source": [
        "Wczytuje model ze wstępnie zainicjowanymi wagami. Pre-trainowany model był uczony na zbiorze [COCO](https://cocodataset.org/)"
      ]
    },
    {
      "cell_type": "code",
      "execution_count": null,
      "metadata": {
        "colab": {
          "base_uri": "https://localhost:8080/"
        },
        "id": "ulA8UmNFFe6T",
        "outputId": "963da9f6-6ec7-435d-fa06-1116d65c74e8"
      },
      "outputs": [],
      "source": [
        "try:\n",
        "  with open('yolov5/models/yolov5s.yaml', \"r\", encoding=\"utf-8\") as y:\n",
        "    print(y.read())\n",
        "except FileNotFoundError:\n",
        "  print(\"Plik nie został znaleziony\")\n",
        "\n",
        "model = YOLO(\"yolov5su.pt\")\n"
      ]
    },
    {
      "cell_type": "code",
      "execution_count": null,
      "metadata": {
        "colab": {
          "base_uri": "https://localhost:8080/"
        },
        "id": "F0OrCJQyRZvZ",
        "outputId": "97c219db-4a98-4b97-9e04-8faa5bb8e38d"
      },
      "outputs": [
        {
          "name": "stdout",
          "output_type": "stream",
          "text": [
            "YOLOv5s summary: 153 layers, 9,153,152 parameters, 0 gradients, 24.2 GFLOPs\n"
          ]
        },
        {
          "data": {
            "text/plain": [
              "(153, 9153152, 0, 24.2129408)"
            ]
          },
          "execution_count": 9,
          "metadata": {},
          "output_type": "execute_result"
        }
      ],
      "source": [
        "model.info()"
      ]
    },
    {
      "cell_type": "markdown",
      "metadata": {
        "id": "WhrBwB9cWGcM"
      },
      "source": [
        "Tworze plik konfiguracyjny trenowania"
      ]
    },
    {
      "cell_type": "code",
      "execution_count": null,
      "metadata": {
        "id": "GBPW3J_SWKFV"
      },
      "outputs": [],
      "source": [
        "config = {\n",
        "    \"data\": \"datasets/dataset.yaml\",\n",
        "    \"mode\": \"train\",\n",
        "    \"epochs\": 600,\n",
        "    \"batch\": 16,\n",
        "    \"patience\": 0,\n",
        "    \"imgsz\": 640,\n",
        "    # transfer learning\n",
        "    \"freeze\": 10, # zamrazam wszystkie warstwy w backbone\n",
        "    \"lr0\": 0.001,\n",
        "    # augmentacja\n",
        "    \"hsv_h\": 0.015,\n",
        "    \"hsv_s\": 0.7,\n",
        "    \"hsv_v\": 0.4,\n",
        "    \"degrees\": 30,\n",
        "    \"translate\": 0.1,\n",
        "    \"shear\": 0.2,\n",
        "    \"flipud\": 0.5,\n",
        "    \"fliplr\": 0.5,\n",
        "    \"mosaic\": 1.0,\n",
        "    \"mixup\": 0.2,\n",
        "    \"scale\": 0.5\n",
        "}"
      ]
    },
    {
      "cell_type": "code",
      "execution_count": null,
      "metadata": {
        "id": "SVeAzvUqo-1D"
      },
      "outputs": [],
      "source": [
        "try:\n",
        "    with open('datasets/cfg.yaml', 'w', encoding='utf-8') as f:\n",
        "        yc = '\\n'.join([f\"{key}: {value}\" for key, value in config.items()])\n",
        "        f.write(yc)\n",
        "except (FileNotFoundError, IsADirectoryError) as e:\n",
        "    print(f\"Błąd zapisu pliku: {e}\")"
      ]
    },
    {
      "cell_type": "code",
      "execution_count": null,
      "metadata": {
        "colab": {
          "base_uri": "https://localhost:8080/"
        },
        "id": "eF5wufgRXXWM",
        "outputId": "03a791e2-6e8d-4f00-97ec-cb8e0cb90f43"
      },
      "outputs": [
        {
          "name": "stdout",
          "output_type": "stream",
          "text": [
            "data: datasets/dataset.yaml\n",
            "mode: train\n",
            "epochs: 600\n",
            "batch: 16\n",
            "patience: 0\n",
            "imgsz: 640\n",
            "freeze: 10\n",
            "lr0: 0.001\n",
            "hsv_h: 0.015\n",
            "hsv_s: 0.7\n",
            "hsv_v: 0.4\n",
            "degrees: 30\n",
            "translate: 0.1\n",
            "shear: 0.2\n",
            "flipud: 0.5\n",
            "fliplr: 0.5\n",
            "mosaic: 1.0\n",
            "mixup: 0.2\n",
            "scale: 0.5\n"
          ]
        }
      ],
      "source": [
        "try:\n",
        "  with open('datasets/cfg.yaml', \"r\", encoding=\"utf-8\") as c:\n",
        "    print(c.read())\n",
        "except FileNotFoundError:\n",
        "  print(\"Nie znaleziono pliku\")"
      ]
    },
    {
      "cell_type": "markdown",
      "metadata": {
        "id": "kmZWTvcjFe6Y"
      },
      "source": [
        "Następnie przechodze do trenowania modelu"
      ]
    },
    {
      "cell_type": "code",
      "execution_count": null,
      "metadata": {
        "colab": {
          "base_uri": "https://localhost:8080/"
        },
        "id": "at2BvFrwFe6Y",
        "outputId": "11dd7ae1-2a0f-43eb-c090-45e3d395f48e"
      },
      "outputs": [],
      "source": [
        "results = model.train(cfg=\"datasets/cfg.yaml\")"
      ]
    },
    {
      "cell_type": "markdown",
      "metadata": {
        "id": "zx3rw0h_Fe6Y"
      },
      "source": [
        "Zapisuje model"
      ]
    },
    {
      "cell_type": "code",
      "execution_count": null,
      "metadata": {
        "id": "THytcQ-xFe6Z"
      },
      "outputs": [],
      "source": [
        "model.save(\"moj_yolov5_600_w.pt\")"
      ]
    },
    {
      "cell_type": "markdown",
      "metadata": {
        "id": "WEGp9EZDLKVR"
      },
      "source": [
        "Zipuje katalog runs"
      ]
    },
    {
      "cell_type": "code",
      "execution_count": null,
      "metadata": {
        "colab": {
          "base_uri": "https://localhost:8080/"
        },
        "id": "Lje3ooH1jLJ9",
        "outputId": "5c03ec54-5d59-47d3-bec6-e878c0a4aa96"
      },
      "outputs": [
        {
          "name": "stdout",
          "output_type": "stream",
          "text": [
            "Folder /content/runs został spakowany do /content/runs.zip\n"
          ]
        }
      ],
      "source": [
        "folder_to_zip = '/content/runs'\n",
        "\n",
        "output_zip_file = '/content/runs.zip'\n",
        "\n",
        "try:\n",
        "  shutil.make_archive(output_zip_file.replace('.zip', ''), 'zip', folder_to_zip)\n",
        "except FileNotFoundError:\n",
        "  print(\"Plik nie został znaleziony\")\n",
        "\n",
        "\n",
        "print(f\"Folder {folder_to_zip} został spakowany do {output_zip_file}\")"
      ]
    },
    {
      "cell_type": "markdown",
      "metadata": {
        "id": "ctjoaV7FFe6Z"
      },
      "source": [
        "---"
      ]
    }
  ],
  "metadata": {
    "accelerator": "GPU",
    "colab": {
      "gpuType": "T4",
      "provenance": []
    },
    "kernelspec": {
      "display_name": "Python 3",
      "name": "python3"
    },
    "language_info": {
      "codemirror_mode": {
        "name": "ipython",
        "version": 3
      },
      "file_extension": ".py",
      "mimetype": "text/x-python",
      "name": "python",
      "nbconvert_exporter": "python",
      "pygments_lexer": "ipython3",
      "version": "3.12.8"
    }
  },
  "nbformat": 4,
  "nbformat_minor": 0
}
