{
  "cells": [
    {
      "cell_type": "markdown",
      "metadata": {
        "id": "Vb6HhL3GFe6C"
      },
      "source": [
        "## Rozpoznawanie samochodów w czasie rzeczywistym z użyciem sieci neuronowych"
      ]
    },
    {
      "cell_type": "markdown",
      "metadata": {
        "id": "rCCJ0kuPFe6G"
      },
      "source": [
        "---"
      ]
    },
    {
      "cell_type": "markdown",
      "metadata": {
        "id": "RBjWFmMhFe6I"
      },
      "source": [
        "W tym etapie użyje częściowo gotowego zbioru danych i użyje go do trenowania modelu."
      ]
    },
    {
      "cell_type": "markdown",
      "metadata": {
        "id": "vjPUK2XcFe6J"
      },
      "source": [
        "Użyty zbiór danych: https://www.kaggle.com/datasets/sshikamaru/car-object-detection/data"
      ]
    },
    {
      "cell_type": "markdown",
      "metadata": {
        "id": "rHskUawaFe6L"
      },
      "source": [
        "Użyta architektura : https://github.com/ultralytics/yolov5"
      ]
    },
    {
      "cell_type": "markdown",
      "metadata": {
        "id": "HHWXFK5GFe6L"
      },
      "source": [
        "---"
      ]
    },
    {
      "cell_type": "markdown",
      "metadata": {
        "id": "pv9LYHroFe6L"
      },
      "source": [
        "### Zacznę od wczytania potrzebnych bibliotek"
      ]
    },
    {
      "cell_type": "code",
      "execution_count": null,
      "metadata": {
        "colab": {
          "base_uri": "https://localhost:8080/"
        },
        "collapsed": true,
        "id": "ivMbGqwfFe6O",
        "outputId": "85dd13fa-6bb4-4e19-b6d4-18d458e84149"
      },
      "outputs": [
        {
          "name": "stdout",
          "output_type": "stream",
          "text": [
            "Requirement already satisfied: ultralytics in /usr/local/lib/python3.11/dist-packages (8.3.108)\n",
            "Requirement already satisfied: numpy<=2.1.1,>=1.23.0 in /usr/local/lib/python3.11/dist-packages (from ultralytics) (2.0.2)\n",
            "Requirement already satisfied: matplotlib>=3.3.0 in /usr/local/lib/python3.11/dist-packages (from ultralytics) (3.10.0)\n",
            "Requirement already satisfied: opencv-python>=4.6.0 in /usr/local/lib/python3.11/dist-packages (from ultralytics) (4.11.0.86)\n",
            "Requirement already satisfied: pillow>=7.1.2 in /usr/local/lib/python3.11/dist-packages (from ultralytics) (11.1.0)\n",
            "Requirement already satisfied: pyyaml>=5.3.1 in /usr/local/lib/python3.11/dist-packages (from ultralytics) (6.0.2)\n",
            "Requirement already satisfied: requests>=2.23.0 in /usr/local/lib/python3.11/dist-packages (from ultralytics) (2.32.3)\n",
            "Requirement already satisfied: scipy>=1.4.1 in /usr/local/lib/python3.11/dist-packages (from ultralytics) (1.14.1)\n",
            "Requirement already satisfied: torch>=1.8.0 in /usr/local/lib/python3.11/dist-packages (from ultralytics) (2.6.0+cu124)\n",
            "Requirement already satisfied: torchvision>=0.9.0 in /usr/local/lib/python3.11/dist-packages (from ultralytics) (0.21.0+cu124)\n",
            "Requirement already satisfied: tqdm>=4.64.0 in /usr/local/lib/python3.11/dist-packages (from ultralytics) (4.67.1)\n",
            "Requirement already satisfied: psutil in /usr/local/lib/python3.11/dist-packages (from ultralytics) (5.9.5)\n",
            "Requirement already satisfied: py-cpuinfo in /usr/local/lib/python3.11/dist-packages (from ultralytics) (9.0.0)\n",
            "Requirement already satisfied: pandas>=1.1.4 in /usr/local/lib/python3.11/dist-packages (from ultralytics) (2.2.2)\n",
            "Requirement already satisfied: seaborn>=0.11.0 in /usr/local/lib/python3.11/dist-packages (from ultralytics) (0.13.2)\n",
            "Requirement already satisfied: ultralytics-thop>=2.0.0 in /usr/local/lib/python3.11/dist-packages (from ultralytics) (2.0.14)\n",
            "Requirement already satisfied: contourpy>=1.0.1 in /usr/local/lib/python3.11/dist-packages (from matplotlib>=3.3.0->ultralytics) (1.3.1)\n",
            "Requirement already satisfied: cycler>=0.10 in /usr/local/lib/python3.11/dist-packages (from matplotlib>=3.3.0->ultralytics) (0.12.1)\n",
            "Requirement already satisfied: fonttools>=4.22.0 in /usr/local/lib/python3.11/dist-packages (from matplotlib>=3.3.0->ultralytics) (4.57.0)\n",
            "Requirement already satisfied: kiwisolver>=1.3.1 in /usr/local/lib/python3.11/dist-packages (from matplotlib>=3.3.0->ultralytics) (1.4.8)\n",
            "Requirement already satisfied: packaging>=20.0 in /usr/local/lib/python3.11/dist-packages (from matplotlib>=3.3.0->ultralytics) (24.2)\n",
            "Requirement already satisfied: pyparsing>=2.3.1 in /usr/local/lib/python3.11/dist-packages (from matplotlib>=3.3.0->ultralytics) (3.2.3)\n",
            "Requirement already satisfied: python-dateutil>=2.7 in /usr/local/lib/python3.11/dist-packages (from matplotlib>=3.3.0->ultralytics) (2.8.2)\n",
            "Requirement already satisfied: pytz>=2020.1 in /usr/local/lib/python3.11/dist-packages (from pandas>=1.1.4->ultralytics) (2025.2)\n",
            "Requirement already satisfied: tzdata>=2022.7 in /usr/local/lib/python3.11/dist-packages (from pandas>=1.1.4->ultralytics) (2025.2)\n",
            "Requirement already satisfied: charset-normalizer<4,>=2 in /usr/local/lib/python3.11/dist-packages (from requests>=2.23.0->ultralytics) (3.4.1)\n",
            "Requirement already satisfied: idna<4,>=2.5 in /usr/local/lib/python3.11/dist-packages (from requests>=2.23.0->ultralytics) (3.10)\n",
            "Requirement already satisfied: urllib3<3,>=1.21.1 in /usr/local/lib/python3.11/dist-packages (from requests>=2.23.0->ultralytics) (2.3.0)\n",
            "Requirement already satisfied: certifi>=2017.4.17 in /usr/local/lib/python3.11/dist-packages (from requests>=2.23.0->ultralytics) (2025.1.31)\n",
            "Requirement already satisfied: filelock in /usr/local/lib/python3.11/dist-packages (from torch>=1.8.0->ultralytics) (3.18.0)\n",
            "Requirement already satisfied: typing-extensions>=4.10.0 in /usr/local/lib/python3.11/dist-packages (from torch>=1.8.0->ultralytics) (4.13.1)\n",
            "Requirement already satisfied: networkx in /usr/local/lib/python3.11/dist-packages (from torch>=1.8.0->ultralytics) (3.4.2)\n",
            "Requirement already satisfied: jinja2 in /usr/local/lib/python3.11/dist-packages (from torch>=1.8.0->ultralytics) (3.1.6)\n",
            "Requirement already satisfied: fsspec in /usr/local/lib/python3.11/dist-packages (from torch>=1.8.0->ultralytics) (2025.3.2)\n",
            "Requirement already satisfied: nvidia-cuda-nvrtc-cu12==12.4.127 in /usr/local/lib/python3.11/dist-packages (from torch>=1.8.0->ultralytics) (12.4.127)\n",
            "Requirement already satisfied: nvidia-cuda-runtime-cu12==12.4.127 in /usr/local/lib/python3.11/dist-packages (from torch>=1.8.0->ultralytics) (12.4.127)\n",
            "Requirement already satisfied: nvidia-cuda-cupti-cu12==12.4.127 in /usr/local/lib/python3.11/dist-packages (from torch>=1.8.0->ultralytics) (12.4.127)\n",
            "Requirement already satisfied: nvidia-cudnn-cu12==9.1.0.70 in /usr/local/lib/python3.11/dist-packages (from torch>=1.8.0->ultralytics) (9.1.0.70)\n",
            "Requirement already satisfied: nvidia-cublas-cu12==12.4.5.8 in /usr/local/lib/python3.11/dist-packages (from torch>=1.8.0->ultralytics) (12.4.5.8)\n",
            "Requirement already satisfied: nvidia-cufft-cu12==11.2.1.3 in /usr/local/lib/python3.11/dist-packages (from torch>=1.8.0->ultralytics) (11.2.1.3)\n",
            "Requirement already satisfied: nvidia-curand-cu12==10.3.5.147 in /usr/local/lib/python3.11/dist-packages (from torch>=1.8.0->ultralytics) (10.3.5.147)\n",
            "Requirement already satisfied: nvidia-cusolver-cu12==11.6.1.9 in /usr/local/lib/python3.11/dist-packages (from torch>=1.8.0->ultralytics) (11.6.1.9)\n",
            "Requirement already satisfied: nvidia-cusparse-cu12==12.3.1.170 in /usr/local/lib/python3.11/dist-packages (from torch>=1.8.0->ultralytics) (12.3.1.170)\n",
            "Requirement already satisfied: nvidia-cusparselt-cu12==0.6.2 in /usr/local/lib/python3.11/dist-packages (from torch>=1.8.0->ultralytics) (0.6.2)\n",
            "Requirement already satisfied: nvidia-nccl-cu12==2.21.5 in /usr/local/lib/python3.11/dist-packages (from torch>=1.8.0->ultralytics) (2.21.5)\n",
            "Requirement already satisfied: nvidia-nvtx-cu12==12.4.127 in /usr/local/lib/python3.11/dist-packages (from torch>=1.8.0->ultralytics) (12.4.127)\n",
            "Requirement already satisfied: nvidia-nvjitlink-cu12==12.4.127 in /usr/local/lib/python3.11/dist-packages (from torch>=1.8.0->ultralytics) (12.4.127)\n",
            "Requirement already satisfied: triton==3.2.0 in /usr/local/lib/python3.11/dist-packages (from torch>=1.8.0->ultralytics) (3.2.0)\n",
            "Requirement already satisfied: sympy==1.13.1 in /usr/local/lib/python3.11/dist-packages (from torch>=1.8.0->ultralytics) (1.13.1)\n",
            "Requirement already satisfied: mpmath<1.4,>=1.1.0 in /usr/local/lib/python3.11/dist-packages (from sympy==1.13.1->torch>=1.8.0->ultralytics) (1.3.0)\n",
            "Requirement already satisfied: six>=1.5 in /usr/local/lib/python3.11/dist-packages (from python-dateutil>=2.7->matplotlib>=3.3.0->ultralytics) (1.17.0)\n",
            "Requirement already satisfied: MarkupSafe>=2.0 in /usr/local/lib/python3.11/dist-packages (from jinja2->torch>=1.8.0->ultralytics) (3.0.2)\n"
          ]
        }
      ],
      "source": [
        "import torch\n",
        "import pandas as pd\n",
        "import numpy as np\n",
        "from matplotlib import pyplot as plt\n",
        "import os\n",
        "!pip install ultralytics\n",
        "from ultralytics import YOLO\n",
        "import PIL\n",
        "import shutil\n",
        "from google.colab import userdata\n"
      ]
    },
    {
      "cell_type": "markdown",
      "metadata": {
        "id": "OnOAi6viImD8"
      },
      "source": [
        "Klonuje repozytorium yolov5"
      ]
    },
    {
      "cell_type": "code",
      "execution_count": null,
      "metadata": {
        "colab": {
          "base_uri": "https://localhost:8080/"
        },
        "id": "TgTS4YrGIlqd",
        "outputId": "d4f1a898-2212-499e-a1d2-0344981fdd90"
      },
      "outputs": [
        {
          "name": "stdout",
          "output_type": "stream",
          "text": [
            "Cloning into 'yolov5'...\n",
            "remote: Enumerating objects: 17377, done.\u001b[K\n",
            "remote: Counting objects: 100% (64/64), done.\u001b[K\n",
            "remote: Compressing objects: 100% (44/44), done.\u001b[K\n",
            "remote: Total 17377 (delta 43), reused 20 (delta 20), pack-reused 17313 (from 3)\u001b[K\n",
            "Receiving objects: 100% (17377/17377), 16.25 MiB | 29.83 MiB/s, done.\n",
            "Resolving deltas: 100% (11911/11911), done.\n"
          ]
        }
      ],
      "source": [
        "!git clone https://github.com/ultralytics/yolov5"
      ]
    },
    {
      "cell_type": "markdown",
      "metadata": {
        "id": "G_tOIPVaJspW"
      },
      "source": [
        "Pobieram z kaggla zbiór danych"
      ]
    },
    {
      "cell_type": "code",
      "execution_count": null,
      "metadata": {
        "id": "3MZSVnQePeO7"
      },
      "outputs": [],
      "source": [
        "os.environ[\"KAGGLE_KEY\"] = userdata.get('KAGGLE_KEY')\n",
        "os.environ[\"KAGGLE_USERNAME\"] = userdata.get('KAGGLE_USERNAME')"
      ]
    },
    {
      "cell_type": "code",
      "execution_count": null,
      "metadata": {
        "colab": {
          "base_uri": "https://localhost:8080/"
        },
        "collapsed": true,
        "id": "-8JZSPMEJum5",
        "outputId": "f42aa5bf-d2b6-4f19-ed92-8d5a607004d3"
      },
      "outputs": [
        {
          "name": "stdout",
          "output_type": "stream",
          "text": [
            "Dataset URL: https://www.kaggle.com/datasets/sshikamaru/car-object-detection\n",
            "License(s): other\n",
            "Archive:  car-object-detection.zip\n",
            "  inflating: data/sample_submission.csv  \n",
            "  inflating: data/testing_images/vid_5_25100.jpg  \n",
            "  inflating: data/testing_images/vid_5_25120.jpg  \n",
            "  inflating: data/testing_images/vid_5_25140.jpg  \n",
            "  inflating: data/testing_images/vid_5_25160.jpg  \n",
            "  inflating: data/testing_images/vid_5_25180.jpg  \n",
            "  inflating: data/testing_images/vid_5_25200.jpg  \n",
            "  inflating: data/testing_images/vid_5_25220.jpg  \n",
            "  inflating: data/testing_images/vid_5_25240.jpg  \n",
            "  inflating: data/testing_images/vid_5_25260.jpg  \n",
            "  inflating: data/testing_images/vid_5_26320.jpg  \n",
            "  inflating: data/testing_images/vid_5_26400.jpg  \n",
            "  inflating: data/testing_images/vid_5_26420.jpg  \n",
            "  inflating: data/testing_images/vid_5_26560.jpg  \n",
            "  inflating: data/testing_images/vid_5_26580.jpg  \n",
            "  inflating: data/testing_images/vid_5_26600.jpg  \n",
            "  inflating: data/testing_images/vid_5_26620.jpg  \n",
            "  inflating: data/testing_images/vid_5_26640.jpg  \n",
            "  inflating: data/testing_images/vid_5_26660.jpg  \n",
            "  inflating: data/testing_images/vid_5_26680.jpg  \n",
            "  inflating: data/testing_images/vid_5_26700.jpg  \n",
            "  inflating: data/testing_images/vid_5_26720.jpg  \n",
            "  inflating: data/testing_images/vid_5_26740.jpg  \n",
            "  inflating: data/testing_images/vid_5_26760.jpg  \n",
            "  inflating: data/testing_images/vid_5_26780.jpg  \n",
            "  inflating: data/testing_images/vid_5_26800.jpg  \n",
            "  inflating: data/testing_images/vid_5_26820.jpg  \n",
            "  inflating: data/testing_images/vid_5_26840.jpg  \n",
            "  inflating: data/testing_images/vid_5_26860.jpg  \n",
            "  inflating: data/testing_images/vid_5_26880.jpg  \n",
            "  inflating: data/testing_images/vid_5_26900.jpg  \n",
            "  inflating: data/testing_images/vid_5_26920.jpg  \n",
            "  inflating: data/testing_images/vid_5_26940.jpg  \n",
            "  inflating: data/testing_images/vid_5_26960.jpg  \n",
            "  inflating: data/testing_images/vid_5_26980.jpg  \n",
            "  inflating: data/testing_images/vid_5_27240.jpg  \n",
            "  inflating: data/testing_images/vid_5_27260.jpg  \n",
            "  inflating: data/testing_images/vid_5_27280.jpg  \n",
            "  inflating: data/testing_images/vid_5_27300.jpg  \n",
            "  inflating: data/testing_images/vid_5_27320.jpg  \n",
            "  inflating: data/testing_images/vid_5_27360.jpg  \n",
            "  inflating: data/testing_images/vid_5_27380.jpg  \n",
            "  inflating: data/testing_images/vid_5_27400.jpg  \n",
            "  inflating: data/testing_images/vid_5_27420.jpg  \n",
            "  inflating: data/testing_images/vid_5_27440.jpg  \n",
            "  inflating: data/testing_images/vid_5_27460.jpg  \n",
            "  inflating: data/testing_images/vid_5_27480.jpg  \n",
            "  inflating: data/testing_images/vid_5_27500.jpg  \n",
            "  inflating: data/testing_images/vid_5_27520.jpg  \n",
            "  inflating: data/testing_images/vid_5_27540.jpg  \n",
            "  inflating: data/testing_images/vid_5_27560.jpg  \n",
            "  inflating: data/testing_images/vid_5_27580.jpg  \n",
            "  inflating: data/testing_images/vid_5_27600.jpg  \n",
            "  inflating: data/testing_images/vid_5_27620.jpg  \n",
            "  inflating: data/testing_images/vid_5_27640.jpg  \n",
            "  inflating: data/testing_images/vid_5_27660.jpg  \n",
            "  inflating: data/testing_images/vid_5_27680.jpg  \n",
            "  inflating: data/testing_images/vid_5_27700.jpg  \n",
            "  inflating: data/testing_images/vid_5_27720.jpg  \n",
            "  inflating: data/testing_images/vid_5_27740.jpg  \n",
            "  inflating: data/testing_images/vid_5_27760.jpg  \n",
            "  inflating: data/testing_images/vid_5_27780.jpg  \n",
            "  inflating: data/testing_images/vid_5_27800.jpg  \n",
            "  inflating: data/testing_images/vid_5_27820.jpg  \n",
            "  inflating: data/testing_images/vid_5_27840.jpg  \n",
            "  inflating: data/testing_images/vid_5_27860.jpg  \n",
            "  inflating: data/testing_images/vid_5_27880.jpg  \n",
            "  inflating: data/testing_images/vid_5_27900.jpg  \n",
            "  inflating: data/testing_images/vid_5_27920.jpg  \n",
            "  inflating: data/testing_images/vid_5_27940.jpg  \n",
            "  inflating: data/testing_images/vid_5_27960.jpg  \n",
            "  inflating: data/testing_images/vid_5_27980.jpg  \n",
            "  inflating: data/testing_images/vid_5_28000.jpg  \n",
            "  inflating: data/testing_images/vid_5_28020.jpg  \n",
            "  inflating: data/testing_images/vid_5_28040.jpg  \n",
            "  inflating: data/testing_images/vid_5_28060.jpg  \n",
            "  inflating: data/testing_images/vid_5_28080.jpg  \n",
            "  inflating: data/testing_images/vid_5_28180.jpg  \n",
            "  inflating: data/testing_images/vid_5_28260.jpg  \n",
            "  inflating: data/testing_images/vid_5_28320.jpg  \n",
            "  inflating: data/testing_images/vid_5_28340.jpg  \n",
            "  inflating: data/testing_images/vid_5_28360.jpg  \n",
            "  inflating: data/testing_images/vid_5_28380.jpg  \n",
            "  inflating: data/testing_images/vid_5_28420.jpg  \n",
            "  inflating: data/testing_images/vid_5_28440.jpg  \n",
            "  inflating: data/testing_images/vid_5_28460.jpg  \n",
            "  inflating: data/testing_images/vid_5_28480.jpg  \n",
            "  inflating: data/testing_images/vid_5_28500.jpg  \n",
            "  inflating: data/testing_images/vid_5_28520.jpg  \n",
            "  inflating: data/testing_images/vid_5_28540.jpg  \n",
            "  inflating: data/testing_images/vid_5_28560.jpg  \n",
            "  inflating: data/testing_images/vid_5_28580.jpg  \n",
            "  inflating: data/testing_images/vid_5_28600.jpg  \n",
            "  inflating: data/testing_images/vid_5_28620.jpg  \n",
            "  inflating: data/testing_images/vid_5_28640.jpg  \n",
            "  inflating: data/testing_images/vid_5_28660.jpg  \n",
            "  inflating: data/testing_images/vid_5_28680.jpg  \n",
            "  inflating: data/testing_images/vid_5_28700.jpg  \n",
            "  inflating: data/testing_images/vid_5_29000.jpg  \n",
            "  inflating: data/testing_images/vid_5_29020.jpg  \n",
            "  inflating: data/testing_images/vid_5_29040.jpg  \n",
            "  inflating: data/testing_images/vid_5_29060.jpg  \n",
            "  inflating: data/testing_images/vid_5_29080.jpg  \n",
            "  inflating: data/testing_images/vid_5_29100.jpg  \n",
            "  inflating: data/testing_images/vid_5_29400.jpg  \n",
            "  inflating: data/testing_images/vid_5_29420.jpg  \n",
            "  inflating: data/testing_images/vid_5_29440.jpg  \n",
            "  inflating: data/testing_images/vid_5_29460.jpg  \n",
            "  inflating: data/testing_images/vid_5_29480.jpg  \n",
            "  inflating: data/testing_images/vid_5_29500.jpg  \n",
            "  inflating: data/testing_images/vid_5_29520.jpg  \n",
            "  inflating: data/testing_images/vid_5_29540.jpg  \n",
            "  inflating: data/testing_images/vid_5_29560.jpg  \n",
            "  inflating: data/testing_images/vid_5_29580.jpg  \n",
            "  inflating: data/testing_images/vid_5_29600.jpg  \n",
            "  inflating: data/testing_images/vid_5_29620.jpg  \n",
            "  inflating: data/testing_images/vid_5_29640.jpg  \n",
            "  inflating: data/testing_images/vid_5_29720.jpg  \n",
            "  inflating: data/testing_images/vid_5_29740.jpg  \n",
            "  inflating: data/testing_images/vid_5_29760.jpg  \n",
            "  inflating: data/testing_images/vid_5_29820.jpg  \n",
            "  inflating: data/testing_images/vid_5_29840.jpg  \n",
            "  inflating: data/testing_images/vid_5_29860.jpg  \n",
            "  inflating: data/testing_images/vid_5_29880.jpg  \n",
            "  inflating: data/testing_images/vid_5_29900.jpg  \n",
            "  inflating: data/testing_images/vid_5_29980.jpg  \n",
            "  inflating: data/testing_images/vid_5_30000.jpg  \n",
            "  inflating: data/testing_images/vid_5_30020.jpg  \n",
            "  inflating: data/testing_images/vid_5_30040.jpg  \n",
            "  inflating: data/testing_images/vid_5_30120.jpg  \n",
            "  inflating: data/testing_images/vid_5_30140.jpg  \n",
            "  inflating: data/testing_images/vid_5_30160.jpg  \n",
            "  inflating: data/testing_images/vid_5_30180.jpg  \n",
            "  inflating: data/testing_images/vid_5_30640.jpg  \n",
            "  inflating: data/testing_images/vid_5_30660.jpg  \n",
            "  inflating: data/testing_images/vid_5_30680.jpg  \n",
            "  inflating: data/testing_images/vid_5_30700.jpg  \n",
            "  inflating: data/testing_images/vid_5_30720.jpg  \n",
            "  inflating: data/testing_images/vid_5_30740.jpg  \n",
            "  inflating: data/testing_images/vid_5_30760.jpg  \n",
            "  inflating: data/testing_images/vid_5_30820.jpg  \n",
            "  inflating: data/testing_images/vid_5_30840.jpg  \n",
            "  inflating: data/testing_images/vid_5_30860.jpg  \n",
            "  inflating: data/testing_images/vid_5_30920.jpg  \n",
            "  inflating: data/testing_images/vid_5_30940.jpg  \n",
            "  inflating: data/testing_images/vid_5_31020.jpg  \n",
            "  inflating: data/testing_images/vid_5_31040.jpg  \n",
            "  inflating: data/testing_images/vid_5_31060.jpg  \n",
            "  inflating: data/testing_images/vid_5_31080.jpg  \n",
            "  inflating: data/testing_images/vid_5_31100.jpg  \n",
            "  inflating: data/testing_images/vid_5_31120.jpg  \n",
            "  inflating: data/testing_images/vid_5_31140.jpg  \n",
            "  inflating: data/testing_images/vid_5_31160.jpg  \n",
            "  inflating: data/testing_images/vid_5_31180.jpg  \n",
            "  inflating: data/testing_images/vid_5_31200.jpg  \n",
            "  inflating: data/testing_images/vid_5_31260.jpg  \n",
            "  inflating: data/testing_images/vid_5_31280.jpg  \n",
            "  inflating: data/testing_images/vid_5_31300.jpg  \n",
            "  inflating: data/testing_images/vid_5_31360.jpg  \n",
            "  inflating: data/testing_images/vid_5_31380.jpg  \n",
            "  inflating: data/testing_images/vid_5_31400.jpg  \n",
            "  inflating: data/testing_images/vid_5_31420.jpg  \n",
            "  inflating: data/testing_images/vid_5_31480.jpg  \n",
            "  inflating: data/testing_images/vid_5_31500.jpg  \n",
            "  inflating: data/testing_images/vid_5_31520.jpg  \n",
            "  inflating: data/testing_images/vid_5_31560.jpg  \n",
            "  inflating: data/testing_images/vid_5_31600.jpg  \n",
            "  inflating: data/testing_images/vid_5_31620.jpg  \n",
            "  inflating: data/testing_images/vid_5_31640.jpg  \n",
            "  inflating: data/testing_images/vid_5_31660.jpg  \n",
            "  inflating: data/testing_images/vid_5_31680.jpg  \n",
            "  inflating: data/testing_images/vid_5_31700.jpg  \n",
            "  inflating: data/testing_images/vid_5_31720.jpg  \n",
            "  inflating: data/testing_images/vid_5_400.jpg  \n",
            "  inflating: data/testing_images/vid_5_420.jpg  \n",
            "  inflating: data/testing_images/vid_5_440.jpg  \n",
            "  inflating: data/train_solution_bounding_boxes (1).csv  \n",
            "  inflating: data/training_images/vid_4_1000.jpg  \n",
            "  inflating: data/training_images/vid_4_10000.jpg  \n",
            "  inflating: data/training_images/vid_4_10020.jpg  \n",
            "  inflating: data/training_images/vid_4_10040.jpg  \n",
            "  inflating: data/training_images/vid_4_10060.jpg  \n",
            "  inflating: data/training_images/vid_4_10080.jpg  \n",
            "  inflating: data/training_images/vid_4_10100.jpg  \n",
            "  inflating: data/training_images/vid_4_10120.jpg  \n",
            "  inflating: data/training_images/vid_4_10140.jpg  \n",
            "  inflating: data/training_images/vid_4_10160.jpg  \n",
            "  inflating: data/training_images/vid_4_10180.jpg  \n",
            "  inflating: data/training_images/vid_4_1020.jpg  \n",
            "  inflating: data/training_images/vid_4_10200.jpg  \n",
            "  inflating: data/training_images/vid_4_10220.jpg  \n",
            "  inflating: data/training_images/vid_4_10240.jpg  \n",
            "  inflating: data/training_images/vid_4_10260.jpg  \n",
            "  inflating: data/training_images/vid_4_10280.jpg  \n",
            "  inflating: data/training_images/vid_4_10300.jpg  \n",
            "  inflating: data/training_images/vid_4_10320.jpg  \n",
            "  inflating: data/training_images/vid_4_10340.jpg  \n",
            "  inflating: data/training_images/vid_4_10360.jpg  \n",
            "  inflating: data/training_images/vid_4_10380.jpg  \n",
            "  inflating: data/training_images/vid_4_1040.jpg  \n",
            "  inflating: data/training_images/vid_4_10400.jpg  \n",
            "  inflating: data/training_images/vid_4_10420.jpg  \n",
            "  inflating: data/training_images/vid_4_10440.jpg  \n",
            "  inflating: data/training_images/vid_4_10460.jpg  \n",
            "  inflating: data/training_images/vid_4_10480.jpg  \n",
            "  inflating: data/training_images/vid_4_10500.jpg  \n",
            "  inflating: data/training_images/vid_4_10520.jpg  \n",
            "  inflating: data/training_images/vid_4_10540.jpg  \n",
            "  inflating: data/training_images/vid_4_10560.jpg  \n",
            "  inflating: data/training_images/vid_4_10580.jpg  \n",
            "  inflating: data/training_images/vid_4_1060.jpg  \n",
            "  inflating: data/training_images/vid_4_10600.jpg  \n",
            "  inflating: data/training_images/vid_4_10620.jpg  \n",
            "  inflating: data/training_images/vid_4_10640.jpg  \n",
            "  inflating: data/training_images/vid_4_10660.jpg  \n",
            "  inflating: data/training_images/vid_4_10680.jpg  \n",
            "  inflating: data/training_images/vid_4_10700.jpg  \n",
            "  inflating: data/training_images/vid_4_10720.jpg  \n",
            "  inflating: data/training_images/vid_4_10740.jpg  \n",
            "  inflating: data/training_images/vid_4_10760.jpg  \n",
            "  inflating: data/training_images/vid_4_10780.jpg  \n",
            "  inflating: data/training_images/vid_4_1080.jpg  \n",
            "  inflating: data/training_images/vid_4_10800.jpg  \n",
            "  inflating: data/training_images/vid_4_10820.jpg  \n",
            "  inflating: data/training_images/vid_4_10840.jpg  \n",
            "  inflating: data/training_images/vid_4_10860.jpg  \n",
            "  inflating: data/training_images/vid_4_10880.jpg  \n",
            "  inflating: data/training_images/vid_4_10900.jpg  \n",
            "  inflating: data/training_images/vid_4_10920.jpg  \n",
            "  inflating: data/training_images/vid_4_10940.jpg  \n",
            "  inflating: data/training_images/vid_4_10960.jpg  \n",
            "  inflating: data/training_images/vid_4_10980.jpg  \n",
            "  inflating: data/training_images/vid_4_11000.jpg  \n",
            "  inflating: data/training_images/vid_4_11020.jpg  \n",
            "  inflating: data/training_images/vid_4_11040.jpg  \n",
            "  inflating: data/training_images/vid_4_11060.jpg  \n",
            "  inflating: data/training_images/vid_4_11080.jpg  \n",
            "  inflating: data/training_images/vid_4_11100.jpg  \n",
            "  inflating: data/training_images/vid_4_11120.jpg  \n",
            "  inflating: data/training_images/vid_4_11140.jpg  \n",
            "  inflating: data/training_images/vid_4_11160.jpg  \n",
            "  inflating: data/training_images/vid_4_11180.jpg  \n",
            "  inflating: data/training_images/vid_4_11200.jpg  \n",
            "  inflating: data/training_images/vid_4_11220.jpg  \n",
            "  inflating: data/training_images/vid_4_11240.jpg  \n",
            "  inflating: data/training_images/vid_4_11260.jpg  \n",
            "  inflating: data/training_images/vid_4_11280.jpg  \n",
            "  inflating: data/training_images/vid_4_11300.jpg  \n",
            "  inflating: data/training_images/vid_4_11320.jpg  \n",
            "  inflating: data/training_images/vid_4_11340.jpg  \n",
            "  inflating: data/training_images/vid_4_11360.jpg  \n",
            "  inflating: data/training_images/vid_4_11380.jpg  \n",
            "  inflating: data/training_images/vid_4_11400.jpg  \n",
            "  inflating: data/training_images/vid_4_11420.jpg  \n",
            "  inflating: data/training_images/vid_4_11440.jpg  \n",
            "  inflating: data/training_images/vid_4_11460.jpg  \n",
            "  inflating: data/training_images/vid_4_11480.jpg  \n",
            "  inflating: data/training_images/vid_4_11500.jpg  \n",
            "  inflating: data/training_images/vid_4_11520.jpg  \n",
            "  inflating: data/training_images/vid_4_11760.jpg  \n",
            "  inflating: data/training_images/vid_4_11780.jpg  \n",
            "  inflating: data/training_images/vid_4_11800.jpg  \n",
            "  inflating: data/training_images/vid_4_11820.jpg  \n",
            "  inflating: data/training_images/vid_4_11840.jpg  \n",
            "  inflating: data/training_images/vid_4_11860.jpg  \n",
            "  inflating: data/training_images/vid_4_11880.jpg  \n",
            "  inflating: data/training_images/vid_4_11900.jpg  \n",
            "  inflating: data/training_images/vid_4_11920.jpg  \n",
            "  inflating: data/training_images/vid_4_11940.jpg  \n",
            "  inflating: data/training_images/vid_4_11960.jpg  \n",
            "  inflating: data/training_images/vid_4_11980.jpg  \n",
            "  inflating: data/training_images/vid_4_12000.jpg  \n",
            "  inflating: data/training_images/vid_4_12020.jpg  \n",
            "  inflating: data/training_images/vid_4_12040.jpg  \n",
            "  inflating: data/training_images/vid_4_12060.jpg  \n",
            "  inflating: data/training_images/vid_4_12080.jpg  \n",
            "  inflating: data/training_images/vid_4_12100.jpg  \n",
            "  inflating: data/training_images/vid_4_12120.jpg  \n",
            "  inflating: data/training_images/vid_4_12140.jpg  \n",
            "  inflating: data/training_images/vid_4_12160.jpg  \n",
            "  inflating: data/training_images/vid_4_12180.jpg  \n",
            "  inflating: data/training_images/vid_4_12200.jpg  \n",
            "  inflating: data/training_images/vid_4_12220.jpg  \n",
            "  inflating: data/training_images/vid_4_12240.jpg  \n",
            "  inflating: data/training_images/vid_4_12260.jpg  \n",
            "  inflating: data/training_images/vid_4_12280.jpg  \n",
            "  inflating: data/training_images/vid_4_12300.jpg  \n",
            "  inflating: data/training_images/vid_4_12320.jpg  \n",
            "  inflating: data/training_images/vid_4_12340.jpg  \n",
            "  inflating: data/training_images/vid_4_12360.jpg  \n",
            "  inflating: data/training_images/vid_4_12380.jpg  \n",
            "  inflating: data/training_images/vid_4_12400.jpg  \n",
            "  inflating: data/training_images/vid_4_12420.jpg  \n",
            "  inflating: data/training_images/vid_4_12440.jpg  \n",
            "  inflating: data/training_images/vid_4_12460.jpg  \n",
            "  inflating: data/training_images/vid_4_12480.jpg  \n",
            "  inflating: data/training_images/vid_4_12500.jpg  \n",
            "  inflating: data/training_images/vid_4_12520.jpg  \n",
            "  inflating: data/training_images/vid_4_12540.jpg  \n",
            "  inflating: data/training_images/vid_4_12560.jpg  \n",
            "  inflating: data/training_images/vid_4_12580.jpg  \n",
            "  inflating: data/training_images/vid_4_12600.jpg  \n",
            "  inflating: data/training_images/vid_4_12620.jpg  \n",
            "  inflating: data/training_images/vid_4_12640.jpg  \n",
            "  inflating: data/training_images/vid_4_12660.jpg  \n",
            "  inflating: data/training_images/vid_4_12680.jpg  \n",
            "  inflating: data/training_images/vid_4_12700.jpg  \n",
            "  inflating: data/training_images/vid_4_12720.jpg  \n",
            "  inflating: data/training_images/vid_4_12740.jpg  \n",
            "  inflating: data/training_images/vid_4_12760.jpg  \n",
            "  inflating: data/training_images/vid_4_12780.jpg  \n",
            "  inflating: data/training_images/vid_4_12800.jpg  \n",
            "  inflating: data/training_images/vid_4_12820.jpg  \n",
            "  inflating: data/training_images/vid_4_12840.jpg  \n",
            "  inflating: data/training_images/vid_4_12860.jpg  \n",
            "  inflating: data/training_images/vid_4_12880.jpg  \n",
            "  inflating: data/training_images/vid_4_12900.jpg  \n",
            "  inflating: data/training_images/vid_4_13020.jpg  \n",
            "  inflating: data/training_images/vid_4_13040.jpg  \n",
            "  inflating: data/training_images/vid_4_13060.jpg  \n",
            "  inflating: data/training_images/vid_4_13080.jpg  \n",
            "  inflating: data/training_images/vid_4_13100.jpg  \n",
            "  inflating: data/training_images/vid_4_13120.jpg  \n",
            "  inflating: data/training_images/vid_4_13240.jpg  \n",
            "  inflating: data/training_images/vid_4_13260.jpg  \n",
            "  inflating: data/training_images/vid_4_13280.jpg  \n",
            "  inflating: data/training_images/vid_4_13300.jpg  \n",
            "  inflating: data/training_images/vid_4_13320.jpg  \n",
            "  inflating: data/training_images/vid_4_13420.jpg  \n",
            "  inflating: data/training_images/vid_4_13440.jpg  \n",
            "  inflating: data/training_images/vid_4_13460.jpg  \n",
            "  inflating: data/training_images/vid_4_13480.jpg  \n",
            "  inflating: data/training_images/vid_4_13540.jpg  \n",
            "  inflating: data/training_images/vid_4_13580.jpg  \n",
            "  inflating: data/training_images/vid_4_13620.jpg  \n",
            "  inflating: data/training_images/vid_4_13640.jpg  \n",
            "  inflating: data/training_images/vid_4_13660.jpg  \n",
            "  inflating: data/training_images/vid_4_13680.jpg  \n",
            "  inflating: data/training_images/vid_4_13700.jpg  \n",
            "  inflating: data/training_images/vid_4_13720.jpg  \n",
            "  inflating: data/training_images/vid_4_13740.jpg  \n",
            "  inflating: data/training_images/vid_4_13760.jpg  \n",
            "  inflating: data/training_images/vid_4_13780.jpg  \n",
            "  inflating: data/training_images/vid_4_13800.jpg  \n",
            "  inflating: data/training_images/vid_4_13820.jpg  \n",
            "  inflating: data/training_images/vid_4_13840.jpg  \n",
            "  inflating: data/training_images/vid_4_13860.jpg  \n",
            "  inflating: data/training_images/vid_4_13880.jpg  \n",
            "  inflating: data/training_images/vid_4_13900.jpg  \n",
            "  inflating: data/training_images/vid_4_13920.jpg  \n",
            "  inflating: data/training_images/vid_4_13940.jpg  \n",
            "  inflating: data/training_images/vid_4_13960.jpg  \n",
            "  inflating: data/training_images/vid_4_13980.jpg  \n",
            "  inflating: data/training_images/vid_4_14040.jpg  \n",
            "  inflating: data/training_images/vid_4_14060.jpg  \n",
            "  inflating: data/training_images/vid_4_14080.jpg  \n",
            "  inflating: data/training_images/vid_4_14100.jpg  \n",
            "  inflating: data/training_images/vid_4_14120.jpg  \n",
            "  inflating: data/training_images/vid_4_14140.jpg  \n",
            "  inflating: data/training_images/vid_4_14160.jpg  \n",
            "  inflating: data/training_images/vid_4_14180.jpg  \n",
            "  inflating: data/training_images/vid_4_14200.jpg  \n",
            "  inflating: data/training_images/vid_4_14220.jpg  \n",
            "  inflating: data/training_images/vid_4_14240.jpg  \n",
            "  inflating: data/training_images/vid_4_14260.jpg  \n",
            "  inflating: data/training_images/vid_4_14280.jpg  \n",
            "  inflating: data/training_images/vid_4_14300.jpg  \n",
            "  inflating: data/training_images/vid_4_14320.jpg  \n",
            "  inflating: data/training_images/vid_4_14340.jpg  \n",
            "  inflating: data/training_images/vid_4_14360.jpg  \n",
            "  inflating: data/training_images/vid_4_14380.jpg  \n",
            "  inflating: data/training_images/vid_4_14400.jpg  \n",
            "  inflating: data/training_images/vid_4_14420.jpg  \n",
            "  inflating: data/training_images/vid_4_14440.jpg  \n",
            "  inflating: data/training_images/vid_4_14460.jpg  \n",
            "  inflating: data/training_images/vid_4_14480.jpg  \n",
            "  inflating: data/training_images/vid_4_14500.jpg  \n",
            "  inflating: data/training_images/vid_4_14520.jpg  \n",
            "  inflating: data/training_images/vid_4_14540.jpg  \n",
            "  inflating: data/training_images/vid_4_14560.jpg  \n",
            "  inflating: data/training_images/vid_4_14580.jpg  \n",
            "  inflating: data/training_images/vid_4_14600.jpg  \n",
            "  inflating: data/training_images/vid_4_14620.jpg  \n",
            "  inflating: data/training_images/vid_4_14640.jpg  \n",
            "  inflating: data/training_images/vid_4_14660.jpg  \n",
            "  inflating: data/training_images/vid_4_14680.jpg  \n",
            "  inflating: data/training_images/vid_4_14700.jpg  \n",
            "  inflating: data/training_images/vid_4_14720.jpg  \n",
            "  inflating: data/training_images/vid_4_14740.jpg  \n",
            "  inflating: data/training_images/vid_4_14760.jpg  \n",
            "  inflating: data/training_images/vid_4_14780.jpg  \n",
            "  inflating: data/training_images/vid_4_14800.jpg  \n",
            "  inflating: data/training_images/vid_4_14820.jpg  \n",
            "  inflating: data/training_images/vid_4_14840.jpg  \n",
            "  inflating: data/training_images/vid_4_14860.jpg  \n",
            "  inflating: data/training_images/vid_4_14880.jpg  \n",
            "  inflating: data/training_images/vid_4_14900.jpg  \n",
            "  inflating: data/training_images/vid_4_14920.jpg  \n",
            "  inflating: data/training_images/vid_4_14940.jpg  \n",
            "  inflating: data/training_images/vid_4_14960.jpg  \n",
            "  inflating: data/training_images/vid_4_14980.jpg  \n",
            "  inflating: data/training_images/vid_4_15000.jpg  \n",
            "  inflating: data/training_images/vid_4_15020.jpg  \n",
            "  inflating: data/training_images/vid_4_15040.jpg  \n",
            "  inflating: data/training_images/vid_4_15060.jpg  \n",
            "  inflating: data/training_images/vid_4_15080.jpg  \n",
            "  inflating: data/training_images/vid_4_15100.jpg  \n",
            "  inflating: data/training_images/vid_4_15120.jpg  \n",
            "  inflating: data/training_images/vid_4_15140.jpg  \n",
            "  inflating: data/training_images/vid_4_15160.jpg  \n",
            "  inflating: data/training_images/vid_4_15180.jpg  \n",
            "  inflating: data/training_images/vid_4_1520.jpg  \n",
            "  inflating: data/training_images/vid_4_15200.jpg  \n",
            "  inflating: data/training_images/vid_4_15220.jpg  \n",
            "  inflating: data/training_images/vid_4_1540.jpg  \n",
            "  inflating: data/training_images/vid_4_1560.jpg  \n",
            "  inflating: data/training_images/vid_4_1580.jpg  \n",
            "  inflating: data/training_images/vid_4_1600.jpg  \n",
            "  inflating: data/training_images/vid_4_16000.jpg  \n",
            "  inflating: data/training_images/vid_4_16020.jpg  \n",
            "  inflating: data/training_images/vid_4_16040.jpg  \n",
            "  inflating: data/training_images/vid_4_16060.jpg  \n",
            "  inflating: data/training_images/vid_4_16080.jpg  \n",
            "  inflating: data/training_images/vid_4_16100.jpg  \n",
            "  inflating: data/training_images/vid_4_16120.jpg  \n",
            "  inflating: data/training_images/vid_4_16140.jpg  \n",
            "  inflating: data/training_images/vid_4_16160.jpg  \n",
            "  inflating: data/training_images/vid_4_16180.jpg  \n",
            "  inflating: data/training_images/vid_4_1620.jpg  \n",
            "  inflating: data/training_images/vid_4_16200.jpg  \n",
            "  inflating: data/training_images/vid_4_16220.jpg  \n",
            "  inflating: data/training_images/vid_4_16240.jpg  \n",
            "  inflating: data/training_images/vid_4_16260.jpg  \n",
            "  inflating: data/training_images/vid_4_16280.jpg  \n",
            "  inflating: data/training_images/vid_4_16300.jpg  \n",
            "  inflating: data/training_images/vid_4_16320.jpg  \n",
            "  inflating: data/training_images/vid_4_1640.jpg  \n",
            "  inflating: data/training_images/vid_4_16400.jpg  \n",
            "  inflating: data/training_images/vid_4_16420.jpg  \n",
            "  inflating: data/training_images/vid_4_16440.jpg  \n",
            "  inflating: data/training_images/vid_4_16460.jpg  \n",
            "  inflating: data/training_images/vid_4_16480.jpg  \n",
            "  inflating: data/training_images/vid_4_16500.jpg  \n",
            "  inflating: data/training_images/vid_4_16520.jpg  \n",
            "  inflating: data/training_images/vid_4_16540.jpg  \n",
            "  inflating: data/training_images/vid_4_16560.jpg  \n",
            "  inflating: data/training_images/vid_4_16580.jpg  \n",
            "  inflating: data/training_images/vid_4_1660.jpg  \n",
            "  inflating: data/training_images/vid_4_16600.jpg  \n",
            "  inflating: data/training_images/vid_4_16620.jpg  \n",
            "  inflating: data/training_images/vid_4_16640.jpg  \n",
            "  inflating: data/training_images/vid_4_16660.jpg  \n",
            "  inflating: data/training_images/vid_4_16680.jpg  \n",
            "  inflating: data/training_images/vid_4_16700.jpg  \n",
            "  inflating: data/training_images/vid_4_16720.jpg  \n",
            "  inflating: data/training_images/vid_4_16740.jpg  \n",
            "  inflating: data/training_images/vid_4_16760.jpg  \n",
            "  inflating: data/training_images/vid_4_16780.jpg  \n",
            "  inflating: data/training_images/vid_4_16800.jpg  \n",
            "  inflating: data/training_images/vid_4_16820.jpg  \n",
            "  inflating: data/training_images/vid_4_16900.jpg  \n",
            "  inflating: data/training_images/vid_4_16920.jpg  \n",
            "  inflating: data/training_images/vid_4_16940.jpg  \n",
            "  inflating: data/training_images/vid_4_16960.jpg  \n",
            "  inflating: data/training_images/vid_4_16980.jpg  \n",
            "  inflating: data/training_images/vid_4_1700.jpg  \n",
            "  inflating: data/training_images/vid_4_17000.jpg  \n",
            "  inflating: data/training_images/vid_4_17020.jpg  \n",
            "  inflating: data/training_images/vid_4_17040.jpg  \n",
            "  inflating: data/training_images/vid_4_17060.jpg  \n",
            "  inflating: data/training_images/vid_4_17080.jpg  \n",
            "  inflating: data/training_images/vid_4_17100.jpg  \n",
            "  inflating: data/training_images/vid_4_17120.jpg  \n",
            "  inflating: data/training_images/vid_4_17140.jpg  \n",
            "  inflating: data/training_images/vid_4_17160.jpg  \n",
            "  inflating: data/training_images/vid_4_17180.jpg  \n",
            "  inflating: data/training_images/vid_4_17200.jpg  \n",
            "  inflating: data/training_images/vid_4_17220.jpg  \n",
            "  inflating: data/training_images/vid_4_17240.jpg  \n",
            "  inflating: data/training_images/vid_4_17260.jpg  \n",
            "  inflating: data/training_images/vid_4_17280.jpg  \n",
            "  inflating: data/training_images/vid_4_17300.jpg  \n",
            "  inflating: data/training_images/vid_4_17320.jpg  \n",
            "  inflating: data/training_images/vid_4_17340.jpg  \n",
            "  inflating: data/training_images/vid_4_17360.jpg  \n",
            "  inflating: data/training_images/vid_4_17380.jpg  \n",
            "  inflating: data/training_images/vid_4_1740.jpg  \n",
            "  inflating: data/training_images/vid_4_17400.jpg  \n",
            "  inflating: data/training_images/vid_4_17420.jpg  \n",
            "  inflating: data/training_images/vid_4_17440.jpg  \n",
            "  inflating: data/training_images/vid_4_17460.jpg  \n",
            "  inflating: data/training_images/vid_4_17480.jpg  \n",
            "  inflating: data/training_images/vid_4_17500.jpg  \n",
            "  inflating: data/training_images/vid_4_17520.jpg  \n",
            "  inflating: data/training_images/vid_4_17540.jpg  \n",
            "  inflating: data/training_images/vid_4_17560.jpg  \n",
            "  inflating: data/training_images/vid_4_17580.jpg  \n",
            "  inflating: data/training_images/vid_4_1760.jpg  \n",
            "  inflating: data/training_images/vid_4_17600.jpg  \n",
            "  inflating: data/training_images/vid_4_17620.jpg  \n",
            "  inflating: data/training_images/vid_4_17640.jpg  \n",
            "  inflating: data/training_images/vid_4_17660.jpg  \n",
            "  inflating: data/training_images/vid_4_17680.jpg  \n",
            "  inflating: data/training_images/vid_4_17700.jpg  \n",
            "  inflating: data/training_images/vid_4_17720.jpg  \n",
            "  inflating: data/training_images/vid_4_17740.jpg  \n",
            "  inflating: data/training_images/vid_4_17760.jpg  \n",
            "  inflating: data/training_images/vid_4_17780.jpg  \n",
            "  inflating: data/training_images/vid_4_1780.jpg  \n",
            "  inflating: data/training_images/vid_4_17800.jpg  \n",
            "  inflating: data/training_images/vid_4_17820.jpg  \n",
            "  inflating: data/training_images/vid_4_17840.jpg  \n",
            "  inflating: data/training_images/vid_4_17860.jpg  \n",
            "  inflating: data/training_images/vid_4_17880.jpg  \n",
            "  inflating: data/training_images/vid_4_17900.jpg  \n",
            "  inflating: data/training_images/vid_4_17920.jpg  \n",
            "  inflating: data/training_images/vid_4_17940.jpg  \n",
            "  inflating: data/training_images/vid_4_17960.jpg  \n",
            "  inflating: data/training_images/vid_4_17980.jpg  \n",
            "  inflating: data/training_images/vid_4_1800.jpg  \n",
            "  inflating: data/training_images/vid_4_18000.jpg  \n",
            "  inflating: data/training_images/vid_4_18080.jpg  \n",
            "  inflating: data/training_images/vid_4_18100.jpg  \n",
            "  inflating: data/training_images/vid_4_18120.jpg  \n",
            "  inflating: data/training_images/vid_4_18140.jpg  \n",
            "  inflating: data/training_images/vid_4_18160.jpg  \n",
            "  inflating: data/training_images/vid_4_18180.jpg  \n",
            "  inflating: data/training_images/vid_4_1820.jpg  \n",
            "  inflating: data/training_images/vid_4_18200.jpg  \n",
            "  inflating: data/training_images/vid_4_18220.jpg  \n",
            "  inflating: data/training_images/vid_4_18240.jpg  \n",
            "  inflating: data/training_images/vid_4_18260.jpg  \n",
            "  inflating: data/training_images/vid_4_18280.jpg  \n",
            "  inflating: data/training_images/vid_4_18300.jpg  \n",
            "  inflating: data/training_images/vid_4_18320.jpg  \n",
            "  inflating: data/training_images/vid_4_18340.jpg  \n",
            "  inflating: data/training_images/vid_4_18360.jpg  \n",
            "  inflating: data/training_images/vid_4_18380.jpg  \n",
            "  inflating: data/training_images/vid_4_1840.jpg  \n",
            "  inflating: data/training_images/vid_4_18400.jpg  \n",
            "  inflating: data/training_images/vid_4_18420.jpg  \n",
            "  inflating: data/training_images/vid_4_18440.jpg  \n",
            "  inflating: data/training_images/vid_4_1860.jpg  \n",
            "  inflating: data/training_images/vid_4_18640.jpg  \n",
            "  inflating: data/training_images/vid_4_18660.jpg  \n",
            "  inflating: data/training_images/vid_4_18680.jpg  \n",
            "  inflating: data/training_images/vid_4_18700.jpg  \n",
            "  inflating: data/training_images/vid_4_18720.jpg  \n",
            "  inflating: data/training_images/vid_4_18740.jpg  \n",
            "  inflating: data/training_images/vid_4_18760.jpg  \n",
            "  inflating: data/training_images/vid_4_18780.jpg  \n",
            "  inflating: data/training_images/vid_4_1880.jpg  \n",
            "  inflating: data/training_images/vid_4_18800.jpg  \n",
            "  inflating: data/training_images/vid_4_18820.jpg  \n",
            "  inflating: data/training_images/vid_4_18840.jpg  \n",
            "  inflating: data/training_images/vid_4_18860.jpg  \n",
            "  inflating: data/training_images/vid_4_18880.jpg  \n",
            "  inflating: data/training_images/vid_4_18900.jpg  \n",
            "  inflating: data/training_images/vid_4_18920.jpg  \n",
            "  inflating: data/training_images/vid_4_18940.jpg  \n",
            "  inflating: data/training_images/vid_4_18960.jpg  \n",
            "  inflating: data/training_images/vid_4_18980.jpg  \n",
            "  inflating: data/training_images/vid_4_1900.jpg  \n",
            "  inflating: data/training_images/vid_4_19000.jpg  \n",
            "  inflating: data/training_images/vid_4_19020.jpg  \n",
            "  inflating: data/training_images/vid_4_19040.jpg  \n",
            "  inflating: data/training_images/vid_4_19060.jpg  \n",
            "  inflating: data/training_images/vid_4_19080.jpg  \n",
            "  inflating: data/training_images/vid_4_19100.jpg  \n",
            "  inflating: data/training_images/vid_4_19120.jpg  \n",
            "  inflating: data/training_images/vid_4_19140.jpg  \n",
            "  inflating: data/training_images/vid_4_19160.jpg  \n",
            "  inflating: data/training_images/vid_4_19180.jpg  \n",
            "  inflating: data/training_images/vid_4_1920.jpg  \n",
            "  inflating: data/training_images/vid_4_19200.jpg  \n",
            "  inflating: data/training_images/vid_4_19220.jpg  \n",
            "  inflating: data/training_images/vid_4_19240.jpg  \n",
            "  inflating: data/training_images/vid_4_19260.jpg  \n",
            "  inflating: data/training_images/vid_4_19280.jpg  \n",
            "  inflating: data/training_images/vid_4_19300.jpg  \n",
            "  inflating: data/training_images/vid_4_19320.jpg  \n",
            "  inflating: data/training_images/vid_4_19340.jpg  \n",
            "  inflating: data/training_images/vid_4_19360.jpg  \n",
            "  inflating: data/training_images/vid_4_19380.jpg  \n",
            "  inflating: data/training_images/vid_4_1940.jpg  \n",
            "  inflating: data/training_images/vid_4_19400.jpg  \n",
            "  inflating: data/training_images/vid_4_19420.jpg  \n",
            "  inflating: data/training_images/vid_4_19440.jpg  \n",
            "  inflating: data/training_images/vid_4_19460.jpg  \n",
            "  inflating: data/training_images/vid_4_19480.jpg  \n",
            "  inflating: data/training_images/vid_4_19500.jpg  \n",
            "  inflating: data/training_images/vid_4_19520.jpg  \n",
            "  inflating: data/training_images/vid_4_19540.jpg  \n",
            "  inflating: data/training_images/vid_4_19560.jpg  \n",
            "  inflating: data/training_images/vid_4_19580.jpg  \n",
            "  inflating: data/training_images/vid_4_1960.jpg  \n",
            "  inflating: data/training_images/vid_4_19600.jpg  \n",
            "  inflating: data/training_images/vid_4_19620.jpg  \n",
            "  inflating: data/training_images/vid_4_19640.jpg  \n",
            "  inflating: data/training_images/vid_4_19660.jpg  \n",
            "  inflating: data/training_images/vid_4_19680.jpg  \n",
            "  inflating: data/training_images/vid_4_19700.jpg  \n",
            "  inflating: data/training_images/vid_4_19720.jpg  \n",
            "  inflating: data/training_images/vid_4_19740.jpg  \n",
            "  inflating: data/training_images/vid_4_19760.jpg  \n",
            "  inflating: data/training_images/vid_4_19780.jpg  \n",
            "  inflating: data/training_images/vid_4_1980.jpg  \n",
            "  inflating: data/training_images/vid_4_19800.jpg  \n",
            "  inflating: data/training_images/vid_4_19820.jpg  \n",
            "  inflating: data/training_images/vid_4_19840.jpg  \n",
            "  inflating: data/training_images/vid_4_19860.jpg  \n",
            "  inflating: data/training_images/vid_4_19880.jpg  \n",
            "  inflating: data/training_images/vid_4_19900.jpg  \n",
            "  inflating: data/training_images/vid_4_19920.jpg  \n",
            "  inflating: data/training_images/vid_4_19940.jpg  \n",
            "  inflating: data/training_images/vid_4_19960.jpg  \n",
            "  inflating: data/training_images/vid_4_19980.jpg  \n",
            "  inflating: data/training_images/vid_4_2000.jpg  \n",
            "  inflating: data/training_images/vid_4_20000.jpg  \n",
            "  inflating: data/training_images/vid_4_20020.jpg  \n",
            "  inflating: data/training_images/vid_4_20040.jpg  \n",
            "  inflating: data/training_images/vid_4_20060.jpg  \n",
            "  inflating: data/training_images/vid_4_20080.jpg  \n",
            "  inflating: data/training_images/vid_4_20100.jpg  \n",
            "  inflating: data/training_images/vid_4_20120.jpg  \n",
            "  inflating: data/training_images/vid_4_20140.jpg  \n",
            "  inflating: data/training_images/vid_4_2020.jpg  \n",
            "  inflating: data/training_images/vid_4_20240.jpg  \n",
            "  inflating: data/training_images/vid_4_20260.jpg  \n",
            "  inflating: data/training_images/vid_4_20280.jpg  \n",
            "  inflating: data/training_images/vid_4_20300.jpg  \n",
            "  inflating: data/training_images/vid_4_20320.jpg  \n",
            "  inflating: data/training_images/vid_4_2040.jpg  \n",
            "  inflating: data/training_images/vid_4_20440.jpg  \n",
            "  inflating: data/training_images/vid_4_20460.jpg  \n",
            "  inflating: data/training_images/vid_4_20480.jpg  \n",
            "  inflating: data/training_images/vid_4_20500.jpg  \n",
            "  inflating: data/training_images/vid_4_20520.jpg  \n",
            "  inflating: data/training_images/vid_4_20540.jpg  \n",
            "  inflating: data/training_images/vid_4_20560.jpg  \n",
            "  inflating: data/training_images/vid_4_20580.jpg  \n",
            "  inflating: data/training_images/vid_4_2060.jpg  \n",
            "  inflating: data/training_images/vid_4_20780.jpg  \n",
            "  inflating: data/training_images/vid_4_2080.jpg  \n",
            "  inflating: data/training_images/vid_4_20800.jpg  \n",
            "  inflating: data/training_images/vid_4_20820.jpg  \n",
            "  inflating: data/training_images/vid_4_20840.jpg  \n",
            "  inflating: data/training_images/vid_4_20860.jpg  \n",
            "  inflating: data/training_images/vid_4_20880.jpg  \n",
            "  inflating: data/training_images/vid_4_20900.jpg  \n",
            "  inflating: data/training_images/vid_4_20920.jpg  \n",
            "  inflating: data/training_images/vid_4_20940.jpg  \n",
            "  inflating: data/training_images/vid_4_20960.jpg  \n",
            "  inflating: data/training_images/vid_4_20980.jpg  \n",
            "  inflating: data/training_images/vid_4_2100.jpg  \n",
            "  inflating: data/training_images/vid_4_21000.jpg  \n",
            "  inflating: data/training_images/vid_4_21020.jpg  \n",
            "  inflating: data/training_images/vid_4_21040.jpg  \n",
            "  inflating: data/training_images/vid_4_21060.jpg  \n",
            "  inflating: data/training_images/vid_4_21080.jpg  \n",
            "  inflating: data/training_images/vid_4_21100.jpg  \n",
            "  inflating: data/training_images/vid_4_21120.jpg  \n",
            "  inflating: data/training_images/vid_4_21140.jpg  \n",
            "  inflating: data/training_images/vid_4_21160.jpg  \n",
            "  inflating: data/training_images/vid_4_21180.jpg  \n",
            "  inflating: data/training_images/vid_4_2120.jpg  \n",
            "  inflating: data/training_images/vid_4_21200.jpg  \n",
            "  inflating: data/training_images/vid_4_21220.jpg  \n",
            "  inflating: data/training_images/vid_4_21240.jpg  \n",
            "  inflating: data/training_images/vid_4_21260.jpg  \n",
            "  inflating: data/training_images/vid_4_21280.jpg  \n",
            "  inflating: data/training_images/vid_4_21300.jpg  \n",
            "  inflating: data/training_images/vid_4_21320.jpg  \n",
            "  inflating: data/training_images/vid_4_21340.jpg  \n",
            "  inflating: data/training_images/vid_4_21360.jpg  \n",
            "  inflating: data/training_images/vid_4_21380.jpg  \n",
            "  inflating: data/training_images/vid_4_2140.jpg  \n",
            "  inflating: data/training_images/vid_4_21400.jpg  \n",
            "  inflating: data/training_images/vid_4_21420.jpg  \n",
            "  inflating: data/training_images/vid_4_21440.jpg  \n",
            "  inflating: data/training_images/vid_4_21460.jpg  \n",
            "  inflating: data/training_images/vid_4_21480.jpg  \n",
            "  inflating: data/training_images/vid_4_21500.jpg  \n",
            "  inflating: data/training_images/vid_4_21520.jpg  \n",
            "  inflating: data/training_images/vid_4_21540.jpg  \n",
            "  inflating: data/training_images/vid_4_21560.jpg  \n",
            "  inflating: data/training_images/vid_4_21580.jpg  \n",
            "  inflating: data/training_images/vid_4_2160.jpg  \n",
            "  inflating: data/training_images/vid_4_21600.jpg  \n",
            "  inflating: data/training_images/vid_4_21620.jpg  \n",
            "  inflating: data/training_images/vid_4_21640.jpg  \n",
            "  inflating: data/training_images/vid_4_21660.jpg  \n",
            "  inflating: data/training_images/vid_4_21680.jpg  \n",
            "  inflating: data/training_images/vid_4_21700.jpg  \n",
            "  inflating: data/training_images/vid_4_21720.jpg  \n",
            "  inflating: data/training_images/vid_4_21740.jpg  \n",
            "  inflating: data/training_images/vid_4_2180.jpg  \n",
            "  inflating: data/training_images/vid_4_21800.jpg  \n",
            "  inflating: data/training_images/vid_4_21820.jpg  \n",
            "  inflating: data/training_images/vid_4_21840.jpg  \n",
            "  inflating: data/training_images/vid_4_21860.jpg  \n",
            "  inflating: data/training_images/vid_4_21880.jpg  \n",
            "  inflating: data/training_images/vid_4_21900.jpg  \n",
            "  inflating: data/training_images/vid_4_21920.jpg  \n",
            "  inflating: data/training_images/vid_4_21940.jpg  \n",
            "  inflating: data/training_images/vid_4_21960.jpg  \n",
            "  inflating: data/training_images/vid_4_21980.jpg  \n",
            "  inflating: data/training_images/vid_4_2200.jpg  \n",
            "  inflating: data/training_images/vid_4_22000.jpg  \n",
            "  inflating: data/training_images/vid_4_22020.jpg  \n",
            "  inflating: data/training_images/vid_4_22040.jpg  \n",
            "  inflating: data/training_images/vid_4_22060.jpg  \n",
            "  inflating: data/training_images/vid_4_22080.jpg  \n",
            "  inflating: data/training_images/vid_4_22100.jpg  \n",
            "  inflating: data/training_images/vid_4_22120.jpg  \n",
            "  inflating: data/training_images/vid_4_22140.jpg  \n",
            "  inflating: data/training_images/vid_4_22160.jpg  \n",
            "  inflating: data/training_images/vid_4_22180.jpg  \n",
            "  inflating: data/training_images/vid_4_2220.jpg  \n",
            "  inflating: data/training_images/vid_4_22200.jpg  \n",
            "  inflating: data/training_images/vid_4_22220.jpg  \n",
            "  inflating: data/training_images/vid_4_22240.jpg  \n",
            "  inflating: data/training_images/vid_4_22260.jpg  \n",
            "  inflating: data/training_images/vid_4_22280.jpg  \n",
            "  inflating: data/training_images/vid_4_22300.jpg  \n",
            "  inflating: data/training_images/vid_4_22320.jpg  \n",
            "  inflating: data/training_images/vid_4_22340.jpg  \n",
            "  inflating: data/training_images/vid_4_22360.jpg  \n",
            "  inflating: data/training_images/vid_4_22380.jpg  \n",
            "  inflating: data/training_images/vid_4_2240.jpg  \n",
            "  inflating: data/training_images/vid_4_22400.jpg  \n",
            "  inflating: data/training_images/vid_4_22420.jpg  \n",
            "  inflating: data/training_images/vid_4_22440.jpg  \n",
            "  inflating: data/training_images/vid_4_22460.jpg  \n",
            "  inflating: data/training_images/vid_4_22480.jpg  \n",
            "  inflating: data/training_images/vid_4_22500.jpg  \n",
            "  inflating: data/training_images/vid_4_22520.jpg  \n",
            "  inflating: data/training_images/vid_4_22540.jpg  \n",
            "  inflating: data/training_images/vid_4_22560.jpg  \n",
            "  inflating: data/training_images/vid_4_22580.jpg  \n",
            "  inflating: data/training_images/vid_4_2260.jpg  \n",
            "  inflating: data/training_images/vid_4_22600.jpg  \n",
            "  inflating: data/training_images/vid_4_22620.jpg  \n",
            "  inflating: data/training_images/vid_4_22640.jpg  \n",
            "  inflating: data/training_images/vid_4_22660.jpg  \n",
            "  inflating: data/training_images/vid_4_22680.jpg  \n",
            "  inflating: data/training_images/vid_4_22700.jpg  \n",
            "  inflating: data/training_images/vid_4_22720.jpg  \n",
            "  inflating: data/training_images/vid_4_22740.jpg  \n",
            "  inflating: data/training_images/vid_4_22760.jpg  \n",
            "  inflating: data/training_images/vid_4_22780.jpg  \n",
            "  inflating: data/training_images/vid_4_2280.jpg  \n",
            "  inflating: data/training_images/vid_4_22800.jpg  \n",
            "  inflating: data/training_images/vid_4_22820.jpg  \n",
            "  inflating: data/training_images/vid_4_22840.jpg  \n",
            "  inflating: data/training_images/vid_4_22860.jpg  \n",
            "  inflating: data/training_images/vid_4_22880.jpg  \n",
            "  inflating: data/training_images/vid_4_22900.jpg  \n",
            "  inflating: data/training_images/vid_4_22920.jpg  \n",
            "  inflating: data/training_images/vid_4_22940.jpg  \n",
            "  inflating: data/training_images/vid_4_22960.jpg  \n",
            "  inflating: data/training_images/vid_4_22980.jpg  \n",
            "  inflating: data/training_images/vid_4_2300.jpg  \n",
            "  inflating: data/training_images/vid_4_23000.jpg  \n",
            "  inflating: data/training_images/vid_4_23020.jpg  \n",
            "  inflating: data/training_images/vid_4_23040.jpg  \n",
            "  inflating: data/training_images/vid_4_23060.jpg  \n",
            "  inflating: data/training_images/vid_4_23080.jpg  \n",
            "  inflating: data/training_images/vid_4_23100.jpg  \n",
            "  inflating: data/training_images/vid_4_23120.jpg  \n",
            "  inflating: data/training_images/vid_4_23140.jpg  \n",
            "  inflating: data/training_images/vid_4_23160.jpg  \n",
            "  inflating: data/training_images/vid_4_23180.jpg  \n",
            "  inflating: data/training_images/vid_4_2320.jpg  \n",
            "  inflating: data/training_images/vid_4_23200.jpg  \n",
            "  inflating: data/training_images/vid_4_23220.jpg  \n",
            "  inflating: data/training_images/vid_4_23240.jpg  \n",
            "  inflating: data/training_images/vid_4_23260.jpg  \n",
            "  inflating: data/training_images/vid_4_23280.jpg  \n",
            "  inflating: data/training_images/vid_4_23300.jpg  \n",
            "  inflating: data/training_images/vid_4_23320.jpg  \n",
            "  inflating: data/training_images/vid_4_23340.jpg  \n",
            "  inflating: data/training_images/vid_4_23360.jpg  \n",
            "  inflating: data/training_images/vid_4_23380.jpg  \n",
            "  inflating: data/training_images/vid_4_2340.jpg  \n",
            "  inflating: data/training_images/vid_4_23400.jpg  \n",
            "  inflating: data/training_images/vid_4_23420.jpg  \n",
            "  inflating: data/training_images/vid_4_23440.jpg  \n",
            "  inflating: data/training_images/vid_4_23460.jpg  \n",
            "  inflating: data/training_images/vid_4_23480.jpg  \n",
            "  inflating: data/training_images/vid_4_23500.jpg  \n",
            "  inflating: data/training_images/vid_4_23520.jpg  \n",
            "  inflating: data/training_images/vid_4_23540.jpg  \n",
            "  inflating: data/training_images/vid_4_23560.jpg  \n",
            "  inflating: data/training_images/vid_4_23580.jpg  \n",
            "  inflating: data/training_images/vid_4_2360.jpg  \n",
            "  inflating: data/training_images/vid_4_23600.jpg  \n",
            "  inflating: data/training_images/vid_4_23620.jpg  \n",
            "  inflating: data/training_images/vid_4_23640.jpg  \n",
            "  inflating: data/training_images/vid_4_2380.jpg  \n",
            "  inflating: data/training_images/vid_4_2400.jpg  \n",
            "  inflating: data/training_images/vid_4_2420.jpg  \n",
            "  inflating: data/training_images/vid_4_2440.jpg  \n",
            "  inflating: data/training_images/vid_4_2460.jpg  \n",
            "  inflating: data/training_images/vid_4_24760.jpg  \n",
            "  inflating: data/training_images/vid_4_24780.jpg  \n",
            "  inflating: data/training_images/vid_4_2480.jpg  \n",
            "  inflating: data/training_images/vid_4_24800.jpg  \n",
            "  inflating: data/training_images/vid_4_24820.jpg  \n",
            "  inflating: data/training_images/vid_4_24840.jpg  \n",
            "  inflating: data/training_images/vid_4_24860.jpg  \n",
            "  inflating: data/training_images/vid_4_24880.jpg  \n",
            "  inflating: data/training_images/vid_4_24900.jpg  \n",
            "  inflating: data/training_images/vid_4_24920.jpg  \n",
            "  inflating: data/training_images/vid_4_24940.jpg  \n",
            "  inflating: data/training_images/vid_4_24960.jpg  \n",
            "  inflating: data/training_images/vid_4_2500.jpg  \n",
            "  inflating: data/training_images/vid_4_2520.jpg  \n",
            "  inflating: data/training_images/vid_4_2540.jpg  \n",
            "  inflating: data/training_images/vid_4_2560.jpg  \n",
            "  inflating: data/training_images/vid_4_25820.jpg  \n",
            "  inflating: data/training_images/vid_4_25840.jpg  \n",
            "  inflating: data/training_images/vid_4_25860.jpg  \n",
            "  inflating: data/training_images/vid_4_25880.jpg  \n",
            "  inflating: data/training_images/vid_4_25900.jpg  \n",
            "  inflating: data/training_images/vid_4_25920.jpg  \n",
            "  inflating: data/training_images/vid_4_25940.jpg  \n",
            "  inflating: data/training_images/vid_4_25960.jpg  \n",
            "  inflating: data/training_images/vid_4_25980.jpg  \n",
            "  inflating: data/training_images/vid_4_26000.jpg  \n",
            "  inflating: data/training_images/vid_4_26020.jpg  \n",
            "  inflating: data/training_images/vid_4_26040.jpg  \n",
            "  inflating: data/training_images/vid_4_26060.jpg  \n",
            "  inflating: data/training_images/vid_4_26080.jpg  \n",
            "  inflating: data/training_images/vid_4_26100.jpg  \n",
            "  inflating: data/training_images/vid_4_26120.jpg  \n",
            "  inflating: data/training_images/vid_4_26140.jpg  \n",
            "  inflating: data/training_images/vid_4_26160.jpg  \n",
            "  inflating: data/training_images/vid_4_26180.jpg  \n",
            "  inflating: data/training_images/vid_4_26200.jpg  \n",
            "  inflating: data/training_images/vid_4_26220.jpg  \n",
            "  inflating: data/training_images/vid_4_26240.jpg  \n",
            "  inflating: data/training_images/vid_4_26260.jpg  \n",
            "  inflating: data/training_images/vid_4_26280.jpg  \n",
            "  inflating: data/training_images/vid_4_26300.jpg  \n",
            "  inflating: data/training_images/vid_4_26320.jpg  \n",
            "  inflating: data/training_images/vid_4_26340.jpg  \n",
            "  inflating: data/training_images/vid_4_26360.jpg  \n",
            "  inflating: data/training_images/vid_4_26380.jpg  \n",
            "  inflating: data/training_images/vid_4_26400.jpg  \n",
            "  inflating: data/training_images/vid_4_26420.jpg  \n",
            "  inflating: data/training_images/vid_4_26440.jpg  \n",
            "  inflating: data/training_images/vid_4_26460.jpg  \n",
            "  inflating: data/training_images/vid_4_26480.jpg  \n",
            "  inflating: data/training_images/vid_4_26500.jpg  \n",
            "  inflating: data/training_images/vid_4_26520.jpg  \n",
            "  inflating: data/training_images/vid_4_26540.jpg  \n",
            "  inflating: data/training_images/vid_4_26560.jpg  \n",
            "  inflating: data/training_images/vid_4_26580.jpg  \n",
            "  inflating: data/training_images/vid_4_26600.jpg  \n",
            "  inflating: data/training_images/vid_4_26620.jpg  \n",
            "  inflating: data/training_images/vid_4_26640.jpg  \n",
            "  inflating: data/training_images/vid_4_26660.jpg  \n",
            "  inflating: data/training_images/vid_4_26680.jpg  \n",
            "  inflating: data/training_images/vid_4_26700.jpg  \n",
            "  inflating: data/training_images/vid_4_26720.jpg  \n",
            "  inflating: data/training_images/vid_4_26740.jpg  \n",
            "  inflating: data/training_images/vid_4_26760.jpg  \n",
            "  inflating: data/training_images/vid_4_26780.jpg  \n",
            "  inflating: data/training_images/vid_4_27040.jpg  \n",
            "  inflating: data/training_images/vid_4_27060.jpg  \n",
            "  inflating: data/training_images/vid_4_27080.jpg  \n",
            "  inflating: data/training_images/vid_4_27100.jpg  \n",
            "  inflating: data/training_images/vid_4_27120.jpg  \n",
            "  inflating: data/training_images/vid_4_27140.jpg  \n",
            "  inflating: data/training_images/vid_4_27160.jpg  \n",
            "  inflating: data/training_images/vid_4_27180.jpg  \n",
            "  inflating: data/training_images/vid_4_27200.jpg  \n",
            "  inflating: data/training_images/vid_4_27220.jpg  \n",
            "  inflating: data/training_images/vid_4_27240.jpg  \n",
            "  inflating: data/training_images/vid_4_27260.jpg  \n",
            "  inflating: data/training_images/vid_4_27280.jpg  \n",
            "  inflating: data/training_images/vid_4_28200.jpg  \n",
            "  inflating: data/training_images/vid_4_28220.jpg  \n",
            "  inflating: data/training_images/vid_4_28240.jpg  \n",
            "  inflating: data/training_images/vid_4_28260.jpg  \n",
            "  inflating: data/training_images/vid_4_28280.jpg  \n",
            "  inflating: data/training_images/vid_4_28300.jpg  \n",
            "  inflating: data/training_images/vid_4_28320.jpg  \n",
            "  inflating: data/training_images/vid_4_28340.jpg  \n",
            "  inflating: data/training_images/vid_4_28360.jpg  \n",
            "  inflating: data/training_images/vid_4_28380.jpg  \n",
            "  inflating: data/training_images/vid_4_28400.jpg  \n",
            "  inflating: data/training_images/vid_4_28420.jpg  \n",
            "  inflating: data/training_images/vid_4_28440.jpg  \n",
            "  inflating: data/training_images/vid_4_28820.jpg  \n",
            "  inflating: data/training_images/vid_4_28840.jpg  \n",
            "  inflating: data/training_images/vid_4_28860.jpg  \n",
            "  inflating: data/training_images/vid_4_28880.jpg  \n",
            "  inflating: data/training_images/vid_4_29280.jpg  \n",
            "  inflating: data/training_images/vid_4_29300.jpg  \n",
            "  inflating: data/training_images/vid_4_29320.jpg  \n",
            "  inflating: data/training_images/vid_4_29340.jpg  \n",
            "  inflating: data/training_images/vid_4_29360.jpg  \n",
            "  inflating: data/training_images/vid_4_29380.jpg  \n",
            "  inflating: data/training_images/vid_4_29400.jpg  \n",
            "  inflating: data/training_images/vid_4_29420.jpg  \n",
            "  inflating: data/training_images/vid_4_29440.jpg  \n",
            "  inflating: data/training_images/vid_4_29460.jpg  \n",
            "  inflating: data/training_images/vid_4_29480.jpg  \n",
            "  inflating: data/training_images/vid_4_29500.jpg  \n",
            "  inflating: data/training_images/vid_4_29520.jpg  \n",
            "  inflating: data/training_images/vid_4_29540.jpg  \n",
            "  inflating: data/training_images/vid_4_29560.jpg  \n",
            "  inflating: data/training_images/vid_4_29580.jpg  \n",
            "  inflating: data/training_images/vid_4_29600.jpg  \n",
            "  inflating: data/training_images/vid_4_29620.jpg  \n",
            "  inflating: data/training_images/vid_4_29640.jpg  \n",
            "  inflating: data/training_images/vid_4_29660.jpg  \n",
            "  inflating: data/training_images/vid_4_29680.jpg  \n",
            "  inflating: data/training_images/vid_4_29700.jpg  \n",
            "  inflating: data/training_images/vid_4_29720.jpg  \n",
            "  inflating: data/training_images/vid_4_29740.jpg  \n",
            "  inflating: data/training_images/vid_4_29760.jpg  \n",
            "  inflating: data/training_images/vid_4_29880.jpg  \n",
            "  inflating: data/training_images/vid_4_29900.jpg  \n",
            "  inflating: data/training_images/vid_4_29920.jpg  \n",
            "  inflating: data/training_images/vid_4_29940.jpg  \n",
            "  inflating: data/training_images/vid_4_29960.jpg  \n",
            "  inflating: data/training_images/vid_4_29980.jpg  \n",
            "  inflating: data/training_images/vid_4_30000.jpg  \n",
            "  inflating: data/training_images/vid_4_30020.jpg  \n",
            "  inflating: data/training_images/vid_4_30440.jpg  \n",
            "  inflating: data/training_images/vid_4_3120.jpg  \n",
            "  inflating: data/training_images/vid_4_3140.jpg  \n",
            "  inflating: data/training_images/vid_4_3160.jpg  \n",
            "  inflating: data/training_images/vid_4_3180.jpg  \n",
            "  inflating: data/training_images/vid_4_3200.jpg  \n",
            "  inflating: data/training_images/vid_4_3220.jpg  \n",
            "  inflating: data/training_images/vid_4_3240.jpg  \n",
            "  inflating: data/training_images/vid_4_3260.jpg  \n",
            "  inflating: data/training_images/vid_4_3280.jpg  \n",
            "  inflating: data/training_images/vid_4_3300.jpg  \n",
            "  inflating: data/training_images/vid_4_3320.jpg  \n",
            "  inflating: data/training_images/vid_4_3340.jpg  \n",
            "  inflating: data/training_images/vid_4_3360.jpg  \n",
            "  inflating: data/training_images/vid_4_3380.jpg  \n",
            "  inflating: data/training_images/vid_4_3400.jpg  \n",
            "  inflating: data/training_images/vid_4_3420.jpg  \n",
            "  inflating: data/training_images/vid_4_3440.jpg  \n",
            "  inflating: data/training_images/vid_4_3460.jpg  \n",
            "  inflating: data/training_images/vid_4_3480.jpg  \n",
            "  inflating: data/training_images/vid_4_3500.jpg  \n",
            "  inflating: data/training_images/vid_4_3520.jpg  \n",
            "  inflating: data/training_images/vid_4_3540.jpg  \n",
            "  inflating: data/training_images/vid_4_3560.jpg  \n",
            "  inflating: data/training_images/vid_4_3580.jpg  \n",
            "  inflating: data/training_images/vid_4_3600.jpg  \n",
            "  inflating: data/training_images/vid_4_3620.jpg  \n",
            "  inflating: data/training_images/vid_4_3640.jpg  \n",
            "  inflating: data/training_images/vid_4_3660.jpg  \n",
            "  inflating: data/training_images/vid_4_3680.jpg  \n",
            "  inflating: data/training_images/vid_4_3700.jpg  \n",
            "  inflating: data/training_images/vid_4_3720.jpg  \n",
            "  inflating: data/training_images/vid_4_3740.jpg  \n",
            "  inflating: data/training_images/vid_4_3760.jpg  \n",
            "  inflating: data/training_images/vid_4_3780.jpg  \n",
            "  inflating: data/training_images/vid_4_3800.jpg  \n",
            "  inflating: data/training_images/vid_4_3820.jpg  \n",
            "  inflating: data/training_images/vid_4_3840.jpg  \n",
            "  inflating: data/training_images/vid_4_3860.jpg  \n",
            "  inflating: data/training_images/vid_4_3880.jpg  \n",
            "  inflating: data/training_images/vid_4_3900.jpg  \n",
            "  inflating: data/training_images/vid_4_3920.jpg  \n",
            "  inflating: data/training_images/vid_4_3940.jpg  \n",
            "  inflating: data/training_images/vid_4_3960.jpg  \n",
            "  inflating: data/training_images/vid_4_3980.jpg  \n",
            "  inflating: data/training_images/vid_4_4000.jpg  \n",
            "  inflating: data/training_images/vid_4_4020.jpg  \n",
            "  inflating: data/training_images/vid_4_4040.jpg  \n",
            "  inflating: data/training_images/vid_4_4060.jpg  \n",
            "  inflating: data/training_images/vid_4_4080.jpg  \n",
            "  inflating: data/training_images/vid_4_4100.jpg  \n",
            "  inflating: data/training_images/vid_4_4120.jpg  \n",
            "  inflating: data/training_images/vid_4_4140.jpg  \n",
            "  inflating: data/training_images/vid_4_4160.jpg  \n",
            "  inflating: data/training_images/vid_4_4180.jpg  \n",
            "  inflating: data/training_images/vid_4_4380.jpg  \n",
            "  inflating: data/training_images/vid_4_4400.jpg  \n",
            "  inflating: data/training_images/vid_4_4420.jpg  \n",
            "  inflating: data/training_images/vid_4_4520.jpg  \n",
            "  inflating: data/training_images/vid_4_4540.jpg  \n",
            "  inflating: data/training_images/vid_4_4560.jpg  \n",
            "  inflating: data/training_images/vid_4_4580.jpg  \n",
            "  inflating: data/training_images/vid_4_4600.jpg  \n",
            "  inflating: data/training_images/vid_4_4620.jpg  \n",
            "  inflating: data/training_images/vid_4_4640.jpg  \n",
            "  inflating: data/training_images/vid_4_5640.jpg  \n",
            "  inflating: data/training_images/vid_4_5660.jpg  \n",
            "  inflating: data/training_images/vid_4_5680.jpg  \n",
            "  inflating: data/training_images/vid_4_5700.jpg  \n",
            "  inflating: data/training_images/vid_4_5720.jpg  \n",
            "  inflating: data/training_images/vid_4_5740.jpg  \n",
            "  inflating: data/training_images/vid_4_5760.jpg  \n",
            "  inflating: data/training_images/vid_4_5780.jpg  \n",
            "  inflating: data/training_images/vid_4_5800.jpg  \n",
            "  inflating: data/training_images/vid_4_5820.jpg  \n",
            "  inflating: data/training_images/vid_4_5840.jpg  \n",
            "  inflating: data/training_images/vid_4_5860.jpg  \n",
            "  inflating: data/training_images/vid_4_5880.jpg  \n",
            "  inflating: data/training_images/vid_4_5900.jpg  \n",
            "  inflating: data/training_images/vid_4_5920.jpg  \n",
            "  inflating: data/training_images/vid_4_600.jpg  \n",
            "  inflating: data/training_images/vid_4_6080.jpg  \n",
            "  inflating: data/training_images/vid_4_6100.jpg  \n",
            "  inflating: data/training_images/vid_4_6120.jpg  \n",
            "  inflating: data/training_images/vid_4_6140.jpg  \n",
            "  inflating: data/training_images/vid_4_6160.jpg  \n",
            "  inflating: data/training_images/vid_4_6180.jpg  \n",
            "  inflating: data/training_images/vid_4_620.jpg  \n",
            "  inflating: data/training_images/vid_4_6200.jpg  \n",
            "  inflating: data/training_images/vid_4_6220.jpg  \n",
            "  inflating: data/training_images/vid_4_6240.jpg  \n",
            "  inflating: data/training_images/vid_4_6260.jpg  \n",
            "  inflating: data/training_images/vid_4_6280.jpg  \n",
            "  inflating: data/training_images/vid_4_6300.jpg  \n",
            "  inflating: data/training_images/vid_4_6320.jpg  \n",
            "  inflating: data/training_images/vid_4_6340.jpg  \n",
            "  inflating: data/training_images/vid_4_6360.jpg  \n",
            "  inflating: data/training_images/vid_4_6380.jpg  \n",
            "  inflating: data/training_images/vid_4_640.jpg  \n",
            "  inflating: data/training_images/vid_4_6400.jpg  \n",
            "  inflating: data/training_images/vid_4_6420.jpg  \n",
            "  inflating: data/training_images/vid_4_6440.jpg  \n",
            "  inflating: data/training_images/vid_4_6460.jpg  \n",
            "  inflating: data/training_images/vid_4_6480.jpg  \n",
            "  inflating: data/training_images/vid_4_6500.jpg  \n",
            "  inflating: data/training_images/vid_4_6520.jpg  \n",
            "  inflating: data/training_images/vid_4_6540.jpg  \n",
            "  inflating: data/training_images/vid_4_6560.jpg  \n",
            "  inflating: data/training_images/vid_4_6580.jpg  \n",
            "  inflating: data/training_images/vid_4_660.jpg  \n",
            "  inflating: data/training_images/vid_4_6600.jpg  \n",
            "  inflating: data/training_images/vid_4_6780.jpg  \n",
            "  inflating: data/training_images/vid_4_680.jpg  \n",
            "  inflating: data/training_images/vid_4_6800.jpg  \n",
            "  inflating: data/training_images/vid_4_6820.jpg  \n",
            "  inflating: data/training_images/vid_4_6880.jpg  \n",
            "  inflating: data/training_images/vid_4_6900.jpg  \n",
            "  inflating: data/training_images/vid_4_6920.jpg  \n",
            "  inflating: data/training_images/vid_4_6940.jpg  \n",
            "  inflating: data/training_images/vid_4_6960.jpg  \n",
            "  inflating: data/training_images/vid_4_6980.jpg  \n",
            "  inflating: data/training_images/vid_4_700.jpg  \n",
            "  inflating: data/training_images/vid_4_7000.jpg  \n",
            "  inflating: data/training_images/vid_4_7020.jpg  \n",
            "  inflating: data/training_images/vid_4_7040.jpg  \n",
            "  inflating: data/training_images/vid_4_7060.jpg  \n",
            "  inflating: data/training_images/vid_4_7080.jpg  \n",
            "  inflating: data/training_images/vid_4_7100.jpg  \n",
            "  inflating: data/training_images/vid_4_7120.jpg  \n",
            "  inflating: data/training_images/vid_4_7140.jpg  \n",
            "  inflating: data/training_images/vid_4_7160.jpg  \n",
            "  inflating: data/training_images/vid_4_7180.jpg  \n",
            "  inflating: data/training_images/vid_4_720.jpg  \n",
            "  inflating: data/training_images/vid_4_7200.jpg  \n",
            "  inflating: data/training_images/vid_4_7220.jpg  \n",
            "  inflating: data/training_images/vid_4_7240.jpg  \n",
            "  inflating: data/training_images/vid_4_7260.jpg  \n",
            "  inflating: data/training_images/vid_4_7280.jpg  \n",
            "  inflating: data/training_images/vid_4_7300.jpg  \n",
            "  inflating: data/training_images/vid_4_7320.jpg  \n",
            "  inflating: data/training_images/vid_4_7340.jpg  \n",
            "  inflating: data/training_images/vid_4_7360.jpg  \n",
            "  inflating: data/training_images/vid_4_7380.jpg  \n",
            "  inflating: data/training_images/vid_4_740.jpg  \n",
            "  inflating: data/training_images/vid_4_7400.jpg  \n",
            "  inflating: data/training_images/vid_4_7420.jpg  \n",
            "  inflating: data/training_images/vid_4_7440.jpg  \n",
            "  inflating: data/training_images/vid_4_7460.jpg  \n",
            "  inflating: data/training_images/vid_4_7480.jpg  \n",
            "  inflating: data/training_images/vid_4_7500.jpg  \n",
            "  inflating: data/training_images/vid_4_7520.jpg  \n",
            "  inflating: data/training_images/vid_4_7540.jpg  \n",
            "  inflating: data/training_images/vid_4_7560.jpg  \n",
            "  inflating: data/training_images/vid_4_7580.jpg  \n",
            "  inflating: data/training_images/vid_4_760.jpg  \n",
            "  inflating: data/training_images/vid_4_7600.jpg  \n",
            "  inflating: data/training_images/vid_4_7620.jpg  \n",
            "  inflating: data/training_images/vid_4_7640.jpg  \n",
            "  inflating: data/training_images/vid_4_7660.jpg  \n",
            "  inflating: data/training_images/vid_4_7680.jpg  \n",
            "  inflating: data/training_images/vid_4_7700.jpg  \n",
            "  inflating: data/training_images/vid_4_7720.jpg  \n",
            "  inflating: data/training_images/vid_4_7740.jpg  \n",
            "  inflating: data/training_images/vid_4_7760.jpg  \n",
            "  inflating: data/training_images/vid_4_780.jpg  \n",
            "  inflating: data/training_images/vid_4_800.jpg  \n",
            "  inflating: data/training_images/vid_4_820.jpg  \n",
            "  inflating: data/training_images/vid_4_8220.jpg  \n",
            "  inflating: data/training_images/vid_4_8240.jpg  \n",
            "  inflating: data/training_images/vid_4_8260.jpg  \n",
            "  inflating: data/training_images/vid_4_8280.jpg  \n",
            "  inflating: data/training_images/vid_4_8300.jpg  \n",
            "  inflating: data/training_images/vid_4_8320.jpg  \n",
            "  inflating: data/training_images/vid_4_8340.jpg  \n",
            "  inflating: data/training_images/vid_4_8560.jpg  \n",
            "  inflating: data/training_images/vid_4_8580.jpg  \n",
            "  inflating: data/training_images/vid_4_860.jpg  \n",
            "  inflating: data/training_images/vid_4_8600.jpg  \n",
            "  inflating: data/training_images/vid_4_8620.jpg  \n",
            "  inflating: data/training_images/vid_4_8640.jpg  \n",
            "  inflating: data/training_images/vid_4_8660.jpg  \n",
            "  inflating: data/training_images/vid_4_8680.jpg  \n",
            "  inflating: data/training_images/vid_4_8700.jpg  \n",
            "  inflating: data/training_images/vid_4_8720.jpg  \n",
            "  inflating: data/training_images/vid_4_8740.jpg  \n",
            "  inflating: data/training_images/vid_4_8760.jpg  \n",
            "  inflating: data/training_images/vid_4_8780.jpg  \n",
            "  inflating: data/training_images/vid_4_880.jpg  \n",
            "  inflating: data/training_images/vid_4_8800.jpg  \n",
            "  inflating: data/training_images/vid_4_8960.jpg  \n",
            "  inflating: data/training_images/vid_4_8980.jpg  \n",
            "  inflating: data/training_images/vid_4_900.jpg  \n",
            "  inflating: data/training_images/vid_4_9000.jpg  \n",
            "  inflating: data/training_images/vid_4_9020.jpg  \n",
            "  inflating: data/training_images/vid_4_9040.jpg  \n",
            "  inflating: data/training_images/vid_4_9060.jpg  \n",
            "  inflating: data/training_images/vid_4_9080.jpg  \n",
            "  inflating: data/training_images/vid_4_9100.jpg  \n",
            "  inflating: data/training_images/vid_4_9120.jpg  \n",
            "  inflating: data/training_images/vid_4_9140.jpg  \n",
            "  inflating: data/training_images/vid_4_9160.jpg  \n",
            "  inflating: data/training_images/vid_4_9180.jpg  \n",
            "  inflating: data/training_images/vid_4_920.jpg  \n",
            "  inflating: data/training_images/vid_4_9200.jpg  \n",
            "  inflating: data/training_images/vid_4_9220.jpg  \n",
            "  inflating: data/training_images/vid_4_9240.jpg  \n",
            "  inflating: data/training_images/vid_4_9260.jpg  \n",
            "  inflating: data/training_images/vid_4_9280.jpg  \n",
            "  inflating: data/training_images/vid_4_9300.jpg  \n",
            "  inflating: data/training_images/vid_4_9320.jpg  \n",
            "  inflating: data/training_images/vid_4_9340.jpg  \n",
            "  inflating: data/training_images/vid_4_9360.jpg  \n",
            "  inflating: data/training_images/vid_4_9380.jpg  \n",
            "  inflating: data/training_images/vid_4_940.jpg  \n",
            "  inflating: data/training_images/vid_4_9400.jpg  \n",
            "  inflating: data/training_images/vid_4_9420.jpg  \n",
            "  inflating: data/training_images/vid_4_9440.jpg  \n",
            "  inflating: data/training_images/vid_4_9460.jpg  \n",
            "  inflating: data/training_images/vid_4_9480.jpg  \n",
            "  inflating: data/training_images/vid_4_9500.jpg  \n",
            "  inflating: data/training_images/vid_4_9520.jpg  \n",
            "  inflating: data/training_images/vid_4_9540.jpg  \n",
            "  inflating: data/training_images/vid_4_9560.jpg  \n",
            "  inflating: data/training_images/vid_4_9580.jpg  \n",
            "  inflating: data/training_images/vid_4_960.jpg  \n",
            "  inflating: data/training_images/vid_4_9600.jpg  \n",
            "  inflating: data/training_images/vid_4_9620.jpg  \n",
            "  inflating: data/training_images/vid_4_9640.jpg  \n",
            "  inflating: data/training_images/vid_4_9660.jpg  \n",
            "  inflating: data/training_images/vid_4_9680.jpg  \n",
            "  inflating: data/training_images/vid_4_9700.jpg  \n",
            "  inflating: data/training_images/vid_4_9720.jpg  \n",
            "  inflating: data/training_images/vid_4_9740.jpg  \n",
            "  inflating: data/training_images/vid_4_9760.jpg  \n",
            "  inflating: data/training_images/vid_4_9780.jpg  \n",
            "  inflating: data/training_images/vid_4_980.jpg  \n",
            "  inflating: data/training_images/vid_4_9800.jpg  \n",
            "  inflating: data/training_images/vid_4_9820.jpg  \n",
            "  inflating: data/training_images/vid_4_9840.jpg  \n",
            "  inflating: data/training_images/vid_4_9860.jpg  \n",
            "  inflating: data/training_images/vid_4_9880.jpg  \n",
            "  inflating: data/training_images/vid_4_9900.jpg  \n",
            "  inflating: data/training_images/vid_4_9920.jpg  \n",
            "  inflating: data/training_images/vid_4_9940.jpg  \n",
            "  inflating: data/training_images/vid_4_9960.jpg  \n",
            "  inflating: data/training_images/vid_4_9980.jpg  \n"
          ]
        }
      ],
      "source": [
        "!kaggle datasets download -d sshikamaru/car-object-detection\n",
        "!unzip car-object-detection"
      ]
    },
    {
      "cell_type": "markdown",
      "metadata": {
        "id": "-JWSyoIDG2Pf"
      },
      "source": [
        "Chce pobrany zbiór danych doprowadzić do uporządowanej struktury"
      ]
    },
    {
      "cell_type": "code",
      "execution_count": null,
      "metadata": {
        "id": "sKymQwJxRCZx"
      },
      "outputs": [],
      "source": [
        "try:\n",
        "  os.rename('data', 'samochody')\n",
        "except FileNotFoundError:\n",
        "  print(\"nazwa katalogu juz zmieniona\")\n",
        "\n",
        "os.mkdir('samochody/images')\n"
      ]
    },
    {
      "cell_type": "code",
      "execution_count": null,
      "metadata": {
        "id": "A5SSjnTvSyQL"
      },
      "outputs": [],
      "source": [
        "try:\n",
        "  os.rename('samochody/training_images', 'samochody/train')\n",
        "  os.rename('samochody/testing_images', 'samochody/test')\n",
        "except FileNotFoundError:\n",
        "  print(\"nazwy katalogów juz zmienione\")\n",
        "\n",
        "try:\n",
        "  shutil.move('samochody/train', 'samochody/images/')\n",
        "  shutil.move('samochody/test', 'samochody/images/')\n",
        "except FileNotFoundError:\n",
        "  print(\"katalogi juz przeniesione\")\n"
      ]
    },
    {
      "cell_type": "markdown",
      "metadata": {
        "id": "tw5qUAG_Fe6U"
      },
      "source": [
        "Następnie musze przygotować zbiór danych w odpowiednim formacie do trenowania."
      ]
    },
    {
      "cell_type": "markdown",
      "metadata": {
        "id": "fkbkjPQtFe6U"
      },
      "source": [
        "W tym przypadku bounding boxy dla danych uczących są gotowe, jedynie należy przeprowadzić transformację do odpowiedniego formatu."
      ]
    },
    {
      "cell_type": "code",
      "execution_count": null,
      "metadata": {
        "colab": {
          "base_uri": "https://localhost:8080/",
          "height": 206
        },
        "id": "Xr_l9d4OFe6U",
        "outputId": "4623554c-a5f7-47e8-f128-ecfc2f6770d0"
      },
      "outputs": [
        {
          "data": {
            "application/vnd.google.colaboratory.intrinsic+json": {
              "summary": "{\n  \"name\": \"df\",\n  \"rows\": 559,\n  \"fields\": [\n    {\n      \"column\": \"image\",\n      \"properties\": {\n        \"dtype\": \"string\",\n        \"num_unique_values\": 355,\n        \"samples\": [\n          \"vid_4_28820.jpg\",\n          \"vid_4_12240.jpg\",\n          \"vid_4_3440.jpg\"\n        ],\n        \"semantic_type\": \"\",\n        \"description\": \"\"\n      }\n    },\n    {\n      \"column\": \"xmin\",\n      \"properties\": {\n        \"dtype\": \"number\",\n        \"std\": 207.3683883306939,\n        \"min\": 0.0,\n        \"max\": 645.1837916,\n        \"num_unique_values\": 440,\n        \"samples\": [\n          582.5730825,\n          554.2026049,\n          167.7771346\n        ],\n        \"semantic_type\": \"\",\n        \"description\": \"\"\n      }\n    },\n    {\n      \"column\": \"ymin\",\n      \"properties\": {\n        \"dtype\": \"number\",\n        \"std\": 9.315974122252394,\n        \"min\": 148.3992921,\n        \"max\": 208.0646718,\n        \"num_unique_values\": 149,\n        \"samples\": [\n          173.3413771,\n          197.3053411,\n          197.8295013\n        ],\n        \"semantic_type\": \"\",\n        \"description\": \"\"\n      }\n    },\n    {\n      \"column\": \"xmax\",\n      \"properties\": {\n        \"dtype\": \"number\",\n        \"std\": 213.50117465829075,\n        \"min\": 28.55644574,\n        \"max\": 676.0,\n        \"num_unique_values\": 438,\n        \"samples\": [\n          564.2359796,\n          423.6005789,\n          84.62228654\n        ],\n        \"semantic_type\": \"\",\n        \"description\": \"\"\n      }\n    },\n    {\n      \"column\": \"ymax\",\n      \"properties\": {\n        \"dtype\": \"number\",\n        \"std\": 13.987175819581244,\n        \"min\": 198.3217293,\n        \"max\": 308.3220721,\n        \"num_unique_values\": 184,\n        \"samples\": [\n          219.3130631,\n          230.5614543,\n          216.0419365\n        ],\n        \"semantic_type\": \"\",\n        \"description\": \"\"\n      }\n    }\n  ]\n}",
              "type": "dataframe",
              "variable_name": "df"
            },
            "text/html": [
              "\n",
              "  <div id=\"df-48f22f0f-e598-46ab-9033-8ad620193b60\" class=\"colab-df-container\">\n",
              "    <div>\n",
              "<style scoped>\n",
              "    .dataframe tbody tr th:only-of-type {\n",
              "        vertical-align: middle;\n",
              "    }\n",
              "\n",
              "    .dataframe tbody tr th {\n",
              "        vertical-align: top;\n",
              "    }\n",
              "\n",
              "    .dataframe thead th {\n",
              "        text-align: right;\n",
              "    }\n",
              "</style>\n",
              "<table border=\"1\" class=\"dataframe\">\n",
              "  <thead>\n",
              "    <tr style=\"text-align: right;\">\n",
              "      <th></th>\n",
              "      <th>image</th>\n",
              "      <th>xmin</th>\n",
              "      <th>ymin</th>\n",
              "      <th>xmax</th>\n",
              "      <th>ymax</th>\n",
              "    </tr>\n",
              "  </thead>\n",
              "  <tbody>\n",
              "    <tr>\n",
              "      <th>0</th>\n",
              "      <td>vid_4_1000.jpg</td>\n",
              "      <td>281.259045</td>\n",
              "      <td>187.035071</td>\n",
              "      <td>327.727931</td>\n",
              "      <td>223.225547</td>\n",
              "    </tr>\n",
              "    <tr>\n",
              "      <th>1</th>\n",
              "      <td>vid_4_10000.jpg</td>\n",
              "      <td>15.163531</td>\n",
              "      <td>187.035071</td>\n",
              "      <td>120.329957</td>\n",
              "      <td>236.430180</td>\n",
              "    </tr>\n",
              "    <tr>\n",
              "      <th>2</th>\n",
              "      <td>vid_4_10040.jpg</td>\n",
              "      <td>239.192475</td>\n",
              "      <td>176.764801</td>\n",
              "      <td>361.968162</td>\n",
              "      <td>236.430180</td>\n",
              "    </tr>\n",
              "    <tr>\n",
              "      <th>3</th>\n",
              "      <td>vid_4_10020.jpg</td>\n",
              "      <td>496.483358</td>\n",
              "      <td>172.363256</td>\n",
              "      <td>630.020260</td>\n",
              "      <td>231.539575</td>\n",
              "    </tr>\n",
              "    <tr>\n",
              "      <th>4</th>\n",
              "      <td>vid_4_10060.jpg</td>\n",
              "      <td>16.630970</td>\n",
              "      <td>186.546010</td>\n",
              "      <td>132.558611</td>\n",
              "      <td>238.386422</td>\n",
              "    </tr>\n",
              "  </tbody>\n",
              "</table>\n",
              "</div>\n",
              "    <div class=\"colab-df-buttons\">\n",
              "\n",
              "  <div class=\"colab-df-container\">\n",
              "    <button class=\"colab-df-convert\" onclick=\"convertToInteractive('df-48f22f0f-e598-46ab-9033-8ad620193b60')\"\n",
              "            title=\"Convert this dataframe to an interactive table.\"\n",
              "            style=\"display:none;\">\n",
              "\n",
              "  <svg xmlns=\"http://www.w3.org/2000/svg\" height=\"24px\" viewBox=\"0 -960 960 960\">\n",
              "    <path d=\"M120-120v-720h720v720H120Zm60-500h600v-160H180v160Zm220 220h160v-160H400v160Zm0 220h160v-160H400v160ZM180-400h160v-160H180v160Zm440 0h160v-160H620v160ZM180-180h160v-160H180v160Zm440 0h160v-160H620v160Z\"/>\n",
              "  </svg>\n",
              "    </button>\n",
              "\n",
              "  <style>\n",
              "    .colab-df-container {\n",
              "      display:flex;\n",
              "      gap: 12px;\n",
              "    }\n",
              "\n",
              "    .colab-df-convert {\n",
              "      background-color: #E8F0FE;\n",
              "      border: none;\n",
              "      border-radius: 50%;\n",
              "      cursor: pointer;\n",
              "      display: none;\n",
              "      fill: #1967D2;\n",
              "      height: 32px;\n",
              "      padding: 0 0 0 0;\n",
              "      width: 32px;\n",
              "    }\n",
              "\n",
              "    .colab-df-convert:hover {\n",
              "      background-color: #E2EBFA;\n",
              "      box-shadow: 0px 1px 2px rgba(60, 64, 67, 0.3), 0px 1px 3px 1px rgba(60, 64, 67, 0.15);\n",
              "      fill: #174EA6;\n",
              "    }\n",
              "\n",
              "    .colab-df-buttons div {\n",
              "      margin-bottom: 4px;\n",
              "    }\n",
              "\n",
              "    [theme=dark] .colab-df-convert {\n",
              "      background-color: #3B4455;\n",
              "      fill: #D2E3FC;\n",
              "    }\n",
              "\n",
              "    [theme=dark] .colab-df-convert:hover {\n",
              "      background-color: #434B5C;\n",
              "      box-shadow: 0px 1px 3px 1px rgba(0, 0, 0, 0.15);\n",
              "      filter: drop-shadow(0px 1px 2px rgba(0, 0, 0, 0.3));\n",
              "      fill: #FFFFFF;\n",
              "    }\n",
              "  </style>\n",
              "\n",
              "    <script>\n",
              "      const buttonEl =\n",
              "        document.querySelector('#df-48f22f0f-e598-46ab-9033-8ad620193b60 button.colab-df-convert');\n",
              "      buttonEl.style.display =\n",
              "        google.colab.kernel.accessAllowed ? 'block' : 'none';\n",
              "\n",
              "      async function convertToInteractive(key) {\n",
              "        const element = document.querySelector('#df-48f22f0f-e598-46ab-9033-8ad620193b60');\n",
              "        const dataTable =\n",
              "          await google.colab.kernel.invokeFunction('convertToInteractive',\n",
              "                                                    [key], {});\n",
              "        if (!dataTable) return;\n",
              "\n",
              "        const docLinkHtml = 'Like what you see? Visit the ' +\n",
              "          '<a target=\"_blank\" href=https://colab.research.google.com/notebooks/data_table.ipynb>data table notebook</a>'\n",
              "          + ' to learn more about interactive tables.';\n",
              "        element.innerHTML = '';\n",
              "        dataTable['output_type'] = 'display_data';\n",
              "        await google.colab.output.renderOutput(dataTable, element);\n",
              "        const docLink = document.createElement('div');\n",
              "        docLink.innerHTML = docLinkHtml;\n",
              "        element.appendChild(docLink);\n",
              "      }\n",
              "    </script>\n",
              "  </div>\n",
              "\n",
              "\n",
              "<div id=\"df-04d3b084-6d6e-4ea7-a050-d6b1803f4442\">\n",
              "  <button class=\"colab-df-quickchart\" onclick=\"quickchart('df-04d3b084-6d6e-4ea7-a050-d6b1803f4442')\"\n",
              "            title=\"Suggest charts\"\n",
              "            style=\"display:none;\">\n",
              "\n",
              "<svg xmlns=\"http://www.w3.org/2000/svg\" height=\"24px\"viewBox=\"0 0 24 24\"\n",
              "     width=\"24px\">\n",
              "    <g>\n",
              "        <path d=\"M19 3H5c-1.1 0-2 .9-2 2v14c0 1.1.9 2 2 2h14c1.1 0 2-.9 2-2V5c0-1.1-.9-2-2-2zM9 17H7v-7h2v7zm4 0h-2V7h2v10zm4 0h-2v-4h2v4z\"/>\n",
              "    </g>\n",
              "</svg>\n",
              "  </button>\n",
              "\n",
              "<style>\n",
              "  .colab-df-quickchart {\n",
              "      --bg-color: #E8F0FE;\n",
              "      --fill-color: #1967D2;\n",
              "      --hover-bg-color: #E2EBFA;\n",
              "      --hover-fill-color: #174EA6;\n",
              "      --disabled-fill-color: #AAA;\n",
              "      --disabled-bg-color: #DDD;\n",
              "  }\n",
              "\n",
              "  [theme=dark] .colab-df-quickchart {\n",
              "      --bg-color: #3B4455;\n",
              "      --fill-color: #D2E3FC;\n",
              "      --hover-bg-color: #434B5C;\n",
              "      --hover-fill-color: #FFFFFF;\n",
              "      --disabled-bg-color: #3B4455;\n",
              "      --disabled-fill-color: #666;\n",
              "  }\n",
              "\n",
              "  .colab-df-quickchart {\n",
              "    background-color: var(--bg-color);\n",
              "    border: none;\n",
              "    border-radius: 50%;\n",
              "    cursor: pointer;\n",
              "    display: none;\n",
              "    fill: var(--fill-color);\n",
              "    height: 32px;\n",
              "    padding: 0;\n",
              "    width: 32px;\n",
              "  }\n",
              "\n",
              "  .colab-df-quickchart:hover {\n",
              "    background-color: var(--hover-bg-color);\n",
              "    box-shadow: 0 1px 2px rgba(60, 64, 67, 0.3), 0 1px 3px 1px rgba(60, 64, 67, 0.15);\n",
              "    fill: var(--button-hover-fill-color);\n",
              "  }\n",
              "\n",
              "  .colab-df-quickchart-complete:disabled,\n",
              "  .colab-df-quickchart-complete:disabled:hover {\n",
              "    background-color: var(--disabled-bg-color);\n",
              "    fill: var(--disabled-fill-color);\n",
              "    box-shadow: none;\n",
              "  }\n",
              "\n",
              "  .colab-df-spinner {\n",
              "    border: 2px solid var(--fill-color);\n",
              "    border-color: transparent;\n",
              "    border-bottom-color: var(--fill-color);\n",
              "    animation:\n",
              "      spin 1s steps(1) infinite;\n",
              "  }\n",
              "\n",
              "  @keyframes spin {\n",
              "    0% {\n",
              "      border-color: transparent;\n",
              "      border-bottom-color: var(--fill-color);\n",
              "      border-left-color: var(--fill-color);\n",
              "    }\n",
              "    20% {\n",
              "      border-color: transparent;\n",
              "      border-left-color: var(--fill-color);\n",
              "      border-top-color: var(--fill-color);\n",
              "    }\n",
              "    30% {\n",
              "      border-color: transparent;\n",
              "      border-left-color: var(--fill-color);\n",
              "      border-top-color: var(--fill-color);\n",
              "      border-right-color: var(--fill-color);\n",
              "    }\n",
              "    40% {\n",
              "      border-color: transparent;\n",
              "      border-right-color: var(--fill-color);\n",
              "      border-top-color: var(--fill-color);\n",
              "    }\n",
              "    60% {\n",
              "      border-color: transparent;\n",
              "      border-right-color: var(--fill-color);\n",
              "    }\n",
              "    80% {\n",
              "      border-color: transparent;\n",
              "      border-right-color: var(--fill-color);\n",
              "      border-bottom-color: var(--fill-color);\n",
              "    }\n",
              "    90% {\n",
              "      border-color: transparent;\n",
              "      border-bottom-color: var(--fill-color);\n",
              "    }\n",
              "  }\n",
              "</style>\n",
              "\n",
              "  <script>\n",
              "    async function quickchart(key) {\n",
              "      const quickchartButtonEl =\n",
              "        document.querySelector('#' + key + ' button');\n",
              "      quickchartButtonEl.disabled = true;  // To prevent multiple clicks.\n",
              "      quickchartButtonEl.classList.add('colab-df-spinner');\n",
              "      try {\n",
              "        const charts = await google.colab.kernel.invokeFunction(\n",
              "            'suggestCharts', [key], {});\n",
              "      } catch (error) {\n",
              "        console.error('Error during call to suggestCharts:', error);\n",
              "      }\n",
              "      quickchartButtonEl.classList.remove('colab-df-spinner');\n",
              "      quickchartButtonEl.classList.add('colab-df-quickchart-complete');\n",
              "    }\n",
              "    (() => {\n",
              "      let quickchartButtonEl =\n",
              "        document.querySelector('#df-04d3b084-6d6e-4ea7-a050-d6b1803f4442 button');\n",
              "      quickchartButtonEl.style.display =\n",
              "        google.colab.kernel.accessAllowed ? 'block' : 'none';\n",
              "    })();\n",
              "  </script>\n",
              "</div>\n",
              "\n",
              "    </div>\n",
              "  </div>\n"
            ],
            "text/plain": [
              "             image        xmin        ymin        xmax        ymax\n",
              "0   vid_4_1000.jpg  281.259045  187.035071  327.727931  223.225547\n",
              "1  vid_4_10000.jpg   15.163531  187.035071  120.329957  236.430180\n",
              "2  vid_4_10040.jpg  239.192475  176.764801  361.968162  236.430180\n",
              "3  vid_4_10020.jpg  496.483358  172.363256  630.020260  231.539575\n",
              "4  vid_4_10060.jpg   16.630970  186.546010  132.558611  238.386422"
            ]
          },
          "execution_count": 9,
          "metadata": {},
          "output_type": "execute_result"
        }
      ],
      "source": [
        "csv_path = \"samochody/train_solution_bounding_boxes (1).csv\"\n",
        "df = pd.read_csv(csv_path)\n",
        "df.head()"
      ]
    },
    {
      "cell_type": "markdown",
      "metadata": {
        "id": "MRdfVQOIFe6V"
      },
      "source": [
        "Dla danych uczących:"
      ]
    },
    {
      "cell_type": "code",
      "execution_count": null,
      "metadata": {
        "id": "WuXAcfyQFe6V"
      },
      "outputs": [],
      "source": [
        "os.makedirs('samochody/labels/train')\n",
        "for _, row in df.iterrows():\n",
        "    it = \"/images/train/\"\n",
        "    lt = \"/labels/train/\"\n",
        "    image_path = \"samochody\" + it + row['image']\n",
        "    xmin, ymin, xmax, ymax = row[['xmin', 'ymin', 'xmax', 'ymax']]\n",
        "\n",
        "    img = PIL.Image.open(image_path)\n",
        "    img_width, img_height = img.size\n",
        "\n",
        "    x_center = ((xmin + xmax) / 2) / img_width\n",
        "    y_center = ((ymin + ymax) / 2) / img_height\n",
        "    width = (xmax - xmin) / img_width\n",
        "    height = (ymax - ymin) / img_height\n",
        "\n",
        "    txt_path = \"samochody\" + lt + row['image'].split('.')[0] + \".txt\"\n",
        "    with open(txt_path, 'a') as f:\n",
        "        f.write(f\"{0} {x_center} {y_center} {width} {height}\\n\")"
      ]
    },
    {
      "cell_type": "markdown",
      "metadata": {
        "id": "3SbjH1IsFe6W"
      },
      "source": [
        "Dla danych testowych bounding boxy stworzyłem używając label-studio, ponieważ nie ma ich w oryginalnym zbiorze. Etykiety umieściłem w moim repozytroium"
      ]
    },
    {
      "cell_type": "code",
      "execution_count": null,
      "metadata": {
        "colab": {
          "base_uri": "https://localhost:8080/"
        },
        "id": "RevC6A3LXL2s",
        "outputId": "32d265ff-3721-493f-9a87-a05accf2948c"
      },
      "outputs": [
        {
          "name": "stdout",
          "output_type": "stream",
          "text": [
            "Cloning into 'rozpoznawanie'...\n",
            "remote: Enumerating objects: 501, done.\u001b[K\n",
            "remote: Counting objects: 100% (501/501), done.\u001b[K\n",
            "remote: Compressing objects: 100% (487/487), done.\u001b[K\n",
            "remote: Total 501 (delta 9), reused 497 (delta 8), pack-reused 0 (from 0)\u001b[K\n",
            "Receiving objects: 100% (501/501), 3.08 MiB | 30.35 MiB/s, done.\n",
            "Resolving deltas: 100% (9/9), done.\n"
          ]
        }
      ],
      "source": [
        "!git clone https://github.com/iochgsthsu/rozpoznawanie/"
      ]
    },
    {
      "cell_type": "code",
      "execution_count": null,
      "metadata": {
        "id": "55cv6XD-XysZ"
      },
      "outputs": [],
      "source": [
        "try:\n",
        "  shutil.move('rozpoznawanie/samochody/labels/test', 'samochody/labels/')\n",
        "except FileNotFoundError:\n",
        "  print(\"katalogi juz przeniesione\")"
      ]
    },
    {
      "cell_type": "code",
      "execution_count": null,
      "metadata": {
        "colab": {
          "base_uri": "https://localhost:8080/",
          "height": 35
        },
        "id": "r9rbSmUfYpM9",
        "outputId": "9f614c61-c995-49f0-b901-ae94a3c77fea"
      },
      "outputs": [
        {
          "data": {
            "application/vnd.google.colaboratory.intrinsic+json": {
              "type": "string"
            },
            "text/plain": [
              "'datasets/dataset.yaml'"
            ]
          },
          "execution_count": 13,
          "metadata": {},
          "output_type": "execute_result"
        }
      ],
      "source": [
        "os.mkdir('datasets')\n",
        "shutil.move('samochody', 'datasets/')\n",
        "shutil.move('rozpoznawanie/dataset.yaml', 'datasets/')"
      ]
    },
    {
      "cell_type": "markdown",
      "metadata": {
        "id": "ShMJdvsfFe6X"
      },
      "source": [
        "Następnie tworze plik konfiguracyjny zbioru danych"
      ]
    },
    {
      "cell_type": "code",
      "execution_count": null,
      "metadata": {
        "colab": {
          "base_uri": "https://localhost:8080/"
        },
        "id": "9UldmL_wFe6X",
        "outputId": "99947bb2-83bc-4b60-d16f-315372a7fd83"
      },
      "outputs": [
        {
          "name": "stdout",
          "output_type": "stream",
          "text": [
            "# moj_dataset.yaml\n",
            "path: samochody/\n",
            "train: images/train/\n",
            "val: images/test/\n",
            "nc: 1  \n",
            "names: ['samochód']  # Nazwy klas\n"
          ]
        }
      ],
      "source": [
        "try:\n",
        "  with open('datasets/dataset.yaml', \"r\", encoding=\"utf-8\") as c:\n",
        "    print(c.read())\n",
        "except FileNotFoundError:\n",
        "  print(\"Nie znaleziono pliku\")"
      ]
    },
    {
      "cell_type": "markdown",
      "metadata": {
        "id": "DrCJRtzJFe6S"
      },
      "source": [
        "Wczytuje model ze wstępnie zainicjowanymi wagami."
      ]
    },
    {
      "cell_type": "code",
      "execution_count": null,
      "metadata": {
        "colab": {
          "base_uri": "https://localhost:8080/"
        },
        "id": "ulA8UmNFFe6T",
        "outputId": "ec4d594e-2909-4975-afb6-372c5671fec4"
      },
      "outputs": [
        {
          "name": "stdout",
          "output_type": "stream",
          "text": [
            "# Ultralytics 🚀 AGPL-3.0 License - https://ultralytics.com/license\n",
            "\n",
            "# Parameters\n",
            "nc: 80 # number of classes\n",
            "depth_multiple: 0.33 # model depth multiple\n",
            "width_multiple: 0.50 # layer channel multiple\n",
            "anchors:\n",
            "  - [10, 13, 16, 30, 33, 23] # P3/8\n",
            "  - [30, 61, 62, 45, 59, 119] # P4/16\n",
            "  - [116, 90, 156, 198, 373, 326] # P5/32\n",
            "\n",
            "# YOLOv5 v6.0 backbone\n",
            "backbone:\n",
            "  # [from, number, module, args]\n",
            "  [\n",
            "    [-1, 1, Conv, [64, 6, 2, 2]], # 0-P1/2\n",
            "    [-1, 1, Conv, [128, 3, 2]], # 1-P2/4\n",
            "    [-1, 3, C3, [128]],\n",
            "    [-1, 1, Conv, [256, 3, 2]], # 3-P3/8\n",
            "    [-1, 6, C3, [256]],\n",
            "    [-1, 1, Conv, [512, 3, 2]], # 5-P4/16\n",
            "    [-1, 9, C3, [512]],\n",
            "    [-1, 1, Conv, [1024, 3, 2]], # 7-P5/32\n",
            "    [-1, 3, C3, [1024]],\n",
            "    [-1, 1, SPPF, [1024, 5]], # 9\n",
            "  ]\n",
            "\n",
            "# YOLOv5 v6.0 head\n",
            "head: [\n",
            "    [-1, 1, Conv, [512, 1, 1]],\n",
            "    [-1, 1, nn.Upsample, [None, 2, \"nearest\"]],\n",
            "    [[-1, 6], 1, Concat, [1]], # cat backbone P4\n",
            "    [-1, 3, C3, [512, False]], # 13\n",
            "\n",
            "    [-1, 1, Conv, [256, 1, 1]],\n",
            "    [-1, 1, nn.Upsample, [None, 2, \"nearest\"]],\n",
            "    [[-1, 4], 1, Concat, [1]], # cat backbone P3\n",
            "    [-1, 3, C3, [256, False]], # 17 (P3/8-small)\n",
            "\n",
            "    [-1, 1, Conv, [256, 3, 2]],\n",
            "    [[-1, 14], 1, Concat, [1]], # cat head P4\n",
            "    [-1, 3, C3, [512, False]], # 20 (P4/16-medium)\n",
            "\n",
            "    [-1, 1, Conv, [512, 3, 2]],\n",
            "    [[-1, 10], 1, Concat, [1]], # cat head P5\n",
            "    [-1, 3, C3, [1024, False]], # 23 (P5/32-large)\n",
            "\n",
            "    [[17, 20, 23], 1, Detect, [nc, anchors]], # Detect(P3, P4, P5)\n",
            "  ]\n",
            "\n"
          ]
        }
      ],
      "source": [
        "try:\n",
        "  with open('yolov5/models/yolov5s.yaml', \"r\", encoding=\"utf-8\") as y:\n",
        "    print(y.read())\n",
        "except FileNotFoundError:\n",
        "  print(\"Plik nie został znaleziony\")\n",
        "\n",
        "model = YOLO(\"yolov5su.pt\")\n"
      ]
    },
    {
      "cell_type": "code",
      "execution_count": null,
      "metadata": {
        "colab": {
          "base_uri": "https://localhost:8080/"
        },
        "id": "F0OrCJQyRZvZ",
        "outputId": "dc1e5580-c33b-44b9-99df-de6a824a9e64"
      },
      "outputs": [
        {
          "name": "stdout",
          "output_type": "stream",
          "text": [
            "YOLOv5s summary: 153 layers, 9,153,152 parameters, 0 gradients, 24.2 GFLOPs\n"
          ]
        },
        {
          "data": {
            "text/plain": [
              "(153, 9153152, 0, 24.2129408)"
            ]
          },
          "execution_count": 4,
          "metadata": {},
          "output_type": "execute_result"
        }
      ],
      "source": [
        "model.info()"
      ]
    },
    {
      "cell_type": "markdown",
      "metadata": {
        "id": "WhrBwB9cWGcM"
      },
      "source": [
        "Tworze plik konfiguracyjny trenowania"
      ]
    },
    {
      "cell_type": "code",
      "execution_count": null,
      "metadata": {
        "id": "GBPW3J_SWKFV"
      },
      "outputs": [],
      "source": [
        "config = {\n",
        "    \"data\": \"datasets/dataset.yaml\",\n",
        "    \"mode\": \"train\",\n",
        "    \"epochs\": 100,\n",
        "    \"batch\": 16,\n",
        "#    \"patience\": 20,\n",
        "    \"imgsz\": 640,\n",
        "    # transfer learning\n",
        "    \"freeze\": 10, # zamrazam wszystkie warstwy w backbone\n",
        " #   \"lr0\": 0.001,\n",
        "    # augmentacja\n",
        "    \"hsv_h\": 0.015,\n",
        "    \"hsv_s\": 0.7,\n",
        "    \"hsv_v\": 0.4,\n",
        "    \"degrees\": 30,\n",
        "    \"translate\": 0.1,\n",
        "    \"shear\": 0.2,\n",
        "    \"flipud\": 0.5,\n",
        "    \"fliplr\": 0.5,\n",
        "    \"mosaic\": 1.0,\n",
        "    \"mixup\": 0.2,\n",
        "    \"scale\": 0.5\n",
        "}"
      ]
    },
    {
      "cell_type": "code",
      "execution_count": null,
      "metadata": {
        "id": "SVeAzvUqo-1D"
      },
      "outputs": [],
      "source": [
        "try:\n",
        "    with open('datasets/cfg.yaml', 'w', encoding='utf-8') as f:\n",
        "        yc = '\\n'.join([f\"{key}: {value}\" for key, value in config.items()])\n",
        "        f.write(yc)\n",
        "except (FileNotFoundError, IsADirectoryError) as e:\n",
        "    print(f\"Błąd zapisu pliku: {e}\")"
      ]
    },
    {
      "cell_type": "code",
      "execution_count": null,
      "metadata": {
        "colab": {
          "base_uri": "https://localhost:8080/"
        },
        "id": "eF5wufgRXXWM",
        "outputId": "724f56e0-c701-4ffd-b495-42b5bd6659bf"
      },
      "outputs": [
        {
          "name": "stdout",
          "output_type": "stream",
          "text": [
            "data: datasets/dataset.yaml\n",
            "mode: train\n",
            "epochs: 100\n",
            "batch: 16\n",
            "imgsz: 640\n",
            "freeze: 10\n",
            "hsv_h: 0.015\n",
            "hsv_s: 0.7\n",
            "hsv_v: 0.4\n",
            "degrees: 30\n",
            "translate: 0.1\n",
            "shear: 0.2\n",
            "flipud: 0.5\n",
            "fliplr: 0.5\n",
            "mosaic: 1.0\n",
            "mixup: 0.2\n",
            "scale: 0.5\n"
          ]
        }
      ],
      "source": [
        "try:\n",
        "  with open('datasets/cfg.yaml', \"r\", encoding=\"utf-8\") as c:\n",
        "    print(c.read())\n",
        "except FileNotFoundError:\n",
        "  print(\"Nie znaleziono pliku\")"
      ]
    },
    {
      "cell_type": "markdown",
      "metadata": {
        "id": "kmZWTvcjFe6Y"
      },
      "source": [
        "Następnie przechodze do trenowania modelu"
      ]
    },
    {
      "cell_type": "code",
      "execution_count": null,
      "metadata": {
        "colab": {
          "base_uri": "https://localhost:8080/"
        },
        "id": "at2BvFrwFe6Y",
        "outputId": "ba58d134-4de6-4c29-df15-678bfa6120e3"
      },
      "outputs": [
        {
          "name": "stdout",
          "output_type": "stream",
          "text": [
            "Ultralytics 8.3.108 🚀 Python-3.11.12 torch-2.6.0+cu124 CUDA:0 (Tesla T4, 15095MiB)\n",
            "\u001b[34m\u001b[1mengine/trainer: \u001b[0mtask=detect, mode=train, model=yolov5su.pt, data=datasets/dataset.yaml, epochs=100, time=None, patience=100, batch=16, imgsz=640, save=True, save_period=-1, cache=False, device=None, workers=8, project=None, name=train3, exist_ok=False, pretrained=True, optimizer=auto, verbose=True, seed=0, deterministic=True, single_cls=False, rect=False, cos_lr=False, close_mosaic=10, resume=False, amp=True, fraction=1.0, profile=False, freeze=10, multi_scale=False, overlap_mask=True, mask_ratio=4, dropout=0.0, val=True, split=val, save_json=False, conf=None, iou=0.7, max_det=300, half=False, dnn=False, plots=True, source=None, vid_stride=1, stream_buffer=False, visualize=False, augment=False, agnostic_nms=False, classes=None, retina_masks=False, embed=None, show=False, save_frames=False, save_txt=False, save_conf=False, save_crop=False, show_labels=True, show_conf=True, show_boxes=True, line_width=None, format=torchscript, keras=False, optimize=False, int8=False, dynamic=False, simplify=True, opset=None, workspace=None, nms=False, lr0=0.01, lrf=0.01, momentum=0.937, weight_decay=0.0005, warmup_epochs=3.0, warmup_momentum=0.8, warmup_bias_lr=0.1, box=7.5, cls=0.5, dfl=1.5, pose=12.0, kobj=1.0, nbs=64, hsv_h=0.015, hsv_s=0.7, hsv_v=0.4, degrees=30, translate=0.1, scale=0.5, shear=0.2, perspective=0.0, flipud=0.5, fliplr=0.5, bgr=0.0, mosaic=1.0, mixup=0.2, copy_paste=0.0, copy_paste_mode=flip, auto_augment=randaugment, erasing=0.4, cfg=datasets/cfg.yaml, tracker=botsort.yaml, save_dir=runs/detect/train3\n",
            "\n",
            "                   from  n    params  module                                       arguments                     \n",
            "  0                  -1  1      3520  ultralytics.nn.modules.conv.Conv             [3, 32, 6, 2, 2]              \n",
            "  1                  -1  1     18560  ultralytics.nn.modules.conv.Conv             [32, 64, 3, 2]                \n",
            "  2                  -1  1     18816  ultralytics.nn.modules.block.C3              [64, 64, 1]                   \n",
            "  3                  -1  1     73984  ultralytics.nn.modules.conv.Conv             [64, 128, 3, 2]               \n",
            "  4                  -1  2    115712  ultralytics.nn.modules.block.C3              [128, 128, 2]                 \n",
            "  5                  -1  1    295424  ultralytics.nn.modules.conv.Conv             [128, 256, 3, 2]              \n",
            "  6                  -1  3    625152  ultralytics.nn.modules.block.C3              [256, 256, 3]                 \n",
            "  7                  -1  1   1180672  ultralytics.nn.modules.conv.Conv             [256, 512, 3, 2]              \n",
            "  8                  -1  1   1182720  ultralytics.nn.modules.block.C3              [512, 512, 1]                 \n",
            "  9                  -1  1    656896  ultralytics.nn.modules.block.SPPF            [512, 512, 5]                 \n",
            " 10                  -1  1    131584  ultralytics.nn.modules.conv.Conv             [512, 256, 1, 1]              \n",
            " 11                  -1  1         0  torch.nn.modules.upsampling.Upsample         [None, 2, 'nearest']          \n",
            " 12             [-1, 6]  1         0  ultralytics.nn.modules.conv.Concat           [1]                           \n",
            " 13                  -1  1    361984  ultralytics.nn.modules.block.C3              [512, 256, 1, False]          \n",
            " 14                  -1  1     33024  ultralytics.nn.modules.conv.Conv             [256, 128, 1, 1]              \n",
            " 15                  -1  1         0  torch.nn.modules.upsampling.Upsample         [None, 2, 'nearest']          \n",
            " 16             [-1, 4]  1         0  ultralytics.nn.modules.conv.Concat           [1]                           \n",
            " 17                  -1  1     90880  ultralytics.nn.modules.block.C3              [256, 128, 1, False]          \n",
            " 18                  -1  1    147712  ultralytics.nn.modules.conv.Conv             [128, 128, 3, 2]              \n",
            " 19            [-1, 14]  1         0  ultralytics.nn.modules.conv.Concat           [1]                           \n",
            " 20                  -1  1    296448  ultralytics.nn.modules.block.C3              [256, 256, 1, False]          \n",
            " 21                  -1  1    590336  ultralytics.nn.modules.conv.Conv             [256, 256, 3, 2]              \n",
            " 22            [-1, 10]  1         0  ultralytics.nn.modules.conv.Concat           [1]                           \n",
            " 23                  -1  1   1182720  ultralytics.nn.modules.block.C3              [512, 512, 1, False]          \n",
            " 24        [17, 20, 23]  1   2116435  ultralytics.nn.modules.head.Detect           [1, [128, 256, 512]]          \n",
            "YOLOv5s summary: 153 layers, 9,122,579 parameters, 9,122,563 gradients, 24.0 GFLOPs\n",
            "\n",
            "Transferred 427/427 items from pretrained weights\n",
            "\u001b[34m\u001b[1mTensorBoard: \u001b[0mStart with 'tensorboard --logdir runs/detect/train3', view at http://localhost:6006/\n",
            "Freezing layer 'model.0.conv.weight'\n",
            "Freezing layer 'model.0.bn.weight'\n",
            "Freezing layer 'model.0.bn.bias'\n",
            "Freezing layer 'model.1.conv.weight'\n",
            "Freezing layer 'model.1.bn.weight'\n",
            "Freezing layer 'model.1.bn.bias'\n",
            "Freezing layer 'model.2.cv1.conv.weight'\n",
            "Freezing layer 'model.2.cv1.bn.weight'\n",
            "Freezing layer 'model.2.cv1.bn.bias'\n",
            "Freezing layer 'model.2.cv2.conv.weight'\n",
            "Freezing layer 'model.2.cv2.bn.weight'\n",
            "Freezing layer 'model.2.cv2.bn.bias'\n",
            "Freezing layer 'model.2.cv3.conv.weight'\n",
            "Freezing layer 'model.2.cv3.bn.weight'\n",
            "Freezing layer 'model.2.cv3.bn.bias'\n",
            "Freezing layer 'model.2.m.0.cv1.conv.weight'\n",
            "Freezing layer 'model.2.m.0.cv1.bn.weight'\n",
            "Freezing layer 'model.2.m.0.cv1.bn.bias'\n",
            "Freezing layer 'model.2.m.0.cv2.conv.weight'\n",
            "Freezing layer 'model.2.m.0.cv2.bn.weight'\n",
            "Freezing layer 'model.2.m.0.cv2.bn.bias'\n",
            "Freezing layer 'model.3.conv.weight'\n",
            "Freezing layer 'model.3.bn.weight'\n",
            "Freezing layer 'model.3.bn.bias'\n",
            "Freezing layer 'model.4.cv1.conv.weight'\n",
            "Freezing layer 'model.4.cv1.bn.weight'\n",
            "Freezing layer 'model.4.cv1.bn.bias'\n",
            "Freezing layer 'model.4.cv2.conv.weight'\n",
            "Freezing layer 'model.4.cv2.bn.weight'\n",
            "Freezing layer 'model.4.cv2.bn.bias'\n",
            "Freezing layer 'model.4.cv3.conv.weight'\n",
            "Freezing layer 'model.4.cv3.bn.weight'\n",
            "Freezing layer 'model.4.cv3.bn.bias'\n",
            "Freezing layer 'model.4.m.0.cv1.conv.weight'\n",
            "Freezing layer 'model.4.m.0.cv1.bn.weight'\n",
            "Freezing layer 'model.4.m.0.cv1.bn.bias'\n",
            "Freezing layer 'model.4.m.0.cv2.conv.weight'\n",
            "Freezing layer 'model.4.m.0.cv2.bn.weight'\n",
            "Freezing layer 'model.4.m.0.cv2.bn.bias'\n",
            "Freezing layer 'model.4.m.1.cv1.conv.weight'\n",
            "Freezing layer 'model.4.m.1.cv1.bn.weight'\n",
            "Freezing layer 'model.4.m.1.cv1.bn.bias'\n",
            "Freezing layer 'model.4.m.1.cv2.conv.weight'\n",
            "Freezing layer 'model.4.m.1.cv2.bn.weight'\n",
            "Freezing layer 'model.4.m.1.cv2.bn.bias'\n",
            "Freezing layer 'model.5.conv.weight'\n",
            "Freezing layer 'model.5.bn.weight'\n",
            "Freezing layer 'model.5.bn.bias'\n",
            "Freezing layer 'model.6.cv1.conv.weight'\n",
            "Freezing layer 'model.6.cv1.bn.weight'\n",
            "Freezing layer 'model.6.cv1.bn.bias'\n",
            "Freezing layer 'model.6.cv2.conv.weight'\n",
            "Freezing layer 'model.6.cv2.bn.weight'\n",
            "Freezing layer 'model.6.cv2.bn.bias'\n",
            "Freezing layer 'model.6.cv3.conv.weight'\n",
            "Freezing layer 'model.6.cv3.bn.weight'\n",
            "Freezing layer 'model.6.cv3.bn.bias'\n",
            "Freezing layer 'model.6.m.0.cv1.conv.weight'\n",
            "Freezing layer 'model.6.m.0.cv1.bn.weight'\n",
            "Freezing layer 'model.6.m.0.cv1.bn.bias'\n",
            "Freezing layer 'model.6.m.0.cv2.conv.weight'\n",
            "Freezing layer 'model.6.m.0.cv2.bn.weight'\n",
            "Freezing layer 'model.6.m.0.cv2.bn.bias'\n",
            "Freezing layer 'model.6.m.1.cv1.conv.weight'\n",
            "Freezing layer 'model.6.m.1.cv1.bn.weight'\n",
            "Freezing layer 'model.6.m.1.cv1.bn.bias'\n",
            "Freezing layer 'model.6.m.1.cv2.conv.weight'\n",
            "Freezing layer 'model.6.m.1.cv2.bn.weight'\n",
            "Freezing layer 'model.6.m.1.cv2.bn.bias'\n",
            "Freezing layer 'model.6.m.2.cv1.conv.weight'\n",
            "Freezing layer 'model.6.m.2.cv1.bn.weight'\n",
            "Freezing layer 'model.6.m.2.cv1.bn.bias'\n",
            "Freezing layer 'model.6.m.2.cv2.conv.weight'\n",
            "Freezing layer 'model.6.m.2.cv2.bn.weight'\n",
            "Freezing layer 'model.6.m.2.cv2.bn.bias'\n",
            "Freezing layer 'model.7.conv.weight'\n",
            "Freezing layer 'model.7.bn.weight'\n",
            "Freezing layer 'model.7.bn.bias'\n",
            "Freezing layer 'model.8.cv1.conv.weight'\n",
            "Freezing layer 'model.8.cv1.bn.weight'\n",
            "Freezing layer 'model.8.cv1.bn.bias'\n",
            "Freezing layer 'model.8.cv2.conv.weight'\n",
            "Freezing layer 'model.8.cv2.bn.weight'\n",
            "Freezing layer 'model.8.cv2.bn.bias'\n",
            "Freezing layer 'model.8.cv3.conv.weight'\n",
            "Freezing layer 'model.8.cv3.bn.weight'\n",
            "Freezing layer 'model.8.cv3.bn.bias'\n",
            "Freezing layer 'model.8.m.0.cv1.conv.weight'\n",
            "Freezing layer 'model.8.m.0.cv1.bn.weight'\n",
            "Freezing layer 'model.8.m.0.cv1.bn.bias'\n",
            "Freezing layer 'model.8.m.0.cv2.conv.weight'\n",
            "Freezing layer 'model.8.m.0.cv2.bn.weight'\n",
            "Freezing layer 'model.8.m.0.cv2.bn.bias'\n",
            "Freezing layer 'model.9.cv1.conv.weight'\n",
            "Freezing layer 'model.9.cv1.bn.weight'\n",
            "Freezing layer 'model.9.cv1.bn.bias'\n",
            "Freezing layer 'model.9.cv2.conv.weight'\n",
            "Freezing layer 'model.9.cv2.bn.weight'\n",
            "Freezing layer 'model.9.cv2.bn.bias'\n",
            "Freezing layer 'model.24.dfl.conv.weight'\n",
            "\u001b[34m\u001b[1mAMP: \u001b[0mrunning Automatic Mixed Precision (AMP) checks...\n",
            "\u001b[34m\u001b[1mAMP: \u001b[0mchecks passed ✅\n"
          ]
        },
        {
          "name": "stderr",
          "output_type": "stream",
          "text": [
            "\u001b[34m\u001b[1mtrain: \u001b[0mScanning /content/datasets/samochody/labels/train.cache... 355 images, 646 backgrounds, 0 corrupt: 100%|██████████| 1001/1001 [00:00<?, ?it/s]"
          ]
        },
        {
          "name": "stdout",
          "output_type": "stream",
          "text": [
            "\u001b[34m\u001b[1malbumentations: \u001b[0mBlur(p=0.01, blur_limit=(3, 7)), MedianBlur(p=0.01, blur_limit=(3, 7)), ToGray(p=0.01, num_output_channels=3, method='weighted_average'), CLAHE(p=0.01, clip_limit=(1.0, 4.0), tile_grid_size=(8, 8))\n"
          ]
        },
        {
          "name": "stderr",
          "output_type": "stream",
          "text": [
            "\n",
            "\u001b[34m\u001b[1mval: \u001b[0mScanning /content/datasets/samochody/labels/test.cache... 175 images, 83 backgrounds, 0 corrupt: 100%|██████████| 175/175 [00:00<?, ?it/s]\n"
          ]
        },
        {
          "name": "stdout",
          "output_type": "stream",
          "text": [
            "Plotting labels to runs/detect/train3/labels.jpg... \n",
            "\u001b[34m\u001b[1moptimizer:\u001b[0m 'optimizer=auto' found, ignoring 'lr0=0.01' and 'momentum=0.937' and determining best 'optimizer', 'lr0' and 'momentum' automatically... \n",
            "\u001b[34m\u001b[1moptimizer:\u001b[0m AdamW(lr=0.002, momentum=0.9) with parameter groups 69 weight(decay=0.0), 76 weight(decay=0.0005), 75 bias(decay=0.0)\n",
            "\u001b[34m\u001b[1mTensorBoard: \u001b[0mmodel graph visualization added ✅\n",
            "Image sizes 640 train, 640 val\n",
            "Using 2 dataloader workers\n",
            "Logging results to \u001b[1mruns/detect/train3\u001b[0m\n",
            "Starting training for 100 epochs...\n",
            "\n",
            "      Epoch    GPU_mem   box_loss   cls_loss   dfl_loss  Instances       Size\n"
          ]
        },
        {
          "name": "stderr",
          "output_type": "stream",
          "text": [
            "      1/100      2.29G      1.232     0.7539      1.225         17        640: 100%|██████████| 63/63 [00:21<00:00,  2.97it/s]\n",
            "                 Class     Images  Instances      Box(P          R      mAP50  mAP50-95): 100%|██████████| 6/6 [00:01<00:00,  3.99it/s]"
          ]
        },
        {
          "name": "stdout",
          "output_type": "stream",
          "text": [
            "                   all        175        156       0.93      0.767      0.843      0.304\n"
          ]
        },
        {
          "name": "stderr",
          "output_type": "stream",
          "text": [
            "\n"
          ]
        },
        {
          "name": "stdout",
          "output_type": "stream",
          "text": [
            "\n",
            "      Epoch    GPU_mem   box_loss   cls_loss   dfl_loss  Instances       Size\n"
          ]
        },
        {
          "name": "stderr",
          "output_type": "stream",
          "text": [
            "      2/100      2.47G      1.216     0.7532      1.207         15        640: 100%|██████████| 63/63 [00:19<00:00,  3.21it/s]\n",
            "                 Class     Images  Instances      Box(P          R      mAP50  mAP50-95): 100%|██████████| 6/6 [00:01<00:00,  3.97it/s]"
          ]
        },
        {
          "name": "stdout",
          "output_type": "stream",
          "text": [
            "                   all        175        156      0.896      0.731      0.783      0.204\n"
          ]
        },
        {
          "name": "stderr",
          "output_type": "stream",
          "text": [
            "\n"
          ]
        },
        {
          "name": "stdout",
          "output_type": "stream",
          "text": [
            "\n",
            "      Epoch    GPU_mem   box_loss   cls_loss   dfl_loss  Instances       Size\n"
          ]
        },
        {
          "name": "stderr",
          "output_type": "stream",
          "text": [
            "      3/100      2.47G      1.314     0.8508       1.27         10        640: 100%|██████████| 63/63 [00:18<00:00,  3.42it/s]\n",
            "                 Class     Images  Instances      Box(P          R      mAP50  mAP50-95): 100%|██████████| 6/6 [00:01<00:00,  4.04it/s]"
          ]
        },
        {
          "name": "stdout",
          "output_type": "stream",
          "text": [
            "                   all        175        156       0.92      0.776       0.83      0.288\n"
          ]
        },
        {
          "name": "stderr",
          "output_type": "stream",
          "text": [
            "\n"
          ]
        },
        {
          "name": "stdout",
          "output_type": "stream",
          "text": [
            "\n",
            "      Epoch    GPU_mem   box_loss   cls_loss   dfl_loss  Instances       Size\n"
          ]
        },
        {
          "name": "stderr",
          "output_type": "stream",
          "text": [
            "      4/100      2.47G      1.235     0.7705      1.215          8        640: 100%|██████████| 63/63 [00:19<00:00,  3.23it/s]\n",
            "                 Class     Images  Instances      Box(P          R      mAP50  mAP50-95): 100%|██████████| 6/6 [00:01<00:00,  4.27it/s]"
          ]
        },
        {
          "name": "stdout",
          "output_type": "stream",
          "text": [
            "                   all        175        156      0.905       0.75      0.815      0.258\n"
          ]
        },
        {
          "name": "stderr",
          "output_type": "stream",
          "text": [
            "\n"
          ]
        },
        {
          "name": "stdout",
          "output_type": "stream",
          "text": [
            "\n",
            "      Epoch    GPU_mem   box_loss   cls_loss   dfl_loss  Instances       Size\n"
          ]
        },
        {
          "name": "stderr",
          "output_type": "stream",
          "text": [
            "      5/100      2.47G      1.231     0.7837      1.212          7        640: 100%|██████████| 63/63 [00:18<00:00,  3.50it/s]\n",
            "                 Class     Images  Instances      Box(P          R      mAP50  mAP50-95): 100%|██████████| 6/6 [00:02<00:00,  2.46it/s]"
          ]
        },
        {
          "name": "stdout",
          "output_type": "stream",
          "text": [
            "                   all        175        156      0.904      0.724      0.794      0.223\n"
          ]
        },
        {
          "name": "stderr",
          "output_type": "stream",
          "text": [
            "\n"
          ]
        },
        {
          "name": "stdout",
          "output_type": "stream",
          "text": [
            "\n",
            "      Epoch    GPU_mem   box_loss   cls_loss   dfl_loss  Instances       Size\n"
          ]
        },
        {
          "name": "stderr",
          "output_type": "stream",
          "text": [
            "      6/100      2.47G      1.249     0.7913      1.219         14        640: 100%|██████████| 63/63 [00:18<00:00,  3.49it/s]\n",
            "                 Class     Images  Instances      Box(P          R      mAP50  mAP50-95): 100%|██████████| 6/6 [00:01<00:00,  4.35it/s]"
          ]
        },
        {
          "name": "stdout",
          "output_type": "stream",
          "text": [
            "                   all        175        156      0.915      0.744      0.785      0.221\n"
          ]
        },
        {
          "name": "stderr",
          "output_type": "stream",
          "text": [
            "\n"
          ]
        },
        {
          "name": "stdout",
          "output_type": "stream",
          "text": [
            "\n",
            "      Epoch    GPU_mem   box_loss   cls_loss   dfl_loss  Instances       Size\n"
          ]
        },
        {
          "name": "stderr",
          "output_type": "stream",
          "text": [
            "      7/100      2.47G       1.21     0.7478       1.21          7        640: 100%|██████████| 63/63 [00:19<00:00,  3.26it/s]\n",
            "                 Class     Images  Instances      Box(P          R      mAP50  mAP50-95): 100%|██████████| 6/6 [00:01<00:00,  3.74it/s]"
          ]
        },
        {
          "name": "stdout",
          "output_type": "stream",
          "text": [
            "                   all        175        156      0.905      0.737      0.781      0.199\n"
          ]
        },
        {
          "name": "stderr",
          "output_type": "stream",
          "text": [
            "\n"
          ]
        },
        {
          "name": "stdout",
          "output_type": "stream",
          "text": [
            "\n",
            "      Epoch    GPU_mem   box_loss   cls_loss   dfl_loss  Instances       Size\n"
          ]
        },
        {
          "name": "stderr",
          "output_type": "stream",
          "text": [
            "      8/100      2.47G      1.198     0.7412      1.192         11        640: 100%|██████████| 63/63 [00:18<00:00,  3.47it/s]\n",
            "                 Class     Images  Instances      Box(P          R      mAP50  mAP50-95): 100%|██████████| 6/6 [00:01<00:00,  4.22it/s]"
          ]
        },
        {
          "name": "stdout",
          "output_type": "stream",
          "text": [
            "                   all        175        156      0.964      0.821      0.873      0.279\n"
          ]
        },
        {
          "name": "stderr",
          "output_type": "stream",
          "text": [
            "\n"
          ]
        },
        {
          "name": "stdout",
          "output_type": "stream",
          "text": [
            "\n",
            "      Epoch    GPU_mem   box_loss   cls_loss   dfl_loss  Instances       Size\n"
          ]
        },
        {
          "name": "stderr",
          "output_type": "stream",
          "text": [
            "      9/100      2.47G      1.207     0.7616      1.203         11        640: 100%|██████████| 63/63 [00:18<00:00,  3.39it/s]\n",
            "                 Class     Images  Instances      Box(P          R      mAP50  mAP50-95): 100%|██████████| 6/6 [00:01<00:00,  4.19it/s]"
          ]
        },
        {
          "name": "stdout",
          "output_type": "stream",
          "text": [
            "                   all        175        156      0.898      0.782      0.818      0.269\n"
          ]
        },
        {
          "name": "stderr",
          "output_type": "stream",
          "text": [
            "\n"
          ]
        },
        {
          "name": "stdout",
          "output_type": "stream",
          "text": [
            "\n",
            "      Epoch    GPU_mem   box_loss   cls_loss   dfl_loss  Instances       Size\n"
          ]
        },
        {
          "name": "stderr",
          "output_type": "stream",
          "text": [
            "     10/100      2.47G      1.199     0.7397      1.183         10        640: 100%|██████████| 63/63 [00:18<00:00,  3.48it/s]\n",
            "                 Class     Images  Instances      Box(P          R      mAP50  mAP50-95): 100%|██████████| 6/6 [00:02<00:00,  2.88it/s]"
          ]
        },
        {
          "name": "stdout",
          "output_type": "stream",
          "text": [
            "                   all        175        156      0.845      0.732      0.772      0.181\n"
          ]
        },
        {
          "name": "stderr",
          "output_type": "stream",
          "text": [
            "\n"
          ]
        },
        {
          "name": "stdout",
          "output_type": "stream",
          "text": [
            "\n",
            "      Epoch    GPU_mem   box_loss   cls_loss   dfl_loss  Instances       Size\n"
          ]
        },
        {
          "name": "stderr",
          "output_type": "stream",
          "text": [
            "     11/100      2.47G       1.24     0.7537      1.219         12        640: 100%|██████████| 63/63 [00:18<00:00,  3.44it/s]\n",
            "                 Class     Images  Instances      Box(P          R      mAP50  mAP50-95): 100%|██████████| 6/6 [00:01<00:00,  4.25it/s]"
          ]
        },
        {
          "name": "stdout",
          "output_type": "stream",
          "text": [
            "                   all        175        156      0.899      0.746      0.803      0.237\n"
          ]
        },
        {
          "name": "stderr",
          "output_type": "stream",
          "text": [
            "\n"
          ]
        },
        {
          "name": "stdout",
          "output_type": "stream",
          "text": [
            "\n",
            "      Epoch    GPU_mem   box_loss   cls_loss   dfl_loss  Instances       Size\n"
          ]
        },
        {
          "name": "stderr",
          "output_type": "stream",
          "text": [
            "     12/100      2.47G      1.225     0.7619       1.24         15        640: 100%|██████████| 63/63 [00:19<00:00,  3.31it/s]\n",
            "                 Class     Images  Instances      Box(P          R      mAP50  mAP50-95): 100%|██████████| 6/6 [00:01<00:00,  3.81it/s]"
          ]
        },
        {
          "name": "stdout",
          "output_type": "stream",
          "text": [
            "                   all        175        156      0.919      0.763      0.831      0.262\n"
          ]
        },
        {
          "name": "stderr",
          "output_type": "stream",
          "text": [
            "\n"
          ]
        },
        {
          "name": "stdout",
          "output_type": "stream",
          "text": [
            "\n",
            "      Epoch    GPU_mem   box_loss   cls_loss   dfl_loss  Instances       Size\n"
          ]
        },
        {
          "name": "stderr",
          "output_type": "stream",
          "text": [
            "     13/100      2.47G      1.193     0.7248      1.188         19        640: 100%|██████████| 63/63 [00:18<00:00,  3.44it/s]\n",
            "                 Class     Images  Instances      Box(P          R      mAP50  mAP50-95): 100%|██████████| 6/6 [00:01<00:00,  4.30it/s]"
          ]
        },
        {
          "name": "stdout",
          "output_type": "stream",
          "text": [
            "                   all        175        156      0.964      0.769      0.855      0.307\n"
          ]
        },
        {
          "name": "stderr",
          "output_type": "stream",
          "text": [
            "\n"
          ]
        },
        {
          "name": "stdout",
          "output_type": "stream",
          "text": [
            "\n",
            "      Epoch    GPU_mem   box_loss   cls_loss   dfl_loss  Instances       Size\n"
          ]
        },
        {
          "name": "stderr",
          "output_type": "stream",
          "text": [
            "     14/100      2.47G      1.197     0.7452        1.2         19        640: 100%|██████████| 63/63 [00:19<00:00,  3.29it/s]\n",
            "                 Class     Images  Instances      Box(P          R      mAP50  mAP50-95): 100%|██████████| 6/6 [00:01<00:00,  4.03it/s]"
          ]
        },
        {
          "name": "stdout",
          "output_type": "stream",
          "text": [
            "                   all        175        156      0.921      0.731        0.8      0.233\n"
          ]
        },
        {
          "name": "stderr",
          "output_type": "stream",
          "text": [
            "\n"
          ]
        },
        {
          "name": "stdout",
          "output_type": "stream",
          "text": [
            "\n",
            "      Epoch    GPU_mem   box_loss   cls_loss   dfl_loss  Instances       Size\n"
          ]
        },
        {
          "name": "stderr",
          "output_type": "stream",
          "text": [
            "     15/100      2.47G      1.218     0.7424        1.2          2        640: 100%|██████████| 63/63 [00:18<00:00,  3.50it/s]\n",
            "                 Class     Images  Instances      Box(P          R      mAP50  mAP50-95): 100%|██████████| 6/6 [00:02<00:00,  2.48it/s]"
          ]
        },
        {
          "name": "stdout",
          "output_type": "stream",
          "text": [
            "                   all        175        156      0.939       0.79      0.848      0.324\n"
          ]
        },
        {
          "name": "stderr",
          "output_type": "stream",
          "text": [
            "\n"
          ]
        },
        {
          "name": "stdout",
          "output_type": "stream",
          "text": [
            "\n",
            "      Epoch    GPU_mem   box_loss   cls_loss   dfl_loss  Instances       Size\n"
          ]
        },
        {
          "name": "stderr",
          "output_type": "stream",
          "text": [
            "     16/100      2.47G      1.198     0.7366      1.185          8        640: 100%|██████████| 63/63 [00:18<00:00,  3.45it/s]\n",
            "                 Class     Images  Instances      Box(P          R      mAP50  mAP50-95): 100%|██████████| 6/6 [00:01<00:00,  3.66it/s]"
          ]
        },
        {
          "name": "stdout",
          "output_type": "stream",
          "text": [
            "                   all        175        156      0.933      0.801      0.843      0.225\n"
          ]
        },
        {
          "name": "stderr",
          "output_type": "stream",
          "text": [
            "\n"
          ]
        },
        {
          "name": "stdout",
          "output_type": "stream",
          "text": [
            "\n",
            "      Epoch    GPU_mem   box_loss   cls_loss   dfl_loss  Instances       Size\n"
          ]
        },
        {
          "name": "stderr",
          "output_type": "stream",
          "text": [
            "     17/100      2.47G       1.18     0.7188      1.185         14        640: 100%|██████████| 63/63 [00:19<00:00,  3.25it/s]\n",
            "                 Class     Images  Instances      Box(P          R      mAP50  mAP50-95): 100%|██████████| 6/6 [00:01<00:00,  4.10it/s]"
          ]
        },
        {
          "name": "stdout",
          "output_type": "stream",
          "text": [
            "                   all        175        156      0.898      0.814      0.859      0.282\n"
          ]
        },
        {
          "name": "stderr",
          "output_type": "stream",
          "text": [
            "\n"
          ]
        },
        {
          "name": "stdout",
          "output_type": "stream",
          "text": [
            "\n",
            "      Epoch    GPU_mem   box_loss   cls_loss   dfl_loss  Instances       Size\n"
          ]
        },
        {
          "name": "stderr",
          "output_type": "stream",
          "text": [
            "     18/100      2.47G      1.179     0.7322      1.193         10        640: 100%|██████████| 63/63 [00:17<00:00,  3.57it/s]\n",
            "                 Class     Images  Instances      Box(P          R      mAP50  mAP50-95): 100%|██████████| 6/6 [00:01<00:00,  4.11it/s]"
          ]
        },
        {
          "name": "stdout",
          "output_type": "stream",
          "text": [
            "                   all        175        156      0.873      0.795      0.839      0.286\n"
          ]
        },
        {
          "name": "stderr",
          "output_type": "stream",
          "text": [
            "\n"
          ]
        },
        {
          "name": "stdout",
          "output_type": "stream",
          "text": [
            "\n",
            "      Epoch    GPU_mem   box_loss   cls_loss   dfl_loss  Instances       Size\n"
          ]
        },
        {
          "name": "stderr",
          "output_type": "stream",
          "text": [
            "     19/100      2.47G      1.182     0.6939      1.191         11        640: 100%|██████████| 63/63 [00:18<00:00,  3.35it/s]\n",
            "                 Class     Images  Instances      Box(P          R      mAP50  mAP50-95): 100%|██████████| 6/6 [00:01<00:00,  3.91it/s]"
          ]
        },
        {
          "name": "stdout",
          "output_type": "stream",
          "text": [
            "                   all        175        156      0.961       0.79      0.871      0.316\n"
          ]
        },
        {
          "name": "stderr",
          "output_type": "stream",
          "text": [
            "\n"
          ]
        },
        {
          "name": "stdout",
          "output_type": "stream",
          "text": [
            "\n",
            "      Epoch    GPU_mem   box_loss   cls_loss   dfl_loss  Instances       Size\n"
          ]
        },
        {
          "name": "stderr",
          "output_type": "stream",
          "text": [
            "     20/100      2.47G      1.194     0.7209      1.186          6        640: 100%|██████████| 63/63 [00:18<00:00,  3.34it/s]\n",
            "                 Class     Images  Instances      Box(P          R      mAP50  mAP50-95): 100%|██████████| 6/6 [00:01<00:00,  3.49it/s]"
          ]
        },
        {
          "name": "stdout",
          "output_type": "stream",
          "text": [
            "                   all        175        156      0.911      0.821      0.871      0.329\n"
          ]
        },
        {
          "name": "stderr",
          "output_type": "stream",
          "text": [
            "\n"
          ]
        },
        {
          "name": "stdout",
          "output_type": "stream",
          "text": [
            "\n",
            "      Epoch    GPU_mem   box_loss   cls_loss   dfl_loss  Instances       Size\n"
          ]
        },
        {
          "name": "stderr",
          "output_type": "stream",
          "text": [
            "     21/100      2.47G      1.207     0.7347        1.2          9        640: 100%|██████████| 63/63 [00:18<00:00,  3.49it/s]\n",
            "                 Class     Images  Instances      Box(P          R      mAP50  mAP50-95): 100%|██████████| 6/6 [00:01<00:00,  4.26it/s]"
          ]
        },
        {
          "name": "stdout",
          "output_type": "stream",
          "text": [
            "                   all        175        156      0.934      0.705      0.791      0.208\n"
          ]
        },
        {
          "name": "stderr",
          "output_type": "stream",
          "text": [
            "\n"
          ]
        },
        {
          "name": "stdout",
          "output_type": "stream",
          "text": [
            "\n",
            "      Epoch    GPU_mem   box_loss   cls_loss   dfl_loss  Instances       Size\n"
          ]
        },
        {
          "name": "stderr",
          "output_type": "stream",
          "text": [
            "     22/100      2.47G      1.147      0.672      1.161          9        640: 100%|██████████| 63/63 [00:18<00:00,  3.32it/s]\n",
            "                 Class     Images  Instances      Box(P          R      mAP50  mAP50-95): 100%|██████████| 6/6 [00:01<00:00,  4.18it/s]"
          ]
        },
        {
          "name": "stdout",
          "output_type": "stream",
          "text": [
            "                   all        175        156      0.914      0.754      0.813      0.212\n"
          ]
        },
        {
          "name": "stderr",
          "output_type": "stream",
          "text": [
            "\n"
          ]
        },
        {
          "name": "stdout",
          "output_type": "stream",
          "text": [
            "\n",
            "      Epoch    GPU_mem   box_loss   cls_loss   dfl_loss  Instances       Size\n"
          ]
        },
        {
          "name": "stderr",
          "output_type": "stream",
          "text": [
            "     23/100      2.47G      1.158     0.6712      1.168         13        640: 100%|██████████| 63/63 [00:18<00:00,  3.43it/s]\n",
            "                 Class     Images  Instances      Box(P          R      mAP50  mAP50-95): 100%|██████████| 6/6 [00:01<00:00,  3.91it/s]"
          ]
        },
        {
          "name": "stdout",
          "output_type": "stream",
          "text": [
            "                   all        175        156      0.923      0.765       0.83       0.27\n"
          ]
        },
        {
          "name": "stderr",
          "output_type": "stream",
          "text": [
            "\n"
          ]
        },
        {
          "name": "stdout",
          "output_type": "stream",
          "text": [
            "\n",
            "      Epoch    GPU_mem   box_loss   cls_loss   dfl_loss  Instances       Size\n"
          ]
        },
        {
          "name": "stderr",
          "output_type": "stream",
          "text": [
            "     24/100      2.47G      1.206      0.734       1.18          8        640: 100%|██████████| 63/63 [00:18<00:00,  3.34it/s]\n",
            "                 Class     Images  Instances      Box(P          R      mAP50  mAP50-95): 100%|██████████| 6/6 [00:01<00:00,  4.17it/s]"
          ]
        },
        {
          "name": "stdout",
          "output_type": "stream",
          "text": [
            "                   all        175        156      0.895      0.767      0.813      0.254\n"
          ]
        },
        {
          "name": "stderr",
          "output_type": "stream",
          "text": [
            "\n"
          ]
        },
        {
          "name": "stdout",
          "output_type": "stream",
          "text": [
            "\n",
            "      Epoch    GPU_mem   box_loss   cls_loss   dfl_loss  Instances       Size\n"
          ]
        },
        {
          "name": "stderr",
          "output_type": "stream",
          "text": [
            "     25/100      2.47G      1.164     0.6879      1.158         11        640: 100%|██████████| 63/63 [00:18<00:00,  3.34it/s]\n",
            "                 Class     Images  Instances      Box(P          R      mAP50  mAP50-95): 100%|██████████| 6/6 [00:01<00:00,  4.19it/s]"
          ]
        },
        {
          "name": "stdout",
          "output_type": "stream",
          "text": [
            "                   all        175        156      0.955      0.763      0.849      0.345\n"
          ]
        },
        {
          "name": "stderr",
          "output_type": "stream",
          "text": [
            "\n"
          ]
        },
        {
          "name": "stdout",
          "output_type": "stream",
          "text": [
            "\n",
            "      Epoch    GPU_mem   box_loss   cls_loss   dfl_loss  Instances       Size\n"
          ]
        },
        {
          "name": "stderr",
          "output_type": "stream",
          "text": [
            "     26/100      2.47G      1.182     0.6706      1.177          6        640: 100%|██████████| 63/63 [00:17<00:00,  3.53it/s]\n",
            "                 Class     Images  Instances      Box(P          R      mAP50  mAP50-95): 100%|██████████| 6/6 [00:01<00:00,  4.58it/s]"
          ]
        },
        {
          "name": "stdout",
          "output_type": "stream",
          "text": [
            "                   all        175        156      0.879      0.737      0.795      0.226\n"
          ]
        },
        {
          "name": "stderr",
          "output_type": "stream",
          "text": [
            "\n"
          ]
        },
        {
          "name": "stdout",
          "output_type": "stream",
          "text": [
            "\n",
            "      Epoch    GPU_mem   box_loss   cls_loss   dfl_loss  Instances       Size\n"
          ]
        },
        {
          "name": "stderr",
          "output_type": "stream",
          "text": [
            "     27/100      2.47G      1.201     0.6824      1.196         18        640: 100%|██████████| 63/63 [00:19<00:00,  3.29it/s]\n",
            "                 Class     Images  Instances      Box(P          R      mAP50  mAP50-95): 100%|██████████| 6/6 [00:01<00:00,  3.62it/s]"
          ]
        },
        {
          "name": "stdout",
          "output_type": "stream",
          "text": [
            "                   all        175        156      0.916      0.766      0.837      0.318\n"
          ]
        },
        {
          "name": "stderr",
          "output_type": "stream",
          "text": [
            "\n"
          ]
        },
        {
          "name": "stdout",
          "output_type": "stream",
          "text": [
            "\n",
            "      Epoch    GPU_mem   box_loss   cls_loss   dfl_loss  Instances       Size\n"
          ]
        },
        {
          "name": "stderr",
          "output_type": "stream",
          "text": [
            "     28/100      2.47G      1.197      0.719      1.192         11        640: 100%|██████████| 63/63 [00:18<00:00,  3.47it/s]\n",
            "                 Class     Images  Instances      Box(P          R      mAP50  mAP50-95): 100%|██████████| 6/6 [00:01<00:00,  4.50it/s]"
          ]
        },
        {
          "name": "stdout",
          "output_type": "stream",
          "text": [
            "                   all        175        156      0.947      0.724      0.801      0.255\n"
          ]
        },
        {
          "name": "stderr",
          "output_type": "stream",
          "text": [
            "\n"
          ]
        },
        {
          "name": "stdout",
          "output_type": "stream",
          "text": [
            "\n",
            "      Epoch    GPU_mem   box_loss   cls_loss   dfl_loss  Instances       Size\n"
          ]
        },
        {
          "name": "stderr",
          "output_type": "stream",
          "text": [
            "     29/100      2.47G      1.195       0.75      1.188         12        640: 100%|██████████| 63/63 [00:18<00:00,  3.39it/s]\n",
            "                 Class     Images  Instances      Box(P          R      mAP50  mAP50-95): 100%|██████████| 6/6 [00:01<00:00,  3.82it/s]"
          ]
        },
        {
          "name": "stdout",
          "output_type": "stream",
          "text": [
            "                   all        175        156      0.974      0.788      0.892      0.371\n"
          ]
        },
        {
          "name": "stderr",
          "output_type": "stream",
          "text": [
            "\n"
          ]
        },
        {
          "name": "stdout",
          "output_type": "stream",
          "text": [
            "\n",
            "      Epoch    GPU_mem   box_loss   cls_loss   dfl_loss  Instances       Size\n"
          ]
        },
        {
          "name": "stderr",
          "output_type": "stream",
          "text": [
            "     30/100      2.47G      1.211     0.7251      1.206          7        640: 100%|██████████| 63/63 [00:18<00:00,  3.38it/s]\n",
            "                 Class     Images  Instances      Box(P          R      mAP50  mAP50-95): 100%|██████████| 6/6 [00:01<00:00,  3.21it/s]"
          ]
        },
        {
          "name": "stdout",
          "output_type": "stream",
          "text": [
            "                   all        175        156      0.935      0.739      0.812       0.24\n"
          ]
        },
        {
          "name": "stderr",
          "output_type": "stream",
          "text": [
            "\n"
          ]
        },
        {
          "name": "stdout",
          "output_type": "stream",
          "text": [
            "\n",
            "      Epoch    GPU_mem   box_loss   cls_loss   dfl_loss  Instances       Size\n"
          ]
        },
        {
          "name": "stderr",
          "output_type": "stream",
          "text": [
            "     31/100      2.47G      1.162     0.6796      1.175         18        640: 100%|██████████| 63/63 [00:17<00:00,  3.52it/s]\n",
            "                 Class     Images  Instances      Box(P          R      mAP50  mAP50-95): 100%|██████████| 6/6 [00:01<00:00,  4.12it/s]"
          ]
        },
        {
          "name": "stdout",
          "output_type": "stream",
          "text": [
            "                   all        175        156      0.916      0.776       0.85      0.302\n"
          ]
        },
        {
          "name": "stderr",
          "output_type": "stream",
          "text": [
            "\n"
          ]
        },
        {
          "name": "stdout",
          "output_type": "stream",
          "text": [
            "\n",
            "      Epoch    GPU_mem   box_loss   cls_loss   dfl_loss  Instances       Size\n"
          ]
        },
        {
          "name": "stderr",
          "output_type": "stream",
          "text": [
            "     32/100      2.47G      1.164      0.713      1.174         13        640: 100%|██████████| 63/63 [00:19<00:00,  3.25it/s]\n",
            "                 Class     Images  Instances      Box(P          R      mAP50  mAP50-95): 100%|██████████| 6/6 [00:01<00:00,  4.33it/s]"
          ]
        },
        {
          "name": "stdout",
          "output_type": "stream",
          "text": [
            "                   all        175        156      0.938      0.718      0.799      0.211\n"
          ]
        },
        {
          "name": "stderr",
          "output_type": "stream",
          "text": [
            "\n"
          ]
        },
        {
          "name": "stdout",
          "output_type": "stream",
          "text": [
            "\n",
            "      Epoch    GPU_mem   box_loss   cls_loss   dfl_loss  Instances       Size\n"
          ]
        },
        {
          "name": "stderr",
          "output_type": "stream",
          "text": [
            "     33/100      2.47G      1.214     0.7265      1.195         11        640: 100%|██████████| 63/63 [00:18<00:00,  3.42it/s]\n",
            "                 Class     Images  Instances      Box(P          R      mAP50  mAP50-95): 100%|██████████| 6/6 [00:02<00:00,  2.71it/s]"
          ]
        },
        {
          "name": "stdout",
          "output_type": "stream",
          "text": [
            "                   all        175        156      0.956      0.808      0.876      0.316\n"
          ]
        },
        {
          "name": "stderr",
          "output_type": "stream",
          "text": [
            "\n"
          ]
        },
        {
          "name": "stdout",
          "output_type": "stream",
          "text": [
            "\n",
            "      Epoch    GPU_mem   box_loss   cls_loss   dfl_loss  Instances       Size\n"
          ]
        },
        {
          "name": "stderr",
          "output_type": "stream",
          "text": [
            "     34/100      2.47G      1.204     0.7042        1.2         13        640: 100%|██████████| 63/63 [00:18<00:00,  3.49it/s]\n",
            "                 Class     Images  Instances      Box(P          R      mAP50  mAP50-95): 100%|██████████| 6/6 [00:01<00:00,  4.14it/s]"
          ]
        },
        {
          "name": "stdout",
          "output_type": "stream",
          "text": [
            "                   all        175        156       0.93      0.814      0.886      0.316\n"
          ]
        },
        {
          "name": "stderr",
          "output_type": "stream",
          "text": [
            "\n"
          ]
        },
        {
          "name": "stdout",
          "output_type": "stream",
          "text": [
            "\n",
            "      Epoch    GPU_mem   box_loss   cls_loss   dfl_loss  Instances       Size\n"
          ]
        },
        {
          "name": "stderr",
          "output_type": "stream",
          "text": [
            "     35/100      2.47G      1.174     0.6983      1.171         15        640: 100%|██████████| 63/63 [00:18<00:00,  3.32it/s]\n",
            "                 Class     Images  Instances      Box(P          R      mAP50  mAP50-95): 100%|██████████| 6/6 [00:01<00:00,  3.77it/s]"
          ]
        },
        {
          "name": "stdout",
          "output_type": "stream",
          "text": [
            "                   all        175        156      0.926      0.782      0.836      0.306\n"
          ]
        },
        {
          "name": "stderr",
          "output_type": "stream",
          "text": [
            "\n"
          ]
        },
        {
          "name": "stdout",
          "output_type": "stream",
          "text": [
            "\n",
            "      Epoch    GPU_mem   box_loss   cls_loss   dfl_loss  Instances       Size\n"
          ]
        },
        {
          "name": "stderr",
          "output_type": "stream",
          "text": [
            "     36/100      2.47G      1.172     0.7031      1.167         13        640: 100%|██████████| 63/63 [00:18<00:00,  3.49it/s]\n",
            "                 Class     Images  Instances      Box(P          R      mAP50  mAP50-95): 100%|██████████| 6/6 [00:01<00:00,  4.12it/s]"
          ]
        },
        {
          "name": "stdout",
          "output_type": "stream",
          "text": [
            "                   all        175        156      0.975      0.742       0.84      0.317\n"
          ]
        },
        {
          "name": "stderr",
          "output_type": "stream",
          "text": [
            "\n"
          ]
        },
        {
          "name": "stdout",
          "output_type": "stream",
          "text": [
            "\n",
            "      Epoch    GPU_mem   box_loss   cls_loss   dfl_loss  Instances       Size\n"
          ]
        },
        {
          "name": "stderr",
          "output_type": "stream",
          "text": [
            "     37/100      2.47G      1.183     0.6875      1.171          3        640: 100%|██████████| 63/63 [00:19<00:00,  3.26it/s]\n",
            "                 Class     Images  Instances      Box(P          R      mAP50  mAP50-95): 100%|██████████| 6/6 [00:01<00:00,  4.16it/s]"
          ]
        },
        {
          "name": "stdout",
          "output_type": "stream",
          "text": [
            "                   all        175        156      0.931      0.777      0.842      0.306\n"
          ]
        },
        {
          "name": "stderr",
          "output_type": "stream",
          "text": [
            "\n"
          ]
        },
        {
          "name": "stdout",
          "output_type": "stream",
          "text": [
            "\n",
            "      Epoch    GPU_mem   box_loss   cls_loss   dfl_loss  Instances       Size\n"
          ]
        },
        {
          "name": "stderr",
          "output_type": "stream",
          "text": [
            "     38/100      2.47G      1.167      0.684      1.172         22        640: 100%|██████████| 63/63 [00:18<00:00,  3.43it/s]\n",
            "                 Class     Images  Instances      Box(P          R      mAP50  mAP50-95): 100%|██████████| 6/6 [00:02<00:00,  2.81it/s]"
          ]
        },
        {
          "name": "stdout",
          "output_type": "stream",
          "text": [
            "                   all        175        156      0.918      0.744      0.843      0.251\n"
          ]
        },
        {
          "name": "stderr",
          "output_type": "stream",
          "text": [
            "\n"
          ]
        },
        {
          "name": "stdout",
          "output_type": "stream",
          "text": [
            "\n",
            "      Epoch    GPU_mem   box_loss   cls_loss   dfl_loss  Instances       Size\n"
          ]
        },
        {
          "name": "stderr",
          "output_type": "stream",
          "text": [
            "     39/100      2.47G      1.162     0.6998      1.162          9        640: 100%|██████████| 63/63 [00:18<00:00,  3.49it/s]\n",
            "                 Class     Images  Instances      Box(P          R      mAP50  mAP50-95): 100%|██████████| 6/6 [00:01<00:00,  4.35it/s]"
          ]
        },
        {
          "name": "stdout",
          "output_type": "stream",
          "text": [
            "                   all        175        156      0.891      0.795      0.853      0.315\n"
          ]
        },
        {
          "name": "stderr",
          "output_type": "stream",
          "text": [
            "\n"
          ]
        },
        {
          "name": "stdout",
          "output_type": "stream",
          "text": [
            "\n",
            "      Epoch    GPU_mem   box_loss   cls_loss   dfl_loss  Instances       Size\n"
          ]
        },
        {
          "name": "stderr",
          "output_type": "stream",
          "text": [
            "     40/100      2.47G      1.129     0.6382      1.137          6        640: 100%|██████████| 63/63 [00:18<00:00,  3.32it/s]\n",
            "                 Class     Images  Instances      Box(P          R      mAP50  mAP50-95): 100%|██████████| 6/6 [00:01<00:00,  4.16it/s]"
          ]
        },
        {
          "name": "stdout",
          "output_type": "stream",
          "text": [
            "                   all        175        156      0.913      0.806      0.868      0.306\n"
          ]
        },
        {
          "name": "stderr",
          "output_type": "stream",
          "text": [
            "\n"
          ]
        },
        {
          "name": "stdout",
          "output_type": "stream",
          "text": [
            "\n",
            "      Epoch    GPU_mem   box_loss   cls_loss   dfl_loss  Instances       Size\n"
          ]
        },
        {
          "name": "stderr",
          "output_type": "stream",
          "text": [
            "     41/100      2.47G      1.111     0.6546      1.144         15        640: 100%|██████████| 63/63 [00:17<00:00,  3.50it/s]\n",
            "                 Class     Images  Instances      Box(P          R      mAP50  mAP50-95): 100%|██████████| 6/6 [00:01<00:00,  3.92it/s]"
          ]
        },
        {
          "name": "stdout",
          "output_type": "stream",
          "text": [
            "                   all        175        156       0.96      0.768      0.852      0.325\n"
          ]
        },
        {
          "name": "stderr",
          "output_type": "stream",
          "text": [
            "\n"
          ]
        },
        {
          "name": "stdout",
          "output_type": "stream",
          "text": [
            "\n",
            "      Epoch    GPU_mem   box_loss   cls_loss   dfl_loss  Instances       Size\n"
          ]
        },
        {
          "name": "stderr",
          "output_type": "stream",
          "text": [
            "     42/100      2.47G       1.15     0.6519      1.159          5        640: 100%|██████████| 63/63 [00:19<00:00,  3.26it/s]\n",
            "                 Class     Images  Instances      Box(P          R      mAP50  mAP50-95): 100%|██████████| 6/6 [00:01<00:00,  4.40it/s]"
          ]
        },
        {
          "name": "stdout",
          "output_type": "stream",
          "text": [
            "                   all        175        156      0.916      0.765      0.833      0.261\n"
          ]
        },
        {
          "name": "stderr",
          "output_type": "stream",
          "text": [
            "\n"
          ]
        },
        {
          "name": "stdout",
          "output_type": "stream",
          "text": [
            "\n",
            "      Epoch    GPU_mem   box_loss   cls_loss   dfl_loss  Instances       Size\n"
          ]
        },
        {
          "name": "stderr",
          "output_type": "stream",
          "text": [
            "     43/100      2.47G      1.122     0.6487      1.141         19        640: 100%|██████████| 63/63 [00:17<00:00,  3.51it/s]\n",
            "                 Class     Images  Instances      Box(P          R      mAP50  mAP50-95): 100%|██████████| 6/6 [00:01<00:00,  3.40it/s]"
          ]
        },
        {
          "name": "stdout",
          "output_type": "stream",
          "text": [
            "                   all        175        156      0.931      0.781      0.846      0.271\n"
          ]
        },
        {
          "name": "stderr",
          "output_type": "stream",
          "text": [
            "\n"
          ]
        },
        {
          "name": "stdout",
          "output_type": "stream",
          "text": [
            "\n",
            "      Epoch    GPU_mem   box_loss   cls_loss   dfl_loss  Instances       Size\n"
          ]
        },
        {
          "name": "stderr",
          "output_type": "stream",
          "text": [
            "     44/100      2.47G      1.124      0.635      1.153         21        640: 100%|██████████| 63/63 [00:18<00:00,  3.47it/s]\n",
            "                 Class     Images  Instances      Box(P          R      mAP50  mAP50-95): 100%|██████████| 6/6 [00:01<00:00,  4.27it/s]"
          ]
        },
        {
          "name": "stdout",
          "output_type": "stream",
          "text": [
            "                   all        175        156      0.918      0.808      0.856      0.294\n"
          ]
        },
        {
          "name": "stderr",
          "output_type": "stream",
          "text": [
            "\n"
          ]
        },
        {
          "name": "stdout",
          "output_type": "stream",
          "text": [
            "\n",
            "      Epoch    GPU_mem   box_loss   cls_loss   dfl_loss  Instances       Size\n"
          ]
        },
        {
          "name": "stderr",
          "output_type": "stream",
          "text": [
            "     45/100      2.47G      1.106     0.6316      1.125         21        640: 100%|██████████| 63/63 [00:19<00:00,  3.26it/s]\n",
            "                 Class     Images  Instances      Box(P          R      mAP50  mAP50-95): 100%|██████████| 6/6 [00:01<00:00,  3.91it/s]"
          ]
        },
        {
          "name": "stdout",
          "output_type": "stream",
          "text": [
            "                   all        175        156      0.911      0.808      0.854       0.32\n"
          ]
        },
        {
          "name": "stderr",
          "output_type": "stream",
          "text": [
            "\n"
          ]
        },
        {
          "name": "stdout",
          "output_type": "stream",
          "text": [
            "\n",
            "      Epoch    GPU_mem   box_loss   cls_loss   dfl_loss  Instances       Size\n"
          ]
        },
        {
          "name": "stderr",
          "output_type": "stream",
          "text": [
            "     46/100      2.47G      1.122     0.6397      1.147          5        640: 100%|██████████| 63/63 [00:17<00:00,  3.53it/s]\n",
            "                 Class     Images  Instances      Box(P          R      mAP50  mAP50-95): 100%|██████████| 6/6 [00:01<00:00,  4.61it/s]"
          ]
        },
        {
          "name": "stdout",
          "output_type": "stream",
          "text": [
            "                   all        175        156      0.914      0.817      0.874      0.354\n"
          ]
        },
        {
          "name": "stderr",
          "output_type": "stream",
          "text": [
            "\n"
          ]
        },
        {
          "name": "stdout",
          "output_type": "stream",
          "text": [
            "\n",
            "      Epoch    GPU_mem   box_loss   cls_loss   dfl_loss  Instances       Size\n"
          ]
        },
        {
          "name": "stderr",
          "output_type": "stream",
          "text": [
            "     47/100      2.47G      1.145     0.6494      1.154          9        640: 100%|██████████| 63/63 [00:19<00:00,  3.27it/s]\n",
            "                 Class     Images  Instances      Box(P          R      mAP50  mAP50-95): 100%|██████████| 6/6 [00:01<00:00,  3.89it/s]"
          ]
        },
        {
          "name": "stdout",
          "output_type": "stream",
          "text": [
            "                   all        175        156      0.894      0.731      0.796      0.232\n"
          ]
        },
        {
          "name": "stderr",
          "output_type": "stream",
          "text": [
            "\n"
          ]
        },
        {
          "name": "stdout",
          "output_type": "stream",
          "text": [
            "\n",
            "      Epoch    GPU_mem   box_loss   cls_loss   dfl_loss  Instances       Size\n"
          ]
        },
        {
          "name": "stderr",
          "output_type": "stream",
          "text": [
            "     48/100      2.47G      1.125     0.6355      1.144         16        640: 100%|██████████| 63/63 [00:17<00:00,  3.51it/s]\n",
            "                 Class     Images  Instances      Box(P          R      mAP50  mAP50-95): 100%|██████████| 6/6 [00:02<00:00,  2.65it/s]"
          ]
        },
        {
          "name": "stdout",
          "output_type": "stream",
          "text": [
            "                   all        175        156      0.926      0.795      0.864      0.354\n"
          ]
        },
        {
          "name": "stderr",
          "output_type": "stream",
          "text": [
            "\n"
          ]
        },
        {
          "name": "stdout",
          "output_type": "stream",
          "text": [
            "\n",
            "      Epoch    GPU_mem   box_loss   cls_loss   dfl_loss  Instances       Size\n"
          ]
        },
        {
          "name": "stderr",
          "output_type": "stream",
          "text": [
            "     49/100      2.47G      1.124     0.6517      1.134          8        640: 100%|██████████| 63/63 [00:18<00:00,  3.42it/s]\n",
            "                 Class     Images  Instances      Box(P          R      mAP50  mAP50-95): 100%|██████████| 6/6 [00:01<00:00,  4.20it/s]"
          ]
        },
        {
          "name": "stdout",
          "output_type": "stream",
          "text": [
            "                   all        175        156      0.928      0.782      0.855      0.281\n"
          ]
        },
        {
          "name": "stderr",
          "output_type": "stream",
          "text": [
            "\n"
          ]
        },
        {
          "name": "stdout",
          "output_type": "stream",
          "text": [
            "\n",
            "      Epoch    GPU_mem   box_loss   cls_loss   dfl_loss  Instances       Size\n"
          ]
        },
        {
          "name": "stderr",
          "output_type": "stream",
          "text": [
            "     50/100      2.47G       1.11     0.6537      1.133         12        640: 100%|██████████| 63/63 [00:19<00:00,  3.27it/s]\n",
            "                 Class     Images  Instances      Box(P          R      mAP50  mAP50-95): 100%|██████████| 6/6 [00:01<00:00,  4.57it/s]"
          ]
        },
        {
          "name": "stdout",
          "output_type": "stream",
          "text": [
            "                   all        175        156       0.92      0.737      0.827      0.277\n"
          ]
        },
        {
          "name": "stderr",
          "output_type": "stream",
          "text": [
            "\n"
          ]
        },
        {
          "name": "stdout",
          "output_type": "stream",
          "text": [
            "\n",
            "      Epoch    GPU_mem   box_loss   cls_loss   dfl_loss  Instances       Size\n"
          ]
        },
        {
          "name": "stderr",
          "output_type": "stream",
          "text": [
            "     51/100      2.47G      1.095     0.6262      1.131          3        640: 100%|██████████| 63/63 [00:17<00:00,  3.50it/s]\n",
            "                 Class     Images  Instances      Box(P          R      mAP50  mAP50-95): 100%|██████████| 6/6 [00:01<00:00,  4.20it/s]"
          ]
        },
        {
          "name": "stdout",
          "output_type": "stream",
          "text": [
            "                   all        175        156      0.911      0.769      0.833      0.283\n"
          ]
        },
        {
          "name": "stderr",
          "output_type": "stream",
          "text": [
            "\n"
          ]
        },
        {
          "name": "stdout",
          "output_type": "stream",
          "text": [
            "\n",
            "      Epoch    GPU_mem   box_loss   cls_loss   dfl_loss  Instances       Size\n"
          ]
        },
        {
          "name": "stderr",
          "output_type": "stream",
          "text": [
            "     52/100      2.47G      1.096     0.6515      1.137          9        640: 100%|██████████| 63/63 [00:18<00:00,  3.34it/s]\n",
            "                 Class     Images  Instances      Box(P          R      mAP50  mAP50-95): 100%|██████████| 6/6 [00:01<00:00,  3.78it/s]"
          ]
        },
        {
          "name": "stdout",
          "output_type": "stream",
          "text": [
            "                   all        175        156      0.894      0.769      0.834      0.277\n"
          ]
        },
        {
          "name": "stderr",
          "output_type": "stream",
          "text": [
            "\n"
          ]
        },
        {
          "name": "stdout",
          "output_type": "stream",
          "text": [
            "\n",
            "      Epoch    GPU_mem   box_loss   cls_loss   dfl_loss  Instances       Size\n"
          ]
        },
        {
          "name": "stderr",
          "output_type": "stream",
          "text": [
            "     53/100      2.47G      1.084      0.605      1.109         23        640: 100%|██████████| 63/63 [00:17<00:00,  3.51it/s]\n",
            "                 Class     Images  Instances      Box(P          R      mAP50  mAP50-95): 100%|██████████| 6/6 [00:02<00:00,  2.79it/s]"
          ]
        },
        {
          "name": "stdout",
          "output_type": "stream",
          "text": [
            "                   all        175        156      0.903      0.777      0.864        0.3\n"
          ]
        },
        {
          "name": "stderr",
          "output_type": "stream",
          "text": [
            "\n"
          ]
        },
        {
          "name": "stdout",
          "output_type": "stream",
          "text": [
            "\n",
            "      Epoch    GPU_mem   box_loss   cls_loss   dfl_loss  Instances       Size\n"
          ]
        },
        {
          "name": "stderr",
          "output_type": "stream",
          "text": [
            "     54/100      2.47G      1.115     0.6258      1.114         18        640: 100%|██████████| 63/63 [00:18<00:00,  3.45it/s]\n",
            "                 Class     Images  Instances      Box(P          R      mAP50  mAP50-95): 100%|██████████| 6/6 [00:01<00:00,  4.88it/s]"
          ]
        },
        {
          "name": "stdout",
          "output_type": "stream",
          "text": [
            "                   all        175        156      0.912      0.796      0.858      0.308\n"
          ]
        },
        {
          "name": "stderr",
          "output_type": "stream",
          "text": [
            "\n"
          ]
        },
        {
          "name": "stdout",
          "output_type": "stream",
          "text": [
            "\n",
            "      Epoch    GPU_mem   box_loss   cls_loss   dfl_loss  Instances       Size\n"
          ]
        },
        {
          "name": "stderr",
          "output_type": "stream",
          "text": [
            "     55/100      2.47G      1.086     0.6209      1.135         10        640: 100%|██████████| 63/63 [00:18<00:00,  3.35it/s]\n",
            "                 Class     Images  Instances      Box(P          R      mAP50  mAP50-95): 100%|██████████| 6/6 [00:01<00:00,  4.09it/s]"
          ]
        },
        {
          "name": "stdout",
          "output_type": "stream",
          "text": [
            "                   all        175        156       0.94      0.806      0.875      0.365\n"
          ]
        },
        {
          "name": "stderr",
          "output_type": "stream",
          "text": [
            "\n"
          ]
        },
        {
          "name": "stdout",
          "output_type": "stream",
          "text": [
            "\n",
            "      Epoch    GPU_mem   box_loss   cls_loss   dfl_loss  Instances       Size\n"
          ]
        },
        {
          "name": "stderr",
          "output_type": "stream",
          "text": [
            "     56/100      2.47G      1.114     0.6107      1.135          8        640: 100%|██████████| 63/63 [00:17<00:00,  3.53it/s]\n",
            "                 Class     Images  Instances      Box(P          R      mAP50  mAP50-95): 100%|██████████| 6/6 [00:01<00:00,  4.40it/s]"
          ]
        },
        {
          "name": "stdout",
          "output_type": "stream",
          "text": [
            "                   all        175        156      0.954      0.801      0.863      0.314\n"
          ]
        },
        {
          "name": "stderr",
          "output_type": "stream",
          "text": [
            "\n"
          ]
        },
        {
          "name": "stdout",
          "output_type": "stream",
          "text": [
            "\n",
            "      Epoch    GPU_mem   box_loss   cls_loss   dfl_loss  Instances       Size\n"
          ]
        },
        {
          "name": "stderr",
          "output_type": "stream",
          "text": [
            "     57/100      2.47G      1.102     0.6339      1.124         19        640: 100%|██████████| 63/63 [00:19<00:00,  3.27it/s]\n",
            "                 Class     Images  Instances      Box(P          R      mAP50  mAP50-95): 100%|██████████| 6/6 [00:01<00:00,  4.76it/s]"
          ]
        },
        {
          "name": "stdout",
          "output_type": "stream",
          "text": [
            "                   all        175        156      0.969      0.763      0.857      0.304\n"
          ]
        },
        {
          "name": "stderr",
          "output_type": "stream",
          "text": [
            "\n"
          ]
        },
        {
          "name": "stdout",
          "output_type": "stream",
          "text": [
            "\n",
            "      Epoch    GPU_mem   box_loss   cls_loss   dfl_loss  Instances       Size\n"
          ]
        },
        {
          "name": "stderr",
          "output_type": "stream",
          "text": [
            "     58/100      2.47G        1.1     0.6414      1.127          8        640: 100%|██████████| 63/63 [00:18<00:00,  3.49it/s]\n",
            "                 Class     Images  Instances      Box(P          R      mAP50  mAP50-95): 100%|██████████| 6/6 [00:02<00:00,  2.74it/s]"
          ]
        },
        {
          "name": "stdout",
          "output_type": "stream",
          "text": [
            "                   all        175        156       0.95      0.788       0.87      0.364\n"
          ]
        },
        {
          "name": "stderr",
          "output_type": "stream",
          "text": [
            "\n"
          ]
        },
        {
          "name": "stdout",
          "output_type": "stream",
          "text": [
            "\n",
            "      Epoch    GPU_mem   box_loss   cls_loss   dfl_loss  Instances       Size\n"
          ]
        },
        {
          "name": "stderr",
          "output_type": "stream",
          "text": [
            "     59/100      2.47G      1.076     0.6071      1.118          7        640: 100%|██████████| 63/63 [00:18<00:00,  3.46it/s]\n",
            "                 Class     Images  Instances      Box(P          R      mAP50  mAP50-95): 100%|██████████| 6/6 [00:01<00:00,  4.45it/s]"
          ]
        },
        {
          "name": "stdout",
          "output_type": "stream",
          "text": [
            "                   all        175        156      0.927       0.82      0.884      0.373\n"
          ]
        },
        {
          "name": "stderr",
          "output_type": "stream",
          "text": [
            "\n"
          ]
        },
        {
          "name": "stdout",
          "output_type": "stream",
          "text": [
            "\n",
            "      Epoch    GPU_mem   box_loss   cls_loss   dfl_loss  Instances       Size\n"
          ]
        },
        {
          "name": "stderr",
          "output_type": "stream",
          "text": [
            "     60/100      2.47G       1.09     0.6086       1.13         13        640: 100%|██████████| 63/63 [00:19<00:00,  3.31it/s]\n",
            "                 Class     Images  Instances      Box(P          R      mAP50  mAP50-95): 100%|██████████| 6/6 [00:01<00:00,  4.09it/s]\n"
          ]
        },
        {
          "name": "stdout",
          "output_type": "stream",
          "text": [
            "                   all        175        156       0.94      0.801      0.875      0.349\n",
            "\n",
            "      Epoch    GPU_mem   box_loss   cls_loss   dfl_loss  Instances       Size\n"
          ]
        },
        {
          "name": "stderr",
          "output_type": "stream",
          "text": [
            "     61/100      2.47G      1.105     0.6338      1.135         19        640: 100%|██████████| 63/63 [00:18<00:00,  3.41it/s]\n",
            "                 Class     Images  Instances      Box(P          R      mAP50  mAP50-95): 100%|██████████| 6/6 [00:01<00:00,  4.44it/s]"
          ]
        },
        {
          "name": "stdout",
          "output_type": "stream",
          "text": [
            "                   all        175        156      0.931      0.776      0.867       0.33\n"
          ]
        },
        {
          "name": "stderr",
          "output_type": "stream",
          "text": [
            "\n"
          ]
        },
        {
          "name": "stdout",
          "output_type": "stream",
          "text": [
            "\n",
            "      Epoch    GPU_mem   box_loss   cls_loss   dfl_loss  Instances       Size\n"
          ]
        },
        {
          "name": "stderr",
          "output_type": "stream",
          "text": [
            "     62/100      2.47G      1.101     0.6225      1.113         10        640: 100%|██████████| 63/63 [00:19<00:00,  3.30it/s]\n",
            "                 Class     Images  Instances      Box(P          R      mAP50  mAP50-95): 100%|██████████| 6/6 [00:01<00:00,  4.68it/s]"
          ]
        },
        {
          "name": "stdout",
          "output_type": "stream",
          "text": [
            "                   all        175        156      0.931      0.788      0.863      0.334\n"
          ]
        },
        {
          "name": "stderr",
          "output_type": "stream",
          "text": [
            "\n"
          ]
        },
        {
          "name": "stdout",
          "output_type": "stream",
          "text": [
            "\n",
            "      Epoch    GPU_mem   box_loss   cls_loss   dfl_loss  Instances       Size\n"
          ]
        },
        {
          "name": "stderr",
          "output_type": "stream",
          "text": [
            "     63/100      2.47G      1.068     0.6019      1.104          7        640: 100%|██████████| 63/63 [00:19<00:00,  3.31it/s]\n",
            "                 Class     Images  Instances      Box(P          R      mAP50  mAP50-95): 100%|██████████| 6/6 [00:01<00:00,  3.17it/s]"
          ]
        },
        {
          "name": "stdout",
          "output_type": "stream",
          "text": [
            "                   all        175        156      0.945      0.775       0.87      0.324\n"
          ]
        },
        {
          "name": "stderr",
          "output_type": "stream",
          "text": [
            "\n"
          ]
        },
        {
          "name": "stdout",
          "output_type": "stream",
          "text": [
            "\n",
            "      Epoch    GPU_mem   box_loss   cls_loss   dfl_loss  Instances       Size\n"
          ]
        },
        {
          "name": "stderr",
          "output_type": "stream",
          "text": [
            "     64/100      2.47G      1.082     0.6028      1.118         11        640: 100%|██████████| 63/63 [00:17<00:00,  3.53it/s]\n",
            "                 Class     Images  Instances      Box(P          R      mAP50  mAP50-95): 100%|██████████| 6/6 [00:01<00:00,  3.71it/s]\n"
          ]
        },
        {
          "name": "stdout",
          "output_type": "stream",
          "text": [
            "                   all        175        156      0.956      0.795      0.882      0.335\n",
            "\n",
            "      Epoch    GPU_mem   box_loss   cls_loss   dfl_loss  Instances       Size\n"
          ]
        },
        {
          "name": "stderr",
          "output_type": "stream",
          "text": [
            "     65/100      2.47G      1.048     0.5879      1.095          8        640: 100%|██████████| 63/63 [00:18<00:00,  3.34it/s]\n",
            "                 Class     Images  Instances      Box(P          R      mAP50  mAP50-95): 100%|██████████| 6/6 [00:01<00:00,  4.57it/s]"
          ]
        },
        {
          "name": "stdout",
          "output_type": "stream",
          "text": [
            "                   all        175        156      0.954        0.8       0.87      0.355\n"
          ]
        },
        {
          "name": "stderr",
          "output_type": "stream",
          "text": [
            "\n"
          ]
        },
        {
          "name": "stdout",
          "output_type": "stream",
          "text": [
            "\n",
            "      Epoch    GPU_mem   box_loss   cls_loss   dfl_loss  Instances       Size\n"
          ]
        },
        {
          "name": "stderr",
          "output_type": "stream",
          "text": [
            "     66/100      2.47G      1.064     0.5925      1.112          6        640: 100%|██████████| 63/63 [00:18<00:00,  3.47it/s]\n",
            "                 Class     Images  Instances      Box(P          R      mAP50  mAP50-95): 100%|██████████| 6/6 [00:01<00:00,  4.42it/s]"
          ]
        },
        {
          "name": "stdout",
          "output_type": "stream",
          "text": [
            "                   all        175        156      0.953      0.781      0.848      0.246\n"
          ]
        },
        {
          "name": "stderr",
          "output_type": "stream",
          "text": [
            "\n"
          ]
        },
        {
          "name": "stdout",
          "output_type": "stream",
          "text": [
            "\n",
            "      Epoch    GPU_mem   box_loss   cls_loss   dfl_loss  Instances       Size\n"
          ]
        },
        {
          "name": "stderr",
          "output_type": "stream",
          "text": [
            "     67/100      2.47G      1.113     0.6519      1.145         24        640: 100%|██████████| 63/63 [00:19<00:00,  3.24it/s]\n",
            "                 Class     Images  Instances      Box(P          R      mAP50  mAP50-95): 100%|██████████| 6/6 [00:01<00:00,  4.38it/s]"
          ]
        },
        {
          "name": "stdout",
          "output_type": "stream",
          "text": [
            "                   all        175        156      0.954      0.797      0.875      0.286\n"
          ]
        },
        {
          "name": "stderr",
          "output_type": "stream",
          "text": [
            "\n"
          ]
        },
        {
          "name": "stdout",
          "output_type": "stream",
          "text": [
            "\n",
            "      Epoch    GPU_mem   box_loss   cls_loss   dfl_loss  Instances       Size\n"
          ]
        },
        {
          "name": "stderr",
          "output_type": "stream",
          "text": [
            "     68/100      2.47G      1.085     0.6043      1.098         10        640: 100%|██████████| 63/63 [00:18<00:00,  3.37it/s]\n",
            "                 Class     Images  Instances      Box(P          R      mAP50  mAP50-95): 100%|██████████| 6/6 [00:01<00:00,  3.07it/s]"
          ]
        },
        {
          "name": "stdout",
          "output_type": "stream",
          "text": [
            "                   all        175        156      0.939      0.787      0.855      0.305\n"
          ]
        },
        {
          "name": "stderr",
          "output_type": "stream",
          "text": [
            "\n"
          ]
        },
        {
          "name": "stdout",
          "output_type": "stream",
          "text": [
            "\n",
            "      Epoch    GPU_mem   box_loss   cls_loss   dfl_loss  Instances       Size\n"
          ]
        },
        {
          "name": "stderr",
          "output_type": "stream",
          "text": [
            "     69/100      2.47G      1.048     0.5896      1.105          4        640: 100%|██████████| 63/63 [00:18<00:00,  3.49it/s]\n",
            "                 Class     Images  Instances      Box(P          R      mAP50  mAP50-95): 100%|██████████| 6/6 [00:01<00:00,  4.39it/s]"
          ]
        },
        {
          "name": "stdout",
          "output_type": "stream",
          "text": [
            "                   all        175        156      0.944      0.795      0.859      0.316\n"
          ]
        },
        {
          "name": "stderr",
          "output_type": "stream",
          "text": [
            "\n"
          ]
        },
        {
          "name": "stdout",
          "output_type": "stream",
          "text": [
            "\n",
            "      Epoch    GPU_mem   box_loss   cls_loss   dfl_loss  Instances       Size\n"
          ]
        },
        {
          "name": "stderr",
          "output_type": "stream",
          "text": [
            "     70/100      2.47G      1.077     0.5982      1.108         12        640: 100%|██████████| 63/63 [00:19<00:00,  3.31it/s]\n",
            "                 Class     Images  Instances      Box(P          R      mAP50  mAP50-95): 100%|██████████| 6/6 [00:01<00:00,  4.48it/s]"
          ]
        },
        {
          "name": "stdout",
          "output_type": "stream",
          "text": [
            "                   all        175        156      0.931      0.801      0.851      0.346\n"
          ]
        },
        {
          "name": "stderr",
          "output_type": "stream",
          "text": [
            "\n"
          ]
        },
        {
          "name": "stdout",
          "output_type": "stream",
          "text": [
            "\n",
            "      Epoch    GPU_mem   box_loss   cls_loss   dfl_loss  Instances       Size\n"
          ]
        },
        {
          "name": "stderr",
          "output_type": "stream",
          "text": [
            "     71/100      2.47G      1.072     0.5789      1.099          6        640: 100%|██████████| 63/63 [00:18<00:00,  3.49it/s]\n",
            "                 Class     Images  Instances      Box(P          R      mAP50  mAP50-95): 100%|██████████| 6/6 [00:01<00:00,  4.75it/s]"
          ]
        },
        {
          "name": "stdout",
          "output_type": "stream",
          "text": [
            "                   all        175        156      0.935      0.814      0.877      0.345\n"
          ]
        },
        {
          "name": "stderr",
          "output_type": "stream",
          "text": [
            "\n"
          ]
        },
        {
          "name": "stdout",
          "output_type": "stream",
          "text": [
            "\n",
            "      Epoch    GPU_mem   box_loss   cls_loss   dfl_loss  Instances       Size\n"
          ]
        },
        {
          "name": "stderr",
          "output_type": "stream",
          "text": [
            "     72/100      2.47G      1.041     0.5741      1.083         12        640: 100%|██████████| 63/63 [00:19<00:00,  3.29it/s]\n",
            "                 Class     Images  Instances      Box(P          R      mAP50  mAP50-95): 100%|██████████| 6/6 [00:01<00:00,  4.34it/s]"
          ]
        },
        {
          "name": "stdout",
          "output_type": "stream",
          "text": [
            "                   all        175        156      0.953      0.801      0.868      0.277\n"
          ]
        },
        {
          "name": "stderr",
          "output_type": "stream",
          "text": [
            "\n"
          ]
        },
        {
          "name": "stdout",
          "output_type": "stream",
          "text": [
            "\n",
            "      Epoch    GPU_mem   box_loss   cls_loss   dfl_loss  Instances       Size\n"
          ]
        },
        {
          "name": "stderr",
          "output_type": "stream",
          "text": [
            "     73/100      2.47G      1.058      0.578      1.109          6        640: 100%|██████████| 63/63 [00:17<00:00,  3.52it/s]\n",
            "                 Class     Images  Instances      Box(P          R      mAP50  mAP50-95): 100%|██████████| 6/6 [00:02<00:00,  2.82it/s]"
          ]
        },
        {
          "name": "stdout",
          "output_type": "stream",
          "text": [
            "                   all        175        156      0.948      0.827      0.878      0.383\n"
          ]
        },
        {
          "name": "stderr",
          "output_type": "stream",
          "text": [
            "\n"
          ]
        },
        {
          "name": "stdout",
          "output_type": "stream",
          "text": [
            "\n",
            "      Epoch    GPU_mem   box_loss   cls_loss   dfl_loss  Instances       Size\n"
          ]
        },
        {
          "name": "stderr",
          "output_type": "stream",
          "text": [
            "     74/100      2.47G      1.042      0.587      1.109          5        640: 100%|██████████| 63/63 [00:18<00:00,  3.47it/s]\n",
            "                 Class     Images  Instances      Box(P          R      mAP50  mAP50-95): 100%|██████████| 6/6 [00:01<00:00,  4.54it/s]"
          ]
        },
        {
          "name": "stdout",
          "output_type": "stream",
          "text": [
            "                   all        175        156      0.939      0.801      0.862      0.313\n"
          ]
        },
        {
          "name": "stderr",
          "output_type": "stream",
          "text": [
            "\n"
          ]
        },
        {
          "name": "stdout",
          "output_type": "stream",
          "text": [
            "\n",
            "      Epoch    GPU_mem   box_loss   cls_loss   dfl_loss  Instances       Size\n"
          ]
        },
        {
          "name": "stderr",
          "output_type": "stream",
          "text": [
            "     75/100      2.47G      1.038     0.5684      1.098         13        640: 100%|██████████| 63/63 [00:18<00:00,  3.32it/s]\n",
            "                 Class     Images  Instances      Box(P          R      mAP50  mAP50-95): 100%|██████████| 6/6 [00:01<00:00,  4.38it/s]"
          ]
        },
        {
          "name": "stdout",
          "output_type": "stream",
          "text": [
            "                   all        175        156      0.946      0.795      0.865      0.377\n"
          ]
        },
        {
          "name": "stderr",
          "output_type": "stream",
          "text": [
            "\n"
          ]
        },
        {
          "name": "stdout",
          "output_type": "stream",
          "text": [
            "\n",
            "      Epoch    GPU_mem   box_loss   cls_loss   dfl_loss  Instances       Size\n"
          ]
        },
        {
          "name": "stderr",
          "output_type": "stream",
          "text": [
            "     76/100      2.47G      1.028     0.5598      1.093          7        640: 100%|██████████| 63/63 [00:17<00:00,  3.50it/s]\n",
            "                 Class     Images  Instances      Box(P          R      mAP50  mAP50-95): 100%|██████████| 6/6 [00:01<00:00,  4.24it/s]"
          ]
        },
        {
          "name": "stdout",
          "output_type": "stream",
          "text": [
            "                   all        175        156      0.939      0.796      0.869      0.295\n"
          ]
        },
        {
          "name": "stderr",
          "output_type": "stream",
          "text": [
            "\n"
          ]
        },
        {
          "name": "stdout",
          "output_type": "stream",
          "text": [
            "\n",
            "      Epoch    GPU_mem   box_loss   cls_loss   dfl_loss  Instances       Size\n"
          ]
        },
        {
          "name": "stderr",
          "output_type": "stream",
          "text": [
            "     77/100      2.47G      1.051     0.5646      1.089         18        640: 100%|██████████| 63/63 [00:19<00:00,  3.25it/s]\n",
            "                 Class     Images  Instances      Box(P          R      mAP50  mAP50-95): 100%|██████████| 6/6 [00:01<00:00,  4.11it/s]"
          ]
        },
        {
          "name": "stdout",
          "output_type": "stream",
          "text": [
            "                   all        175        156      0.921      0.769      0.841      0.308\n"
          ]
        },
        {
          "name": "stderr",
          "output_type": "stream",
          "text": [
            "\n"
          ]
        },
        {
          "name": "stdout",
          "output_type": "stream",
          "text": [
            "\n",
            "      Epoch    GPU_mem   box_loss   cls_loss   dfl_loss  Instances       Size\n"
          ]
        },
        {
          "name": "stderr",
          "output_type": "stream",
          "text": [
            "     78/100      2.47G      1.053     0.5712      1.092         11        640: 100%|██████████| 63/63 [00:17<00:00,  3.54it/s]\n",
            "                 Class     Images  Instances      Box(P          R      mAP50  mAP50-95): 100%|██████████| 6/6 [00:02<00:00,  2.59it/s]"
          ]
        },
        {
          "name": "stdout",
          "output_type": "stream",
          "text": [
            "                   all        175        156      0.911      0.808      0.868      0.314\n"
          ]
        },
        {
          "name": "stderr",
          "output_type": "stream",
          "text": [
            "\n"
          ]
        },
        {
          "name": "stdout",
          "output_type": "stream",
          "text": [
            "\n",
            "      Epoch    GPU_mem   box_loss   cls_loss   dfl_loss  Instances       Size\n"
          ]
        },
        {
          "name": "stderr",
          "output_type": "stream",
          "text": [
            "     79/100      2.47G      1.062     0.5857      1.104          5        640: 100%|██████████| 63/63 [00:18<00:00,  3.43it/s]\n",
            "                 Class     Images  Instances      Box(P          R      mAP50  mAP50-95): 100%|██████████| 6/6 [00:01<00:00,  4.37it/s]"
          ]
        },
        {
          "name": "stdout",
          "output_type": "stream",
          "text": [
            "                   all        175        156      0.926      0.796      0.862       0.32\n"
          ]
        },
        {
          "name": "stderr",
          "output_type": "stream",
          "text": [
            "\n"
          ]
        },
        {
          "name": "stdout",
          "output_type": "stream",
          "text": [
            "\n",
            "      Epoch    GPU_mem   box_loss   cls_loss   dfl_loss  Instances       Size\n"
          ]
        },
        {
          "name": "stderr",
          "output_type": "stream",
          "text": [
            "     80/100      2.47G      1.049     0.5818      1.093          6        640: 100%|██████████| 63/63 [00:18<00:00,  3.33it/s]\n",
            "                 Class     Images  Instances      Box(P          R      mAP50  mAP50-95): 100%|██████████| 6/6 [00:01<00:00,  4.53it/s]"
          ]
        },
        {
          "name": "stdout",
          "output_type": "stream",
          "text": [
            "                   all        175        156       0.93       0.77       0.85      0.294\n"
          ]
        },
        {
          "name": "stderr",
          "output_type": "stream",
          "text": [
            "\n"
          ]
        },
        {
          "name": "stdout",
          "output_type": "stream",
          "text": [
            "\n",
            "      Epoch    GPU_mem   box_loss   cls_loss   dfl_loss  Instances       Size\n"
          ]
        },
        {
          "name": "stderr",
          "output_type": "stream",
          "text": [
            "     81/100      2.47G      1.025     0.5732      1.095          9        640: 100%|██████████| 63/63 [00:17<00:00,  3.54it/s]\n",
            "                 Class     Images  Instances      Box(P          R      mAP50  mAP50-95): 100%|██████████| 6/6 [00:01<00:00,  4.49it/s]"
          ]
        },
        {
          "name": "stdout",
          "output_type": "stream",
          "text": [
            "                   all        175        156      0.952      0.782      0.866      0.297\n"
          ]
        },
        {
          "name": "stderr",
          "output_type": "stream",
          "text": [
            "\n"
          ]
        },
        {
          "name": "stdout",
          "output_type": "stream",
          "text": [
            "\n",
            "      Epoch    GPU_mem   box_loss   cls_loss   dfl_loss  Instances       Size\n"
          ]
        },
        {
          "name": "stderr",
          "output_type": "stream",
          "text": [
            "     82/100      2.47G      1.023     0.5718      1.088         15        640: 100%|██████████| 63/63 [00:19<00:00,  3.24it/s]\n",
            "                 Class     Images  Instances      Box(P          R      mAP50  mAP50-95): 100%|██████████| 6/6 [00:01<00:00,  4.12it/s]"
          ]
        },
        {
          "name": "stdout",
          "output_type": "stream",
          "text": [
            "                   all        175        156      0.931      0.795      0.853      0.298\n"
          ]
        },
        {
          "name": "stderr",
          "output_type": "stream",
          "text": [
            "\n"
          ]
        },
        {
          "name": "stdout",
          "output_type": "stream",
          "text": [
            "\n",
            "      Epoch    GPU_mem   box_loss   cls_loss   dfl_loss  Instances       Size\n"
          ]
        },
        {
          "name": "stderr",
          "output_type": "stream",
          "text": [
            "     83/100      2.47G      1.024     0.5778      1.089         13        640: 100%|██████████| 63/63 [00:18<00:00,  3.43it/s]\n",
            "                 Class     Images  Instances      Box(P          R      mAP50  mAP50-95): 100%|██████████| 6/6 [00:02<00:00,  2.26it/s]"
          ]
        },
        {
          "name": "stdout",
          "output_type": "stream",
          "text": [
            "                   all        175        156      0.933      0.788      0.862      0.299\n"
          ]
        },
        {
          "name": "stderr",
          "output_type": "stream",
          "text": [
            "\n"
          ]
        },
        {
          "name": "stdout",
          "output_type": "stream",
          "text": [
            "\n",
            "      Epoch    GPU_mem   box_loss   cls_loss   dfl_loss  Instances       Size\n"
          ]
        },
        {
          "name": "stderr",
          "output_type": "stream",
          "text": [
            "     84/100      2.47G      1.019     0.5474      1.078         20        640: 100%|██████████| 63/63 [00:17<00:00,  3.52it/s]\n",
            "                 Class     Images  Instances      Box(P          R      mAP50  mAP50-95): 100%|██████████| 6/6 [00:01<00:00,  4.37it/s]"
          ]
        },
        {
          "name": "stdout",
          "output_type": "stream",
          "text": [
            "                   all        175        156      0.953      0.788      0.873      0.326\n"
          ]
        },
        {
          "name": "stderr",
          "output_type": "stream",
          "text": [
            "\n"
          ]
        },
        {
          "name": "stdout",
          "output_type": "stream",
          "text": [
            "\n",
            "      Epoch    GPU_mem   box_loss   cls_loss   dfl_loss  Instances       Size\n"
          ]
        },
        {
          "name": "stderr",
          "output_type": "stream",
          "text": [
            "     85/100      2.47G     0.9925     0.5298      1.067          9        640: 100%|██████████| 63/63 [00:18<00:00,  3.38it/s]\n",
            "                 Class     Images  Instances      Box(P          R      mAP50  mAP50-95): 100%|██████████| 6/6 [00:01<00:00,  4.10it/s]"
          ]
        },
        {
          "name": "stdout",
          "output_type": "stream",
          "text": [
            "                   all        175        156      0.937      0.788      0.867      0.307\n"
          ]
        },
        {
          "name": "stderr",
          "output_type": "stream",
          "text": [
            "\n"
          ]
        },
        {
          "name": "stdout",
          "output_type": "stream",
          "text": [
            "\n",
            "      Epoch    GPU_mem   box_loss   cls_loss   dfl_loss  Instances       Size\n"
          ]
        },
        {
          "name": "stderr",
          "output_type": "stream",
          "text": [
            "     86/100      2.47G      1.015     0.5477      1.077         11        640: 100%|██████████| 63/63 [00:18<00:00,  3.48it/s]\n",
            "                 Class     Images  Instances      Box(P          R      mAP50  mAP50-95): 100%|██████████| 6/6 [00:01<00:00,  4.55it/s]"
          ]
        },
        {
          "name": "stdout",
          "output_type": "stream",
          "text": [
            "                   all        175        156      0.959      0.801      0.877      0.343\n"
          ]
        },
        {
          "name": "stderr",
          "output_type": "stream",
          "text": [
            "\n"
          ]
        },
        {
          "name": "stdout",
          "output_type": "stream",
          "text": [
            "\n",
            "      Epoch    GPU_mem   box_loss   cls_loss   dfl_loss  Instances       Size\n"
          ]
        },
        {
          "name": "stderr",
          "output_type": "stream",
          "text": [
            "     87/100      2.47G      1.031     0.5505      1.072         19        640: 100%|██████████| 63/63 [00:18<00:00,  3.33it/s]\n",
            "                 Class     Images  Instances      Box(P          R      mAP50  mAP50-95): 100%|██████████| 6/6 [00:01<00:00,  4.39it/s]"
          ]
        },
        {
          "name": "stdout",
          "output_type": "stream",
          "text": [
            "                   all        175        156      0.929      0.801      0.866      0.326\n"
          ]
        },
        {
          "name": "stderr",
          "output_type": "stream",
          "text": [
            "\n"
          ]
        },
        {
          "name": "stdout",
          "output_type": "stream",
          "text": [
            "\n",
            "      Epoch    GPU_mem   box_loss   cls_loss   dfl_loss  Instances       Size\n"
          ]
        },
        {
          "name": "stderr",
          "output_type": "stream",
          "text": [
            "     88/100      2.47G      1.025     0.5529      1.086         22        640: 100%|██████████| 63/63 [00:17<00:00,  3.54it/s]\n",
            "                 Class     Images  Instances      Box(P          R      mAP50  mAP50-95): 100%|██████████| 6/6 [00:01<00:00,  3.85it/s]\n"
          ]
        },
        {
          "name": "stdout",
          "output_type": "stream",
          "text": [
            "                   all        175        156      0.932      0.796      0.862      0.318\n",
            "\n",
            "      Epoch    GPU_mem   box_loss   cls_loss   dfl_loss  Instances       Size\n"
          ]
        },
        {
          "name": "stderr",
          "output_type": "stream",
          "text": [
            "     89/100      2.47G     0.9992     0.5706      1.077         20        640: 100%|██████████| 63/63 [00:18<00:00,  3.33it/s]\n",
            "                 Class     Images  Instances      Box(P          R      mAP50  mAP50-95): 100%|██████████| 6/6 [00:01<00:00,  4.03it/s]"
          ]
        },
        {
          "name": "stdout",
          "output_type": "stream",
          "text": [
            "                   all        175        156      0.954      0.801      0.864      0.327\n"
          ]
        },
        {
          "name": "stderr",
          "output_type": "stream",
          "text": [
            "\n"
          ]
        },
        {
          "name": "stdout",
          "output_type": "stream",
          "text": [
            "\n",
            "      Epoch    GPU_mem   box_loss   cls_loss   dfl_loss  Instances       Size\n"
          ]
        },
        {
          "name": "stderr",
          "output_type": "stream",
          "text": [
            "     90/100      2.47G      1.002     0.5451      1.071          9        640: 100%|██████████| 63/63 [00:18<00:00,  3.34it/s]\n",
            "                 Class     Images  Instances      Box(P          R      mAP50  mAP50-95): 100%|██████████| 6/6 [00:01<00:00,  4.43it/s]"
          ]
        },
        {
          "name": "stdout",
          "output_type": "stream",
          "text": [
            "                   all        175        156      0.933      0.799       0.86      0.303\n"
          ]
        },
        {
          "name": "stderr",
          "output_type": "stream",
          "text": [
            "\n"
          ]
        },
        {
          "name": "stdout",
          "output_type": "stream",
          "text": [
            "Closing dataloader mosaic\n",
            "\u001b[34m\u001b[1malbumentations: \u001b[0mBlur(p=0.01, blur_limit=(3, 7)), MedianBlur(p=0.01, blur_limit=(3, 7)), ToGray(p=0.01, num_output_channels=3, method='weighted_average'), CLAHE(p=0.01, clip_limit=(1.0, 4.0), tile_grid_size=(8, 8))\n",
            "\n",
            "      Epoch    GPU_mem   box_loss   cls_loss   dfl_loss  Instances       Size\n"
          ]
        },
        {
          "name": "stderr",
          "output_type": "stream",
          "text": [
            "     91/100      2.47G        0.9      0.443      1.029          5        640: 100%|██████████| 63/63 [00:17<00:00,  3.60it/s]\n",
            "                 Class     Images  Instances      Box(P          R      mAP50  mAP50-95): 100%|██████████| 6/6 [00:01<00:00,  4.36it/s]"
          ]
        },
        {
          "name": "stdout",
          "output_type": "stream",
          "text": [
            "                   all        175        156      0.926      0.782      0.861      0.332\n"
          ]
        },
        {
          "name": "stderr",
          "output_type": "stream",
          "text": [
            "\n"
          ]
        },
        {
          "name": "stdout",
          "output_type": "stream",
          "text": [
            "\n",
            "      Epoch    GPU_mem   box_loss   cls_loss   dfl_loss  Instances       Size\n"
          ]
        },
        {
          "name": "stderr",
          "output_type": "stream",
          "text": [
            "     92/100      2.47G     0.8999     0.4449      1.023          1        640: 100%|██████████| 63/63 [00:16<00:00,  3.88it/s]\n",
            "                 Class     Images  Instances      Box(P          R      mAP50  mAP50-95): 100%|██████████| 6/6 [00:01<00:00,  3.41it/s]"
          ]
        },
        {
          "name": "stdout",
          "output_type": "stream",
          "text": [
            "                   all        175        156      0.936      0.795      0.861      0.325\n"
          ]
        },
        {
          "name": "stderr",
          "output_type": "stream",
          "text": [
            "\n"
          ]
        },
        {
          "name": "stdout",
          "output_type": "stream",
          "text": [
            "\n",
            "      Epoch    GPU_mem   box_loss   cls_loss   dfl_loss  Instances       Size\n"
          ]
        },
        {
          "name": "stderr",
          "output_type": "stream",
          "text": [
            "     93/100      2.47G     0.8984     0.4283       1.02          8        640: 100%|██████████| 63/63 [00:15<00:00,  4.01it/s]\n",
            "                 Class     Images  Instances      Box(P          R      mAP50  mAP50-95): 100%|██████████| 6/6 [00:01<00:00,  4.77it/s]"
          ]
        },
        {
          "name": "stdout",
          "output_type": "stream",
          "text": [
            "                   all        175        156      0.924      0.795      0.862      0.324\n"
          ]
        },
        {
          "name": "stderr",
          "output_type": "stream",
          "text": [
            "\n"
          ]
        },
        {
          "name": "stdout",
          "output_type": "stream",
          "text": [
            "\n",
            "      Epoch    GPU_mem   box_loss   cls_loss   dfl_loss  Instances       Size\n"
          ]
        },
        {
          "name": "stderr",
          "output_type": "stream",
          "text": [
            "     94/100      2.47G     0.8918     0.4207      1.019          5        640: 100%|██████████| 63/63 [00:15<00:00,  4.02it/s]\n",
            "                 Class     Images  Instances      Box(P          R      mAP50  mAP50-95): 100%|██████████| 6/6 [00:01<00:00,  4.79it/s]"
          ]
        },
        {
          "name": "stdout",
          "output_type": "stream",
          "text": [
            "                   all        175        156      0.915      0.795      0.867      0.322\n"
          ]
        },
        {
          "name": "stderr",
          "output_type": "stream",
          "text": [
            "\n"
          ]
        },
        {
          "name": "stdout",
          "output_type": "stream",
          "text": [
            "\n",
            "      Epoch    GPU_mem   box_loss   cls_loss   dfl_loss  Instances       Size\n"
          ]
        },
        {
          "name": "stderr",
          "output_type": "stream",
          "text": [
            "     95/100      2.47G     0.8563      0.427      1.002          4        640: 100%|██████████| 63/63 [00:16<00:00,  3.77it/s]\n",
            "                 Class     Images  Instances      Box(P          R      mAP50  mAP50-95): 100%|██████████| 6/6 [00:01<00:00,  5.07it/s]"
          ]
        },
        {
          "name": "stdout",
          "output_type": "stream",
          "text": [
            "                   all        175        156      0.967      0.776      0.886      0.343\n"
          ]
        },
        {
          "name": "stderr",
          "output_type": "stream",
          "text": [
            "\n"
          ]
        },
        {
          "name": "stdout",
          "output_type": "stream",
          "text": [
            "\n",
            "      Epoch    GPU_mem   box_loss   cls_loss   dfl_loss  Instances       Size\n"
          ]
        },
        {
          "name": "stderr",
          "output_type": "stream",
          "text": [
            "     96/100      2.47G     0.8726     0.4132     0.9941          8        640: 100%|██████████| 63/63 [00:15<00:00,  4.00it/s]\n",
            "                 Class     Images  Instances      Box(P          R      mAP50  mAP50-95): 100%|██████████| 6/6 [00:01<00:00,  5.07it/s]"
          ]
        },
        {
          "name": "stdout",
          "output_type": "stream",
          "text": [
            "                   all        175        156      0.925      0.788      0.854      0.284\n"
          ]
        },
        {
          "name": "stderr",
          "output_type": "stream",
          "text": [
            "\n"
          ]
        },
        {
          "name": "stdout",
          "output_type": "stream",
          "text": [
            "\n",
            "      Epoch    GPU_mem   box_loss   cls_loss   dfl_loss  Instances       Size\n"
          ]
        },
        {
          "name": "stderr",
          "output_type": "stream",
          "text": [
            "     97/100      2.47G     0.8991     0.4234      1.016          5        640: 100%|██████████| 63/63 [00:15<00:00,  3.98it/s]\n",
            "                 Class     Images  Instances      Box(P          R      mAP50  mAP50-95): 100%|██████████| 6/6 [00:02<00:00,  2.91it/s]"
          ]
        },
        {
          "name": "stdout",
          "output_type": "stream",
          "text": [
            "                   all        175        156      0.939      0.808       0.87       0.32\n"
          ]
        },
        {
          "name": "stderr",
          "output_type": "stream",
          "text": [
            "\n"
          ]
        },
        {
          "name": "stdout",
          "output_type": "stream",
          "text": [
            "\n",
            "      Epoch    GPU_mem   box_loss   cls_loss   dfl_loss  Instances       Size\n"
          ]
        },
        {
          "name": "stderr",
          "output_type": "stream",
          "text": [
            "     98/100      2.47G     0.8799     0.4126      1.007          2        640: 100%|██████████| 63/63 [00:15<00:00,  4.00it/s]\n",
            "                 Class     Images  Instances      Box(P          R      mAP50  mAP50-95): 100%|██████████| 6/6 [00:01<00:00,  4.84it/s]"
          ]
        },
        {
          "name": "stdout",
          "output_type": "stream",
          "text": [
            "                   all        175        156      0.925      0.788      0.866      0.294\n"
          ]
        },
        {
          "name": "stderr",
          "output_type": "stream",
          "text": [
            "\n"
          ]
        },
        {
          "name": "stdout",
          "output_type": "stream",
          "text": [
            "\n",
            "      Epoch    GPU_mem   box_loss   cls_loss   dfl_loss  Instances       Size\n"
          ]
        },
        {
          "name": "stderr",
          "output_type": "stream",
          "text": [
            "     99/100      2.47G      0.883     0.4173      1.028          3        640: 100%|██████████| 63/63 [00:15<00:00,  3.99it/s]\n",
            "                 Class     Images  Instances      Box(P          R      mAP50  mAP50-95): 100%|██████████| 6/6 [00:01<00:00,  4.90it/s]"
          ]
        },
        {
          "name": "stdout",
          "output_type": "stream",
          "text": [
            "                   all        175        156      0.932      0.794      0.867      0.314\n"
          ]
        },
        {
          "name": "stderr",
          "output_type": "stream",
          "text": [
            "\n"
          ]
        },
        {
          "name": "stdout",
          "output_type": "stream",
          "text": [
            "\n",
            "      Epoch    GPU_mem   box_loss   cls_loss   dfl_loss  Instances       Size\n"
          ]
        },
        {
          "name": "stderr",
          "output_type": "stream",
          "text": [
            "    100/100      2.47G     0.8829      0.423      1.022          9        640: 100%|██████████| 63/63 [00:16<00:00,  3.80it/s]\n",
            "                 Class     Images  Instances      Box(P          R      mAP50  mAP50-95): 100%|██████████| 6/6 [00:01<00:00,  4.48it/s]"
          ]
        },
        {
          "name": "stdout",
          "output_type": "stream",
          "text": [
            "                   all        175        156       0.94      0.788      0.872      0.325\n"
          ]
        },
        {
          "name": "stderr",
          "output_type": "stream",
          "text": [
            "\n"
          ]
        },
        {
          "name": "stdout",
          "output_type": "stream",
          "text": [
            "\n",
            "100 epochs completed in 0.566 hours.\n",
            "Optimizer stripped from runs/detect/train3/weights/last.pt, 18.5MB\n",
            "Optimizer stripped from runs/detect/train3/weights/best.pt, 18.5MB\n",
            "\n",
            "Validating runs/detect/train3/weights/best.pt...\n",
            "Ultralytics 8.3.108 🚀 Python-3.11.12 torch-2.6.0+cu124 CUDA:0 (Tesla T4, 15095MiB)\n",
            "YOLOv5s summary (fused): 84 layers, 9,111,923 parameters, 0 gradients, 23.8 GFLOPs\n"
          ]
        },
        {
          "name": "stderr",
          "output_type": "stream",
          "text": [
            "                 Class     Images  Instances      Box(P          R      mAP50  mAP50-95): 100%|██████████| 6/6 [00:01<00:00,  3.20it/s]\n"
          ]
        },
        {
          "name": "stdout",
          "output_type": "stream",
          "text": [
            "                   all        175        156      0.947      0.827      0.878      0.382\n",
            "Speed: 0.2ms preprocess, 2.3ms inference, 0.0ms loss, 2.6ms postprocess per image\n",
            "Results saved to \u001b[1mruns/detect/train3\u001b[0m\n"
          ]
        }
      ],
      "source": [
        "results = model.train(cfg=\"datasets/cfg.yaml\")"
      ]
    },
    {
      "cell_type": "markdown",
      "metadata": {
        "id": "zx3rw0h_Fe6Y"
      },
      "source": [
        "Zapisuje model"
      ]
    },
    {
      "cell_type": "code",
      "execution_count": null,
      "metadata": {
        "id": "THytcQ-xFe6Z"
      },
      "outputs": [],
      "source": [
        "model.save(\"moj_yolov5.pt\")"
      ]
    },
    {
      "cell_type": "markdown",
      "metadata": {
        "id": "WEGp9EZDLKVR"
      },
      "source": [
        "Zipuje katalog runs"
      ]
    },
    {
      "cell_type": "code",
      "execution_count": null,
      "metadata": {
        "colab": {
          "base_uri": "https://localhost:8080/"
        },
        "id": "Lje3ooH1jLJ9",
        "outputId": "2534a926-963d-47bf-9c73-2b079b80245e"
      },
      "outputs": [
        {
          "name": "stdout",
          "output_type": "stream",
          "text": [
            "Folder /content/runs został spakowany do /content/runs.zip\n"
          ]
        }
      ],
      "source": [
        "folder_to_zip = '/content/runs'\n",
        "\n",
        "output_zip_file = '/content/runs.zip'\n",
        "\n",
        "try:\n",
        "  shutil.make_archive(output_zip_file.replace('.zip', ''), 'zip', folder_to_zip)\n",
        "except FileNotFoundError:\n",
        "  print(\"Plik nie został znaleziony\")\n",
        "\n",
        "\n",
        "print(f\"Folder {folder_to_zip} został spakowany do {output_zip_file}\")"
      ]
    },
    {
      "cell_type": "markdown",
      "metadata": {
        "id": "ctjoaV7FFe6Z"
      },
      "source": [
        "---"
      ]
    }
  ],
  "metadata": {
    "accelerator": "GPU",
    "colab": {
      "gpuType": "T4",
      "provenance": []
    },
    "kernelspec": {
      "display_name": "pytorch",
      "language": "python",
      "name": "python3"
    },
    "language_info": {
      "codemirror_mode": {
        "name": "ipython",
        "version": 3
      },
      "file_extension": ".py",
      "mimetype": "text/x-python",
      "name": "python",
      "nbconvert_exporter": "python",
      "pygments_lexer": "ipython3",
      "version": "3.12.8"
    }
  },
  "nbformat": 4,
  "nbformat_minor": 0
}
